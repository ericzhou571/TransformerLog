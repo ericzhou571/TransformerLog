{
  "nbformat": 4,
  "nbformat_minor": 0,
  "metadata": {
    "colab": {
      "name": "openstack pytorch_lighting_version.ipynb",
      "provenance": [],
      "collapsed_sections": []
    },
    "kernelspec": {
      "display_name": "Python 3",
      "language": "python",
      "name": "python3"
    },
    "language_info": {
      "codemirror_mode": {
        "name": "ipython",
        "version": 3
      },
      "file_extension": ".py",
      "mimetype": "text/x-python",
      "name": "python",
      "nbconvert_exporter": "python",
      "pygments_lexer": "ipython3",
      "version": "3.8.3"
    },
    "widgets": {
      "application/vnd.jupyter.widget-state+json": {
        "f3ddec601f2d4d96bd0829bd2bf075b8": {
          "model_module": "@jupyter-widgets/controls",
          "model_name": "HBoxModel",
          "model_module_version": "1.5.0",
          "state": {
            "_view_name": "HBoxView",
            "_dom_classes": [],
            "_model_name": "HBoxModel",
            "_view_module": "@jupyter-widgets/controls",
            "_model_module_version": "1.5.0",
            "_view_count": null,
            "_view_module_version": "1.5.0",
            "box_style": "",
            "layout": "IPY_MODEL_5352e58ca78849449341621cb8281bce",
            "_model_module": "@jupyter-widgets/controls",
            "children": [
              "IPY_MODEL_8af1bfb34ae84b66a8622df5a031212b",
              "IPY_MODEL_a0c393e66f0a47659060f32baa113315"
            ]
          }
        },
        "5352e58ca78849449341621cb8281bce": {
          "model_module": "@jupyter-widgets/base",
          "model_name": "LayoutModel",
          "model_module_version": "1.2.0",
          "state": {
            "_view_name": "LayoutView",
            "grid_template_rows": null,
            "right": null,
            "justify_content": null,
            "_view_module": "@jupyter-widgets/base",
            "overflow": null,
            "_model_module_version": "1.2.0",
            "_view_count": null,
            "flex_flow": "row wrap",
            "width": "100%",
            "min_width": null,
            "border": null,
            "align_items": null,
            "bottom": null,
            "_model_module": "@jupyter-widgets/base",
            "top": null,
            "grid_column": null,
            "overflow_y": null,
            "overflow_x": null,
            "grid_auto_flow": null,
            "grid_area": null,
            "grid_template_columns": null,
            "flex": null,
            "_model_name": "LayoutModel",
            "justify_items": null,
            "grid_row": null,
            "max_height": null,
            "align_content": null,
            "visibility": null,
            "align_self": null,
            "height": null,
            "min_height": null,
            "padding": null,
            "grid_auto_rows": null,
            "grid_gap": null,
            "max_width": null,
            "order": null,
            "_view_module_version": "1.2.0",
            "grid_template_areas": null,
            "object_position": null,
            "object_fit": null,
            "grid_auto_columns": null,
            "margin": null,
            "display": "inline-flex",
            "left": null
          }
        },
        "8af1bfb34ae84b66a8622df5a031212b": {
          "model_module": "@jupyter-widgets/controls",
          "model_name": "FloatProgressModel",
          "model_module_version": "1.5.0",
          "state": {
            "_view_name": "ProgressView",
            "style": "IPY_MODEL_b4c725c952b747f783c47da5dc76bfb5",
            "_dom_classes": [],
            "description": "Epoch 99: 100%",
            "_model_name": "FloatProgressModel",
            "bar_style": "success",
            "max": 66,
            "_view_module": "@jupyter-widgets/controls",
            "_model_module_version": "1.5.0",
            "value": 66,
            "_view_count": null,
            "_view_module_version": "1.5.0",
            "orientation": "horizontal",
            "min": 0,
            "description_tooltip": null,
            "_model_module": "@jupyter-widgets/controls",
            "layout": "IPY_MODEL_4db68b25b598417b8cbc99f7f20786b5"
          }
        },
        "a0c393e66f0a47659060f32baa113315": {
          "model_module": "@jupyter-widgets/controls",
          "model_name": "HTMLModel",
          "model_module_version": "1.5.0",
          "state": {
            "_view_name": "HTMLView",
            "style": "IPY_MODEL_389e16e58a8b4f338e1b9e70a8e56be0",
            "_dom_classes": [],
            "description": "",
            "_model_name": "HTMLModel",
            "placeholder": "​",
            "_view_module": "@jupyter-widgets/controls",
            "_model_module_version": "1.5.0",
            "value": " 66/66 [00:02&lt;00:00, 26.08it/s, loss=0.0881, v_num=0, my_loss_step=0.0584, my_loss_epoch=0.116]",
            "_view_count": null,
            "_view_module_version": "1.5.0",
            "description_tooltip": null,
            "_model_module": "@jupyter-widgets/controls",
            "layout": "IPY_MODEL_a692e77d975e4cafa12340acdbf835ea"
          }
        },
        "b4c725c952b747f783c47da5dc76bfb5": {
          "model_module": "@jupyter-widgets/controls",
          "model_name": "ProgressStyleModel",
          "model_module_version": "1.5.0",
          "state": {
            "_view_name": "StyleView",
            "_model_name": "ProgressStyleModel",
            "description_width": "initial",
            "_view_module": "@jupyter-widgets/base",
            "_model_module_version": "1.5.0",
            "_view_count": null,
            "_view_module_version": "1.2.0",
            "bar_color": null,
            "_model_module": "@jupyter-widgets/controls"
          }
        },
        "4db68b25b598417b8cbc99f7f20786b5": {
          "model_module": "@jupyter-widgets/base",
          "model_name": "LayoutModel",
          "model_module_version": "1.2.0",
          "state": {
            "_view_name": "LayoutView",
            "grid_template_rows": null,
            "right": null,
            "justify_content": null,
            "_view_module": "@jupyter-widgets/base",
            "overflow": null,
            "_model_module_version": "1.2.0",
            "_view_count": null,
            "flex_flow": null,
            "width": null,
            "min_width": null,
            "border": null,
            "align_items": null,
            "bottom": null,
            "_model_module": "@jupyter-widgets/base",
            "top": null,
            "grid_column": null,
            "overflow_y": null,
            "overflow_x": null,
            "grid_auto_flow": null,
            "grid_area": null,
            "grid_template_columns": null,
            "flex": "2",
            "_model_name": "LayoutModel",
            "justify_items": null,
            "grid_row": null,
            "max_height": null,
            "align_content": null,
            "visibility": null,
            "align_self": null,
            "height": null,
            "min_height": null,
            "padding": null,
            "grid_auto_rows": null,
            "grid_gap": null,
            "max_width": null,
            "order": null,
            "_view_module_version": "1.2.0",
            "grid_template_areas": null,
            "object_position": null,
            "object_fit": null,
            "grid_auto_columns": null,
            "margin": null,
            "display": null,
            "left": null
          }
        },
        "389e16e58a8b4f338e1b9e70a8e56be0": {
          "model_module": "@jupyter-widgets/controls",
          "model_name": "DescriptionStyleModel",
          "model_module_version": "1.5.0",
          "state": {
            "_view_name": "StyleView",
            "_model_name": "DescriptionStyleModel",
            "description_width": "",
            "_view_module": "@jupyter-widgets/base",
            "_model_module_version": "1.5.0",
            "_view_count": null,
            "_view_module_version": "1.2.0",
            "_model_module": "@jupyter-widgets/controls"
          }
        },
        "a692e77d975e4cafa12340acdbf835ea": {
          "model_module": "@jupyter-widgets/base",
          "model_name": "LayoutModel",
          "model_module_version": "1.2.0",
          "state": {
            "_view_name": "LayoutView",
            "grid_template_rows": null,
            "right": null,
            "justify_content": null,
            "_view_module": "@jupyter-widgets/base",
            "overflow": null,
            "_model_module_version": "1.2.0",
            "_view_count": null,
            "flex_flow": null,
            "width": null,
            "min_width": null,
            "border": null,
            "align_items": null,
            "bottom": null,
            "_model_module": "@jupyter-widgets/base",
            "top": null,
            "grid_column": null,
            "overflow_y": null,
            "overflow_x": null,
            "grid_auto_flow": null,
            "grid_area": null,
            "grid_template_columns": null,
            "flex": null,
            "_model_name": "LayoutModel",
            "justify_items": null,
            "grid_row": null,
            "max_height": null,
            "align_content": null,
            "visibility": null,
            "align_self": null,
            "height": null,
            "min_height": null,
            "padding": null,
            "grid_auto_rows": null,
            "grid_gap": null,
            "max_width": null,
            "order": null,
            "_view_module_version": "1.2.0",
            "grid_template_areas": null,
            "object_position": null,
            "object_fit": null,
            "grid_auto_columns": null,
            "margin": null,
            "display": null,
            "left": null
          }
        },
        "aff3020c578b49e789e82af633c1e058": {
          "model_module": "@jupyter-widgets/controls",
          "model_name": "HBoxModel",
          "model_module_version": "1.5.0",
          "state": {
            "_view_name": "HBoxView",
            "_dom_classes": [],
            "_model_name": "HBoxModel",
            "_view_module": "@jupyter-widgets/controls",
            "_model_module_version": "1.5.0",
            "_view_count": null,
            "_view_module_version": "1.5.0",
            "box_style": "",
            "layout": "IPY_MODEL_9b4722d9dcfb42cfbb72eeb8b55f3699",
            "_model_module": "@jupyter-widgets/controls",
            "children": [
              "IPY_MODEL_6d4815a3231244b6a26e6e71b78ecb48",
              "IPY_MODEL_e5c26071007743b2867ffab4a32142af"
            ]
          }
        },
        "9b4722d9dcfb42cfbb72eeb8b55f3699": {
          "model_module": "@jupyter-widgets/base",
          "model_name": "LayoutModel",
          "model_module_version": "1.2.0",
          "state": {
            "_view_name": "LayoutView",
            "grid_template_rows": null,
            "right": null,
            "justify_content": null,
            "_view_module": "@jupyter-widgets/base",
            "overflow": null,
            "_model_module_version": "1.2.0",
            "_view_count": null,
            "flex_flow": null,
            "width": null,
            "min_width": null,
            "border": null,
            "align_items": null,
            "bottom": null,
            "_model_module": "@jupyter-widgets/base",
            "top": null,
            "grid_column": null,
            "overflow_y": null,
            "overflow_x": null,
            "grid_auto_flow": null,
            "grid_area": null,
            "grid_template_columns": null,
            "flex": null,
            "_model_name": "LayoutModel",
            "justify_items": null,
            "grid_row": null,
            "max_height": null,
            "align_content": null,
            "visibility": null,
            "align_self": null,
            "height": null,
            "min_height": null,
            "padding": null,
            "grid_auto_rows": null,
            "grid_gap": null,
            "max_width": null,
            "order": null,
            "_view_module_version": "1.2.0",
            "grid_template_areas": null,
            "object_position": null,
            "object_fit": null,
            "grid_auto_columns": null,
            "margin": null,
            "display": null,
            "left": null
          }
        },
        "6d4815a3231244b6a26e6e71b78ecb48": {
          "model_module": "@jupyter-widgets/controls",
          "model_name": "FloatProgressModel",
          "model_module_version": "1.5.0",
          "state": {
            "_view_name": "ProgressView",
            "style": "IPY_MODEL_3a618ce636e74838885752de57c3afc2",
            "_dom_classes": [],
            "description": "100%",
            "_model_name": "FloatProgressModel",
            "bar_style": "success",
            "max": 1513,
            "_view_module": "@jupyter-widgets/controls",
            "_model_module_version": "1.5.0",
            "value": 1513,
            "_view_count": null,
            "_view_module_version": "1.5.0",
            "orientation": "horizontal",
            "min": 0,
            "description_tooltip": null,
            "_model_module": "@jupyter-widgets/controls",
            "layout": "IPY_MODEL_d82a526c5b4b4828bd5cbce30bcce00e"
          }
        },
        "e5c26071007743b2867ffab4a32142af": {
          "model_module": "@jupyter-widgets/controls",
          "model_name": "HTMLModel",
          "model_module_version": "1.5.0",
          "state": {
            "_view_name": "HTMLView",
            "style": "IPY_MODEL_fa5ed116d0264bbebb7b76b6c36e2632",
            "_dom_classes": [],
            "description": "",
            "_model_name": "HTMLModel",
            "placeholder": "​",
            "_view_module": "@jupyter-widgets/controls",
            "_model_module_version": "1.5.0",
            "value": " 1513/1513 [00:05&lt;00:00, 261.47it/s]",
            "_view_count": null,
            "_view_module_version": "1.5.0",
            "description_tooltip": null,
            "_model_module": "@jupyter-widgets/controls",
            "layout": "IPY_MODEL_9d7c044c7283486d883fbfb1b92fef36"
          }
        },
        "3a618ce636e74838885752de57c3afc2": {
          "model_module": "@jupyter-widgets/controls",
          "model_name": "ProgressStyleModel",
          "model_module_version": "1.5.0",
          "state": {
            "_view_name": "StyleView",
            "_model_name": "ProgressStyleModel",
            "description_width": "initial",
            "_view_module": "@jupyter-widgets/base",
            "_model_module_version": "1.5.0",
            "_view_count": null,
            "_view_module_version": "1.2.0",
            "bar_color": null,
            "_model_module": "@jupyter-widgets/controls"
          }
        },
        "d82a526c5b4b4828bd5cbce30bcce00e": {
          "model_module": "@jupyter-widgets/base",
          "model_name": "LayoutModel",
          "model_module_version": "1.2.0",
          "state": {
            "_view_name": "LayoutView",
            "grid_template_rows": null,
            "right": null,
            "justify_content": null,
            "_view_module": "@jupyter-widgets/base",
            "overflow": null,
            "_model_module_version": "1.2.0",
            "_view_count": null,
            "flex_flow": null,
            "width": null,
            "min_width": null,
            "border": null,
            "align_items": null,
            "bottom": null,
            "_model_module": "@jupyter-widgets/base",
            "top": null,
            "grid_column": null,
            "overflow_y": null,
            "overflow_x": null,
            "grid_auto_flow": null,
            "grid_area": null,
            "grid_template_columns": null,
            "flex": null,
            "_model_name": "LayoutModel",
            "justify_items": null,
            "grid_row": null,
            "max_height": null,
            "align_content": null,
            "visibility": null,
            "align_self": null,
            "height": null,
            "min_height": null,
            "padding": null,
            "grid_auto_rows": null,
            "grid_gap": null,
            "max_width": null,
            "order": null,
            "_view_module_version": "1.2.0",
            "grid_template_areas": null,
            "object_position": null,
            "object_fit": null,
            "grid_auto_columns": null,
            "margin": null,
            "display": null,
            "left": null
          }
        },
        "fa5ed116d0264bbebb7b76b6c36e2632": {
          "model_module": "@jupyter-widgets/controls",
          "model_name": "DescriptionStyleModel",
          "model_module_version": "1.5.0",
          "state": {
            "_view_name": "StyleView",
            "_model_name": "DescriptionStyleModel",
            "description_width": "",
            "_view_module": "@jupyter-widgets/base",
            "_model_module_version": "1.5.0",
            "_view_count": null,
            "_view_module_version": "1.2.0",
            "_model_module": "@jupyter-widgets/controls"
          }
        },
        "9d7c044c7283486d883fbfb1b92fef36": {
          "model_module": "@jupyter-widgets/base",
          "model_name": "LayoutModel",
          "model_module_version": "1.2.0",
          "state": {
            "_view_name": "LayoutView",
            "grid_template_rows": null,
            "right": null,
            "justify_content": null,
            "_view_module": "@jupyter-widgets/base",
            "overflow": null,
            "_model_module_version": "1.2.0",
            "_view_count": null,
            "flex_flow": null,
            "width": null,
            "min_width": null,
            "border": null,
            "align_items": null,
            "bottom": null,
            "_model_module": "@jupyter-widgets/base",
            "top": null,
            "grid_column": null,
            "overflow_y": null,
            "overflow_x": null,
            "grid_auto_flow": null,
            "grid_area": null,
            "grid_template_columns": null,
            "flex": null,
            "_model_name": "LayoutModel",
            "justify_items": null,
            "grid_row": null,
            "max_height": null,
            "align_content": null,
            "visibility": null,
            "align_self": null,
            "height": null,
            "min_height": null,
            "padding": null,
            "grid_auto_rows": null,
            "grid_gap": null,
            "max_width": null,
            "order": null,
            "_view_module_version": "1.2.0",
            "grid_template_areas": null,
            "object_position": null,
            "object_fit": null,
            "grid_auto_columns": null,
            "margin": null,
            "display": null,
            "left": null
          }
        },
        "9ef19d2661904e24bb16b61c39e7b70e": {
          "model_module": "@jupyter-widgets/controls",
          "model_name": "HBoxModel",
          "model_module_version": "1.5.0",
          "state": {
            "_view_name": "HBoxView",
            "_dom_classes": [],
            "_model_name": "HBoxModel",
            "_view_module": "@jupyter-widgets/controls",
            "_model_module_version": "1.5.0",
            "_view_count": null,
            "_view_module_version": "1.5.0",
            "box_style": "",
            "layout": "IPY_MODEL_11aa74bca7914440b744066ca321fb13",
            "_model_module": "@jupyter-widgets/controls",
            "children": [
              "IPY_MODEL_43333ac36aab4bbab798c90261f577cc",
              "IPY_MODEL_8b722565dd7f408f8ff55480983386ff"
            ]
          }
        },
        "11aa74bca7914440b744066ca321fb13": {
          "model_module": "@jupyter-widgets/base",
          "model_name": "LayoutModel",
          "model_module_version": "1.2.0",
          "state": {
            "_view_name": "LayoutView",
            "grid_template_rows": null,
            "right": null,
            "justify_content": null,
            "_view_module": "@jupyter-widgets/base",
            "overflow": null,
            "_model_module_version": "1.2.0",
            "_view_count": null,
            "flex_flow": null,
            "width": null,
            "min_width": null,
            "border": null,
            "align_items": null,
            "bottom": null,
            "_model_module": "@jupyter-widgets/base",
            "top": null,
            "grid_column": null,
            "overflow_y": null,
            "overflow_x": null,
            "grid_auto_flow": null,
            "grid_area": null,
            "grid_template_columns": null,
            "flex": null,
            "_model_name": "LayoutModel",
            "justify_items": null,
            "grid_row": null,
            "max_height": null,
            "align_content": null,
            "visibility": null,
            "align_self": null,
            "height": null,
            "min_height": null,
            "padding": null,
            "grid_auto_rows": null,
            "grid_gap": null,
            "max_width": null,
            "order": null,
            "_view_module_version": "1.2.0",
            "grid_template_areas": null,
            "object_position": null,
            "object_fit": null,
            "grid_auto_columns": null,
            "margin": null,
            "display": null,
            "left": null
          }
        },
        "43333ac36aab4bbab798c90261f577cc": {
          "model_module": "@jupyter-widgets/controls",
          "model_name": "FloatProgressModel",
          "model_module_version": "1.5.0",
          "state": {
            "_view_name": "ProgressView",
            "style": "IPY_MODEL_ffe34b9365ff4e26abb0196da0692919",
            "_dom_classes": [],
            "description": "100%",
            "_model_name": "FloatProgressModel",
            "bar_style": "success",
            "max": 1513,
            "_view_module": "@jupyter-widgets/controls",
            "_model_module_version": "1.5.0",
            "value": 1513,
            "_view_count": null,
            "_view_module_version": "1.5.0",
            "orientation": "horizontal",
            "min": 0,
            "description_tooltip": null,
            "_model_module": "@jupyter-widgets/controls",
            "layout": "IPY_MODEL_82b83e56870e40eba1e4d70301d5b3ae"
          }
        },
        "8b722565dd7f408f8ff55480983386ff": {
          "model_module": "@jupyter-widgets/controls",
          "model_name": "HTMLModel",
          "model_module_version": "1.5.0",
          "state": {
            "_view_name": "HTMLView",
            "style": "IPY_MODEL_2b9ced559f1b48b8ba6a9df31f67861b",
            "_dom_classes": [],
            "description": "",
            "_model_name": "HTMLModel",
            "placeholder": "​",
            "_view_module": "@jupyter-widgets/controls",
            "_model_module_version": "1.5.0",
            "value": " 1513/1513 [00:00&lt;00:00, 21998.30it/s]",
            "_view_count": null,
            "_view_module_version": "1.5.0",
            "description_tooltip": null,
            "_model_module": "@jupyter-widgets/controls",
            "layout": "IPY_MODEL_932b873962114df2ac79d2cae069f50e"
          }
        },
        "ffe34b9365ff4e26abb0196da0692919": {
          "model_module": "@jupyter-widgets/controls",
          "model_name": "ProgressStyleModel",
          "model_module_version": "1.5.0",
          "state": {
            "_view_name": "StyleView",
            "_model_name": "ProgressStyleModel",
            "description_width": "initial",
            "_view_module": "@jupyter-widgets/base",
            "_model_module_version": "1.5.0",
            "_view_count": null,
            "_view_module_version": "1.2.0",
            "bar_color": null,
            "_model_module": "@jupyter-widgets/controls"
          }
        },
        "82b83e56870e40eba1e4d70301d5b3ae": {
          "model_module": "@jupyter-widgets/base",
          "model_name": "LayoutModel",
          "model_module_version": "1.2.0",
          "state": {
            "_view_name": "LayoutView",
            "grid_template_rows": null,
            "right": null,
            "justify_content": null,
            "_view_module": "@jupyter-widgets/base",
            "overflow": null,
            "_model_module_version": "1.2.0",
            "_view_count": null,
            "flex_flow": null,
            "width": null,
            "min_width": null,
            "border": null,
            "align_items": null,
            "bottom": null,
            "_model_module": "@jupyter-widgets/base",
            "top": null,
            "grid_column": null,
            "overflow_y": null,
            "overflow_x": null,
            "grid_auto_flow": null,
            "grid_area": null,
            "grid_template_columns": null,
            "flex": null,
            "_model_name": "LayoutModel",
            "justify_items": null,
            "grid_row": null,
            "max_height": null,
            "align_content": null,
            "visibility": null,
            "align_self": null,
            "height": null,
            "min_height": null,
            "padding": null,
            "grid_auto_rows": null,
            "grid_gap": null,
            "max_width": null,
            "order": null,
            "_view_module_version": "1.2.0",
            "grid_template_areas": null,
            "object_position": null,
            "object_fit": null,
            "grid_auto_columns": null,
            "margin": null,
            "display": null,
            "left": null
          }
        },
        "2b9ced559f1b48b8ba6a9df31f67861b": {
          "model_module": "@jupyter-widgets/controls",
          "model_name": "DescriptionStyleModel",
          "model_module_version": "1.5.0",
          "state": {
            "_view_name": "StyleView",
            "_model_name": "DescriptionStyleModel",
            "description_width": "",
            "_view_module": "@jupyter-widgets/base",
            "_model_module_version": "1.5.0",
            "_view_count": null,
            "_view_module_version": "1.2.0",
            "_model_module": "@jupyter-widgets/controls"
          }
        },
        "932b873962114df2ac79d2cae069f50e": {
          "model_module": "@jupyter-widgets/base",
          "model_name": "LayoutModel",
          "model_module_version": "1.2.0",
          "state": {
            "_view_name": "LayoutView",
            "grid_template_rows": null,
            "right": null,
            "justify_content": null,
            "_view_module": "@jupyter-widgets/base",
            "overflow": null,
            "_model_module_version": "1.2.0",
            "_view_count": null,
            "flex_flow": null,
            "width": null,
            "min_width": null,
            "border": null,
            "align_items": null,
            "bottom": null,
            "_model_module": "@jupyter-widgets/base",
            "top": null,
            "grid_column": null,
            "overflow_y": null,
            "overflow_x": null,
            "grid_auto_flow": null,
            "grid_area": null,
            "grid_template_columns": null,
            "flex": null,
            "_model_name": "LayoutModel",
            "justify_items": null,
            "grid_row": null,
            "max_height": null,
            "align_content": null,
            "visibility": null,
            "align_self": null,
            "height": null,
            "min_height": null,
            "padding": null,
            "grid_auto_rows": null,
            "grid_gap": null,
            "max_width": null,
            "order": null,
            "_view_module_version": "1.2.0",
            "grid_template_areas": null,
            "object_position": null,
            "object_fit": null,
            "grid_auto_columns": null,
            "margin": null,
            "display": null,
            "left": null
          }
        },
        "ae6971351f784ebea86c3841c4a2da99": {
          "model_module": "@jupyter-widgets/controls",
          "model_name": "HBoxModel",
          "model_module_version": "1.5.0",
          "state": {
            "_view_name": "HBoxView",
            "_dom_classes": [],
            "_model_name": "HBoxModel",
            "_view_module": "@jupyter-widgets/controls",
            "_model_module_version": "1.5.0",
            "_view_count": null,
            "_view_module_version": "1.5.0",
            "box_style": "",
            "layout": "IPY_MODEL_97cc6aa701a645b78493e2d8a3f44895",
            "_model_module": "@jupyter-widgets/controls",
            "children": [
              "IPY_MODEL_b62cc4368cb345b5adc0fe5ef0fa484f",
              "IPY_MODEL_de3d19eca97d4fa39eed129fd3b02c18"
            ]
          }
        },
        "97cc6aa701a645b78493e2d8a3f44895": {
          "model_module": "@jupyter-widgets/base",
          "model_name": "LayoutModel",
          "model_module_version": "1.2.0",
          "state": {
            "_view_name": "LayoutView",
            "grid_template_rows": null,
            "right": null,
            "justify_content": null,
            "_view_module": "@jupyter-widgets/base",
            "overflow": null,
            "_model_module_version": "1.2.0",
            "_view_count": null,
            "flex_flow": null,
            "width": null,
            "min_width": null,
            "border": null,
            "align_items": null,
            "bottom": null,
            "_model_module": "@jupyter-widgets/base",
            "top": null,
            "grid_column": null,
            "overflow_y": null,
            "overflow_x": null,
            "grid_auto_flow": null,
            "grid_area": null,
            "grid_template_columns": null,
            "flex": null,
            "_model_name": "LayoutModel",
            "justify_items": null,
            "grid_row": null,
            "max_height": null,
            "align_content": null,
            "visibility": null,
            "align_self": null,
            "height": null,
            "min_height": null,
            "padding": null,
            "grid_auto_rows": null,
            "grid_gap": null,
            "max_width": null,
            "order": null,
            "_view_module_version": "1.2.0",
            "grid_template_areas": null,
            "object_position": null,
            "object_fit": null,
            "grid_auto_columns": null,
            "margin": null,
            "display": null,
            "left": null
          }
        },
        "b62cc4368cb345b5adc0fe5ef0fa484f": {
          "model_module": "@jupyter-widgets/controls",
          "model_name": "FloatProgressModel",
          "model_module_version": "1.5.0",
          "state": {
            "_view_name": "ProgressView",
            "style": "IPY_MODEL_72b868a27772455ab7bff44952160ca4",
            "_dom_classes": [],
            "description": "100%",
            "_model_name": "FloatProgressModel",
            "bar_style": "success",
            "max": 1513,
            "_view_module": "@jupyter-widgets/controls",
            "_model_module_version": "1.5.0",
            "value": 1513,
            "_view_count": null,
            "_view_module_version": "1.5.0",
            "orientation": "horizontal",
            "min": 0,
            "description_tooltip": null,
            "_model_module": "@jupyter-widgets/controls",
            "layout": "IPY_MODEL_7fbbc5d498ed428696c015a2dd87f680"
          }
        },
        "de3d19eca97d4fa39eed129fd3b02c18": {
          "model_module": "@jupyter-widgets/controls",
          "model_name": "HTMLModel",
          "model_module_version": "1.5.0",
          "state": {
            "_view_name": "HTMLView",
            "style": "IPY_MODEL_ebed9110a27440c0b6b9991cca1938ed",
            "_dom_classes": [],
            "description": "",
            "_model_name": "HTMLModel",
            "placeholder": "​",
            "_view_module": "@jupyter-widgets/controls",
            "_model_module_version": "1.5.0",
            "value": " 1513/1513 [00:00&lt;00:00, 8223.24it/s]",
            "_view_count": null,
            "_view_module_version": "1.5.0",
            "description_tooltip": null,
            "_model_module": "@jupyter-widgets/controls",
            "layout": "IPY_MODEL_b76b693e85e04b2fbf811086c3e1a306"
          }
        },
        "72b868a27772455ab7bff44952160ca4": {
          "model_module": "@jupyter-widgets/controls",
          "model_name": "ProgressStyleModel",
          "model_module_version": "1.5.0",
          "state": {
            "_view_name": "StyleView",
            "_model_name": "ProgressStyleModel",
            "description_width": "initial",
            "_view_module": "@jupyter-widgets/base",
            "_model_module_version": "1.5.0",
            "_view_count": null,
            "_view_module_version": "1.2.0",
            "bar_color": null,
            "_model_module": "@jupyter-widgets/controls"
          }
        },
        "7fbbc5d498ed428696c015a2dd87f680": {
          "model_module": "@jupyter-widgets/base",
          "model_name": "LayoutModel",
          "model_module_version": "1.2.0",
          "state": {
            "_view_name": "LayoutView",
            "grid_template_rows": null,
            "right": null,
            "justify_content": null,
            "_view_module": "@jupyter-widgets/base",
            "overflow": null,
            "_model_module_version": "1.2.0",
            "_view_count": null,
            "flex_flow": null,
            "width": null,
            "min_width": null,
            "border": null,
            "align_items": null,
            "bottom": null,
            "_model_module": "@jupyter-widgets/base",
            "top": null,
            "grid_column": null,
            "overflow_y": null,
            "overflow_x": null,
            "grid_auto_flow": null,
            "grid_area": null,
            "grid_template_columns": null,
            "flex": null,
            "_model_name": "LayoutModel",
            "justify_items": null,
            "grid_row": null,
            "max_height": null,
            "align_content": null,
            "visibility": null,
            "align_self": null,
            "height": null,
            "min_height": null,
            "padding": null,
            "grid_auto_rows": null,
            "grid_gap": null,
            "max_width": null,
            "order": null,
            "_view_module_version": "1.2.0",
            "grid_template_areas": null,
            "object_position": null,
            "object_fit": null,
            "grid_auto_columns": null,
            "margin": null,
            "display": null,
            "left": null
          }
        },
        "ebed9110a27440c0b6b9991cca1938ed": {
          "model_module": "@jupyter-widgets/controls",
          "model_name": "DescriptionStyleModel",
          "model_module_version": "1.5.0",
          "state": {
            "_view_name": "StyleView",
            "_model_name": "DescriptionStyleModel",
            "description_width": "",
            "_view_module": "@jupyter-widgets/base",
            "_model_module_version": "1.5.0",
            "_view_count": null,
            "_view_module_version": "1.2.0",
            "_model_module": "@jupyter-widgets/controls"
          }
        },
        "b76b693e85e04b2fbf811086c3e1a306": {
          "model_module": "@jupyter-widgets/base",
          "model_name": "LayoutModel",
          "model_module_version": "1.2.0",
          "state": {
            "_view_name": "LayoutView",
            "grid_template_rows": null,
            "right": null,
            "justify_content": null,
            "_view_module": "@jupyter-widgets/base",
            "overflow": null,
            "_model_module_version": "1.2.0",
            "_view_count": null,
            "flex_flow": null,
            "width": null,
            "min_width": null,
            "border": null,
            "align_items": null,
            "bottom": null,
            "_model_module": "@jupyter-widgets/base",
            "top": null,
            "grid_column": null,
            "overflow_y": null,
            "overflow_x": null,
            "grid_auto_flow": null,
            "grid_area": null,
            "grid_template_columns": null,
            "flex": null,
            "_model_name": "LayoutModel",
            "justify_items": null,
            "grid_row": null,
            "max_height": null,
            "align_content": null,
            "visibility": null,
            "align_self": null,
            "height": null,
            "min_height": null,
            "padding": null,
            "grid_auto_rows": null,
            "grid_gap": null,
            "max_width": null,
            "order": null,
            "_view_module_version": "1.2.0",
            "grid_template_areas": null,
            "object_position": null,
            "object_fit": null,
            "grid_auto_columns": null,
            "margin": null,
            "display": null,
            "left": null
          }
        },
        "c7922cd76e264a5e945d5c43faa97729": {
          "model_module": "@jupyter-widgets/controls",
          "model_name": "HBoxModel",
          "model_module_version": "1.5.0",
          "state": {
            "_view_name": "HBoxView",
            "_dom_classes": [],
            "_model_name": "HBoxModel",
            "_view_module": "@jupyter-widgets/controls",
            "_model_module_version": "1.5.0",
            "_view_count": null,
            "_view_module_version": "1.5.0",
            "box_style": "",
            "layout": "IPY_MODEL_1617b6202c954a0babe967c5dc4ea634",
            "_model_module": "@jupyter-widgets/controls",
            "children": [
              "IPY_MODEL_f9e0d0b343e244cc83ff621a235750de",
              "IPY_MODEL_fb3b058b95ee4eb29c0ac97558c9fff2"
            ]
          }
        },
        "1617b6202c954a0babe967c5dc4ea634": {
          "model_module": "@jupyter-widgets/base",
          "model_name": "LayoutModel",
          "model_module_version": "1.2.0",
          "state": {
            "_view_name": "LayoutView",
            "grid_template_rows": null,
            "right": null,
            "justify_content": null,
            "_view_module": "@jupyter-widgets/base",
            "overflow": null,
            "_model_module_version": "1.2.0",
            "_view_count": null,
            "flex_flow": null,
            "width": null,
            "min_width": null,
            "border": null,
            "align_items": null,
            "bottom": null,
            "_model_module": "@jupyter-widgets/base",
            "top": null,
            "grid_column": null,
            "overflow_y": null,
            "overflow_x": null,
            "grid_auto_flow": null,
            "grid_area": null,
            "grid_template_columns": null,
            "flex": null,
            "_model_name": "LayoutModel",
            "justify_items": null,
            "grid_row": null,
            "max_height": null,
            "align_content": null,
            "visibility": null,
            "align_self": null,
            "height": null,
            "min_height": null,
            "padding": null,
            "grid_auto_rows": null,
            "grid_gap": null,
            "max_width": null,
            "order": null,
            "_view_module_version": "1.2.0",
            "grid_template_areas": null,
            "object_position": null,
            "object_fit": null,
            "grid_auto_columns": null,
            "margin": null,
            "display": null,
            "left": null
          }
        },
        "f9e0d0b343e244cc83ff621a235750de": {
          "model_module": "@jupyter-widgets/controls",
          "model_name": "FloatProgressModel",
          "model_module_version": "1.5.0",
          "state": {
            "_view_name": "ProgressView",
            "style": "IPY_MODEL_3ef2d255b0484d34acecb95dfc3db319",
            "_dom_classes": [],
            "description": "100%",
            "_model_name": "FloatProgressModel",
            "bar_style": "success",
            "max": 1513,
            "_view_module": "@jupyter-widgets/controls",
            "_model_module_version": "1.5.0",
            "value": 1513,
            "_view_count": null,
            "_view_module_version": "1.5.0",
            "orientation": "horizontal",
            "min": 0,
            "description_tooltip": null,
            "_model_module": "@jupyter-widgets/controls",
            "layout": "IPY_MODEL_7d1d30bdc0be49c68e10f6adff1c2925"
          }
        },
        "fb3b058b95ee4eb29c0ac97558c9fff2": {
          "model_module": "@jupyter-widgets/controls",
          "model_name": "HTMLModel",
          "model_module_version": "1.5.0",
          "state": {
            "_view_name": "HTMLView",
            "style": "IPY_MODEL_2e16bd6da8c94713a4a09167a35af1aa",
            "_dom_classes": [],
            "description": "",
            "_model_name": "HTMLModel",
            "placeholder": "​",
            "_view_module": "@jupyter-widgets/controls",
            "_model_module_version": "1.5.0",
            "value": " 1513/1513 [00:00&lt;00:00, 12556.90it/s]",
            "_view_count": null,
            "_view_module_version": "1.5.0",
            "description_tooltip": null,
            "_model_module": "@jupyter-widgets/controls",
            "layout": "IPY_MODEL_edc05648d65d4f48a05b1e7ae05f7420"
          }
        },
        "3ef2d255b0484d34acecb95dfc3db319": {
          "model_module": "@jupyter-widgets/controls",
          "model_name": "ProgressStyleModel",
          "model_module_version": "1.5.0",
          "state": {
            "_view_name": "StyleView",
            "_model_name": "ProgressStyleModel",
            "description_width": "initial",
            "_view_module": "@jupyter-widgets/base",
            "_model_module_version": "1.5.0",
            "_view_count": null,
            "_view_module_version": "1.2.0",
            "bar_color": null,
            "_model_module": "@jupyter-widgets/controls"
          }
        },
        "7d1d30bdc0be49c68e10f6adff1c2925": {
          "model_module": "@jupyter-widgets/base",
          "model_name": "LayoutModel",
          "model_module_version": "1.2.0",
          "state": {
            "_view_name": "LayoutView",
            "grid_template_rows": null,
            "right": null,
            "justify_content": null,
            "_view_module": "@jupyter-widgets/base",
            "overflow": null,
            "_model_module_version": "1.2.0",
            "_view_count": null,
            "flex_flow": null,
            "width": null,
            "min_width": null,
            "border": null,
            "align_items": null,
            "bottom": null,
            "_model_module": "@jupyter-widgets/base",
            "top": null,
            "grid_column": null,
            "overflow_y": null,
            "overflow_x": null,
            "grid_auto_flow": null,
            "grid_area": null,
            "grid_template_columns": null,
            "flex": null,
            "_model_name": "LayoutModel",
            "justify_items": null,
            "grid_row": null,
            "max_height": null,
            "align_content": null,
            "visibility": null,
            "align_self": null,
            "height": null,
            "min_height": null,
            "padding": null,
            "grid_auto_rows": null,
            "grid_gap": null,
            "max_width": null,
            "order": null,
            "_view_module_version": "1.2.0",
            "grid_template_areas": null,
            "object_position": null,
            "object_fit": null,
            "grid_auto_columns": null,
            "margin": null,
            "display": null,
            "left": null
          }
        },
        "2e16bd6da8c94713a4a09167a35af1aa": {
          "model_module": "@jupyter-widgets/controls",
          "model_name": "DescriptionStyleModel",
          "model_module_version": "1.5.0",
          "state": {
            "_view_name": "StyleView",
            "_model_name": "DescriptionStyleModel",
            "description_width": "",
            "_view_module": "@jupyter-widgets/base",
            "_model_module_version": "1.5.0",
            "_view_count": null,
            "_view_module_version": "1.2.0",
            "_model_module": "@jupyter-widgets/controls"
          }
        },
        "edc05648d65d4f48a05b1e7ae05f7420": {
          "model_module": "@jupyter-widgets/base",
          "model_name": "LayoutModel",
          "model_module_version": "1.2.0",
          "state": {
            "_view_name": "LayoutView",
            "grid_template_rows": null,
            "right": null,
            "justify_content": null,
            "_view_module": "@jupyter-widgets/base",
            "overflow": null,
            "_model_module_version": "1.2.0",
            "_view_count": null,
            "flex_flow": null,
            "width": null,
            "min_width": null,
            "border": null,
            "align_items": null,
            "bottom": null,
            "_model_module": "@jupyter-widgets/base",
            "top": null,
            "grid_column": null,
            "overflow_y": null,
            "overflow_x": null,
            "grid_auto_flow": null,
            "grid_area": null,
            "grid_template_columns": null,
            "flex": null,
            "_model_name": "LayoutModel",
            "justify_items": null,
            "grid_row": null,
            "max_height": null,
            "align_content": null,
            "visibility": null,
            "align_self": null,
            "height": null,
            "min_height": null,
            "padding": null,
            "grid_auto_rows": null,
            "grid_gap": null,
            "max_width": null,
            "order": null,
            "_view_module_version": "1.2.0",
            "grid_template_areas": null,
            "object_position": null,
            "object_fit": null,
            "grid_auto_columns": null,
            "margin": null,
            "display": null,
            "left": null
          }
        },
        "979925eacce541be9754bdc3e105825d": {
          "model_module": "@jupyter-widgets/controls",
          "model_name": "HBoxModel",
          "model_module_version": "1.5.0",
          "state": {
            "_view_name": "HBoxView",
            "_dom_classes": [],
            "_model_name": "HBoxModel",
            "_view_module": "@jupyter-widgets/controls",
            "_model_module_version": "1.5.0",
            "_view_count": null,
            "_view_module_version": "1.5.0",
            "box_style": "",
            "layout": "IPY_MODEL_b606fe6d698c4918999d62280db83012",
            "_model_module": "@jupyter-widgets/controls",
            "children": [
              "IPY_MODEL_f6c9e7629eb34a4489b072f2f4c89c7c",
              "IPY_MODEL_5149998c8123448989e01fd6cd5b7787"
            ]
          }
        },
        "b606fe6d698c4918999d62280db83012": {
          "model_module": "@jupyter-widgets/base",
          "model_name": "LayoutModel",
          "model_module_version": "1.2.0",
          "state": {
            "_view_name": "LayoutView",
            "grid_template_rows": null,
            "right": null,
            "justify_content": null,
            "_view_module": "@jupyter-widgets/base",
            "overflow": null,
            "_model_module_version": "1.2.0",
            "_view_count": null,
            "flex_flow": null,
            "width": null,
            "min_width": null,
            "border": null,
            "align_items": null,
            "bottom": null,
            "_model_module": "@jupyter-widgets/base",
            "top": null,
            "grid_column": null,
            "overflow_y": null,
            "overflow_x": null,
            "grid_auto_flow": null,
            "grid_area": null,
            "grid_template_columns": null,
            "flex": null,
            "_model_name": "LayoutModel",
            "justify_items": null,
            "grid_row": null,
            "max_height": null,
            "align_content": null,
            "visibility": null,
            "align_self": null,
            "height": null,
            "min_height": null,
            "padding": null,
            "grid_auto_rows": null,
            "grid_gap": null,
            "max_width": null,
            "order": null,
            "_view_module_version": "1.2.0",
            "grid_template_areas": null,
            "object_position": null,
            "object_fit": null,
            "grid_auto_columns": null,
            "margin": null,
            "display": null,
            "left": null
          }
        },
        "f6c9e7629eb34a4489b072f2f4c89c7c": {
          "model_module": "@jupyter-widgets/controls",
          "model_name": "FloatProgressModel",
          "model_module_version": "1.5.0",
          "state": {
            "_view_name": "ProgressView",
            "style": "IPY_MODEL_a2cef762d03947f881e6db6f95b7aa6a",
            "_dom_classes": [],
            "description": "100%",
            "_model_name": "FloatProgressModel",
            "bar_style": "success",
            "max": 1513,
            "_view_module": "@jupyter-widgets/controls",
            "_model_module_version": "1.5.0",
            "value": 1513,
            "_view_count": null,
            "_view_module_version": "1.5.0",
            "orientation": "horizontal",
            "min": 0,
            "description_tooltip": null,
            "_model_module": "@jupyter-widgets/controls",
            "layout": "IPY_MODEL_99e6667c584f45d0ba12c32d1ae08e97"
          }
        },
        "5149998c8123448989e01fd6cd5b7787": {
          "model_module": "@jupyter-widgets/controls",
          "model_name": "HTMLModel",
          "model_module_version": "1.5.0",
          "state": {
            "_view_name": "HTMLView",
            "style": "IPY_MODEL_35035e6b3f6b49ee8a9d50391a9aaf3c",
            "_dom_classes": [],
            "description": "",
            "_model_name": "HTMLModel",
            "placeholder": "​",
            "_view_module": "@jupyter-widgets/controls",
            "_model_module_version": "1.5.0",
            "value": " 1513/1513 [00:00&lt;00:00, 25172.08it/s]",
            "_view_count": null,
            "_view_module_version": "1.5.0",
            "description_tooltip": null,
            "_model_module": "@jupyter-widgets/controls",
            "layout": "IPY_MODEL_3d7fd2f7edb9491b93f8a195a1c89984"
          }
        },
        "a2cef762d03947f881e6db6f95b7aa6a": {
          "model_module": "@jupyter-widgets/controls",
          "model_name": "ProgressStyleModel",
          "model_module_version": "1.5.0",
          "state": {
            "_view_name": "StyleView",
            "_model_name": "ProgressStyleModel",
            "description_width": "initial",
            "_view_module": "@jupyter-widgets/base",
            "_model_module_version": "1.5.0",
            "_view_count": null,
            "_view_module_version": "1.2.0",
            "bar_color": null,
            "_model_module": "@jupyter-widgets/controls"
          }
        },
        "99e6667c584f45d0ba12c32d1ae08e97": {
          "model_module": "@jupyter-widgets/base",
          "model_name": "LayoutModel",
          "model_module_version": "1.2.0",
          "state": {
            "_view_name": "LayoutView",
            "grid_template_rows": null,
            "right": null,
            "justify_content": null,
            "_view_module": "@jupyter-widgets/base",
            "overflow": null,
            "_model_module_version": "1.2.0",
            "_view_count": null,
            "flex_flow": null,
            "width": null,
            "min_width": null,
            "border": null,
            "align_items": null,
            "bottom": null,
            "_model_module": "@jupyter-widgets/base",
            "top": null,
            "grid_column": null,
            "overflow_y": null,
            "overflow_x": null,
            "grid_auto_flow": null,
            "grid_area": null,
            "grid_template_columns": null,
            "flex": null,
            "_model_name": "LayoutModel",
            "justify_items": null,
            "grid_row": null,
            "max_height": null,
            "align_content": null,
            "visibility": null,
            "align_self": null,
            "height": null,
            "min_height": null,
            "padding": null,
            "grid_auto_rows": null,
            "grid_gap": null,
            "max_width": null,
            "order": null,
            "_view_module_version": "1.2.0",
            "grid_template_areas": null,
            "object_position": null,
            "object_fit": null,
            "grid_auto_columns": null,
            "margin": null,
            "display": null,
            "left": null
          }
        },
        "35035e6b3f6b49ee8a9d50391a9aaf3c": {
          "model_module": "@jupyter-widgets/controls",
          "model_name": "DescriptionStyleModel",
          "model_module_version": "1.5.0",
          "state": {
            "_view_name": "StyleView",
            "_model_name": "DescriptionStyleModel",
            "description_width": "",
            "_view_module": "@jupyter-widgets/base",
            "_model_module_version": "1.5.0",
            "_view_count": null,
            "_view_module_version": "1.2.0",
            "_model_module": "@jupyter-widgets/controls"
          }
        },
        "3d7fd2f7edb9491b93f8a195a1c89984": {
          "model_module": "@jupyter-widgets/base",
          "model_name": "LayoutModel",
          "model_module_version": "1.2.0",
          "state": {
            "_view_name": "LayoutView",
            "grid_template_rows": null,
            "right": null,
            "justify_content": null,
            "_view_module": "@jupyter-widgets/base",
            "overflow": null,
            "_model_module_version": "1.2.0",
            "_view_count": null,
            "flex_flow": null,
            "width": null,
            "min_width": null,
            "border": null,
            "align_items": null,
            "bottom": null,
            "_model_module": "@jupyter-widgets/base",
            "top": null,
            "grid_column": null,
            "overflow_y": null,
            "overflow_x": null,
            "grid_auto_flow": null,
            "grid_area": null,
            "grid_template_columns": null,
            "flex": null,
            "_model_name": "LayoutModel",
            "justify_items": null,
            "grid_row": null,
            "max_height": null,
            "align_content": null,
            "visibility": null,
            "align_self": null,
            "height": null,
            "min_height": null,
            "padding": null,
            "grid_auto_rows": null,
            "grid_gap": null,
            "max_width": null,
            "order": null,
            "_view_module_version": "1.2.0",
            "grid_template_areas": null,
            "object_position": null,
            "object_fit": null,
            "grid_auto_columns": null,
            "margin": null,
            "display": null,
            "left": null
          }
        },
        "43b55ddf0fad42009def83ac8ce08f10": {
          "model_module": "@jupyter-widgets/controls",
          "model_name": "HBoxModel",
          "model_module_version": "1.5.0",
          "state": {
            "_view_name": "HBoxView",
            "_dom_classes": [],
            "_model_name": "HBoxModel",
            "_view_module": "@jupyter-widgets/controls",
            "_model_module_version": "1.5.0",
            "_view_count": null,
            "_view_module_version": "1.5.0",
            "box_style": "",
            "layout": "IPY_MODEL_cff39fd3f5094d43bcc91795b51fb840",
            "_model_module": "@jupyter-widgets/controls",
            "children": [
              "IPY_MODEL_992c17602b974a3cb57872d14b572549",
              "IPY_MODEL_a161f48b24ee45b5b841848c5759b65d"
            ]
          }
        },
        "cff39fd3f5094d43bcc91795b51fb840": {
          "model_module": "@jupyter-widgets/base",
          "model_name": "LayoutModel",
          "model_module_version": "1.2.0",
          "state": {
            "_view_name": "LayoutView",
            "grid_template_rows": null,
            "right": null,
            "justify_content": null,
            "_view_module": "@jupyter-widgets/base",
            "overflow": null,
            "_model_module_version": "1.2.0",
            "_view_count": null,
            "flex_flow": null,
            "width": null,
            "min_width": null,
            "border": null,
            "align_items": null,
            "bottom": null,
            "_model_module": "@jupyter-widgets/base",
            "top": null,
            "grid_column": null,
            "overflow_y": null,
            "overflow_x": null,
            "grid_auto_flow": null,
            "grid_area": null,
            "grid_template_columns": null,
            "flex": null,
            "_model_name": "LayoutModel",
            "justify_items": null,
            "grid_row": null,
            "max_height": null,
            "align_content": null,
            "visibility": null,
            "align_self": null,
            "height": null,
            "min_height": null,
            "padding": null,
            "grid_auto_rows": null,
            "grid_gap": null,
            "max_width": null,
            "order": null,
            "_view_module_version": "1.2.0",
            "grid_template_areas": null,
            "object_position": null,
            "object_fit": null,
            "grid_auto_columns": null,
            "margin": null,
            "display": null,
            "left": null
          }
        },
        "992c17602b974a3cb57872d14b572549": {
          "model_module": "@jupyter-widgets/controls",
          "model_name": "FloatProgressModel",
          "model_module_version": "1.5.0",
          "state": {
            "_view_name": "ProgressView",
            "style": "IPY_MODEL_e4c14a77338541ad8009661f6110463a",
            "_dom_classes": [],
            "description": "100%",
            "_model_name": "FloatProgressModel",
            "bar_style": "success",
            "max": 1513,
            "_view_module": "@jupyter-widgets/controls",
            "_model_module_version": "1.5.0",
            "value": 1513,
            "_view_count": null,
            "_view_module_version": "1.5.0",
            "orientation": "horizontal",
            "min": 0,
            "description_tooltip": null,
            "_model_module": "@jupyter-widgets/controls",
            "layout": "IPY_MODEL_27ab54716ab24617a11c99f6859f23e6"
          }
        },
        "a161f48b24ee45b5b841848c5759b65d": {
          "model_module": "@jupyter-widgets/controls",
          "model_name": "HTMLModel",
          "model_module_version": "1.5.0",
          "state": {
            "_view_name": "HTMLView",
            "style": "IPY_MODEL_09547120895c435d8ec27782eccdeb04",
            "_dom_classes": [],
            "description": "",
            "_model_name": "HTMLModel",
            "placeholder": "​",
            "_view_module": "@jupyter-widgets/controls",
            "_model_module_version": "1.5.0",
            "value": " 1513/1513 [00:00&lt;00:00, 3421.03it/s]",
            "_view_count": null,
            "_view_module_version": "1.5.0",
            "description_tooltip": null,
            "_model_module": "@jupyter-widgets/controls",
            "layout": "IPY_MODEL_6488117d7ec343309f38aaec0cc6a3d7"
          }
        },
        "e4c14a77338541ad8009661f6110463a": {
          "model_module": "@jupyter-widgets/controls",
          "model_name": "ProgressStyleModel",
          "model_module_version": "1.5.0",
          "state": {
            "_view_name": "StyleView",
            "_model_name": "ProgressStyleModel",
            "description_width": "initial",
            "_view_module": "@jupyter-widgets/base",
            "_model_module_version": "1.5.0",
            "_view_count": null,
            "_view_module_version": "1.2.0",
            "bar_color": null,
            "_model_module": "@jupyter-widgets/controls"
          }
        },
        "27ab54716ab24617a11c99f6859f23e6": {
          "model_module": "@jupyter-widgets/base",
          "model_name": "LayoutModel",
          "model_module_version": "1.2.0",
          "state": {
            "_view_name": "LayoutView",
            "grid_template_rows": null,
            "right": null,
            "justify_content": null,
            "_view_module": "@jupyter-widgets/base",
            "overflow": null,
            "_model_module_version": "1.2.0",
            "_view_count": null,
            "flex_flow": null,
            "width": null,
            "min_width": null,
            "border": null,
            "align_items": null,
            "bottom": null,
            "_model_module": "@jupyter-widgets/base",
            "top": null,
            "grid_column": null,
            "overflow_y": null,
            "overflow_x": null,
            "grid_auto_flow": null,
            "grid_area": null,
            "grid_template_columns": null,
            "flex": null,
            "_model_name": "LayoutModel",
            "justify_items": null,
            "grid_row": null,
            "max_height": null,
            "align_content": null,
            "visibility": null,
            "align_self": null,
            "height": null,
            "min_height": null,
            "padding": null,
            "grid_auto_rows": null,
            "grid_gap": null,
            "max_width": null,
            "order": null,
            "_view_module_version": "1.2.0",
            "grid_template_areas": null,
            "object_position": null,
            "object_fit": null,
            "grid_auto_columns": null,
            "margin": null,
            "display": null,
            "left": null
          }
        },
        "09547120895c435d8ec27782eccdeb04": {
          "model_module": "@jupyter-widgets/controls",
          "model_name": "DescriptionStyleModel",
          "model_module_version": "1.5.0",
          "state": {
            "_view_name": "StyleView",
            "_model_name": "DescriptionStyleModel",
            "description_width": "",
            "_view_module": "@jupyter-widgets/base",
            "_model_module_version": "1.5.0",
            "_view_count": null,
            "_view_module_version": "1.2.0",
            "_model_module": "@jupyter-widgets/controls"
          }
        },
        "6488117d7ec343309f38aaec0cc6a3d7": {
          "model_module": "@jupyter-widgets/base",
          "model_name": "LayoutModel",
          "model_module_version": "1.2.0",
          "state": {
            "_view_name": "LayoutView",
            "grid_template_rows": null,
            "right": null,
            "justify_content": null,
            "_view_module": "@jupyter-widgets/base",
            "overflow": null,
            "_model_module_version": "1.2.0",
            "_view_count": null,
            "flex_flow": null,
            "width": null,
            "min_width": null,
            "border": null,
            "align_items": null,
            "bottom": null,
            "_model_module": "@jupyter-widgets/base",
            "top": null,
            "grid_column": null,
            "overflow_y": null,
            "overflow_x": null,
            "grid_auto_flow": null,
            "grid_area": null,
            "grid_template_columns": null,
            "flex": null,
            "_model_name": "LayoutModel",
            "justify_items": null,
            "grid_row": null,
            "max_height": null,
            "align_content": null,
            "visibility": null,
            "align_self": null,
            "height": null,
            "min_height": null,
            "padding": null,
            "grid_auto_rows": null,
            "grid_gap": null,
            "max_width": null,
            "order": null,
            "_view_module_version": "1.2.0",
            "grid_template_areas": null,
            "object_position": null,
            "object_fit": null,
            "grid_auto_columns": null,
            "margin": null,
            "display": null,
            "left": null
          }
        },
        "af728491fa3a45c8913ffd8b2fbd2494": {
          "model_module": "@jupyter-widgets/controls",
          "model_name": "HBoxModel",
          "model_module_version": "1.5.0",
          "state": {
            "_view_name": "HBoxView",
            "_dom_classes": [],
            "_model_name": "HBoxModel",
            "_view_module": "@jupyter-widgets/controls",
            "_model_module_version": "1.5.0",
            "_view_count": null,
            "_view_module_version": "1.5.0",
            "box_style": "",
            "layout": "IPY_MODEL_37c388c092204f3594ad9d3e714d2242",
            "_model_module": "@jupyter-widgets/controls",
            "children": [
              "IPY_MODEL_5c795668a4e045a7a79711d516314a9a",
              "IPY_MODEL_327c22c438824e848c2e7e8b82da436b"
            ]
          }
        },
        "37c388c092204f3594ad9d3e714d2242": {
          "model_module": "@jupyter-widgets/base",
          "model_name": "LayoutModel",
          "model_module_version": "1.2.0",
          "state": {
            "_view_name": "LayoutView",
            "grid_template_rows": null,
            "right": null,
            "justify_content": null,
            "_view_module": "@jupyter-widgets/base",
            "overflow": null,
            "_model_module_version": "1.2.0",
            "_view_count": null,
            "flex_flow": null,
            "width": null,
            "min_width": null,
            "border": null,
            "align_items": null,
            "bottom": null,
            "_model_module": "@jupyter-widgets/base",
            "top": null,
            "grid_column": null,
            "overflow_y": null,
            "overflow_x": null,
            "grid_auto_flow": null,
            "grid_area": null,
            "grid_template_columns": null,
            "flex": null,
            "_model_name": "LayoutModel",
            "justify_items": null,
            "grid_row": null,
            "max_height": null,
            "align_content": null,
            "visibility": null,
            "align_self": null,
            "height": null,
            "min_height": null,
            "padding": null,
            "grid_auto_rows": null,
            "grid_gap": null,
            "max_width": null,
            "order": null,
            "_view_module_version": "1.2.0",
            "grid_template_areas": null,
            "object_position": null,
            "object_fit": null,
            "grid_auto_columns": null,
            "margin": null,
            "display": null,
            "left": null
          }
        },
        "5c795668a4e045a7a79711d516314a9a": {
          "model_module": "@jupyter-widgets/controls",
          "model_name": "FloatProgressModel",
          "model_module_version": "1.5.0",
          "state": {
            "_view_name": "ProgressView",
            "style": "IPY_MODEL_da37259575724affa20fc45389949c70",
            "_dom_classes": [],
            "description": "100%",
            "_model_name": "FloatProgressModel",
            "bar_style": "success",
            "max": 1513,
            "_view_module": "@jupyter-widgets/controls",
            "_model_module_version": "1.5.0",
            "value": 1513,
            "_view_count": null,
            "_view_module_version": "1.5.0",
            "orientation": "horizontal",
            "min": 0,
            "description_tooltip": null,
            "_model_module": "@jupyter-widgets/controls",
            "layout": "IPY_MODEL_af8595390d3f4be793e51edcf9065299"
          }
        },
        "327c22c438824e848c2e7e8b82da436b": {
          "model_module": "@jupyter-widgets/controls",
          "model_name": "HTMLModel",
          "model_module_version": "1.5.0",
          "state": {
            "_view_name": "HTMLView",
            "style": "IPY_MODEL_b95e1f2fb4484000a628a8bc2d8d8e4e",
            "_dom_classes": [],
            "description": "",
            "_model_name": "HTMLModel",
            "placeholder": "​",
            "_view_module": "@jupyter-widgets/controls",
            "_model_module_version": "1.5.0",
            "value": " 1513/1513 [00:00&lt;00:00, 4154.06it/s]",
            "_view_count": null,
            "_view_module_version": "1.5.0",
            "description_tooltip": null,
            "_model_module": "@jupyter-widgets/controls",
            "layout": "IPY_MODEL_41ae294a272b4a85bdfeb20d417d55c3"
          }
        },
        "da37259575724affa20fc45389949c70": {
          "model_module": "@jupyter-widgets/controls",
          "model_name": "ProgressStyleModel",
          "model_module_version": "1.5.0",
          "state": {
            "_view_name": "StyleView",
            "_model_name": "ProgressStyleModel",
            "description_width": "initial",
            "_view_module": "@jupyter-widgets/base",
            "_model_module_version": "1.5.0",
            "_view_count": null,
            "_view_module_version": "1.2.0",
            "bar_color": null,
            "_model_module": "@jupyter-widgets/controls"
          }
        },
        "af8595390d3f4be793e51edcf9065299": {
          "model_module": "@jupyter-widgets/base",
          "model_name": "LayoutModel",
          "model_module_version": "1.2.0",
          "state": {
            "_view_name": "LayoutView",
            "grid_template_rows": null,
            "right": null,
            "justify_content": null,
            "_view_module": "@jupyter-widgets/base",
            "overflow": null,
            "_model_module_version": "1.2.0",
            "_view_count": null,
            "flex_flow": null,
            "width": null,
            "min_width": null,
            "border": null,
            "align_items": null,
            "bottom": null,
            "_model_module": "@jupyter-widgets/base",
            "top": null,
            "grid_column": null,
            "overflow_y": null,
            "overflow_x": null,
            "grid_auto_flow": null,
            "grid_area": null,
            "grid_template_columns": null,
            "flex": null,
            "_model_name": "LayoutModel",
            "justify_items": null,
            "grid_row": null,
            "max_height": null,
            "align_content": null,
            "visibility": null,
            "align_self": null,
            "height": null,
            "min_height": null,
            "padding": null,
            "grid_auto_rows": null,
            "grid_gap": null,
            "max_width": null,
            "order": null,
            "_view_module_version": "1.2.0",
            "grid_template_areas": null,
            "object_position": null,
            "object_fit": null,
            "grid_auto_columns": null,
            "margin": null,
            "display": null,
            "left": null
          }
        },
        "b95e1f2fb4484000a628a8bc2d8d8e4e": {
          "model_module": "@jupyter-widgets/controls",
          "model_name": "DescriptionStyleModel",
          "model_module_version": "1.5.0",
          "state": {
            "_view_name": "StyleView",
            "_model_name": "DescriptionStyleModel",
            "description_width": "",
            "_view_module": "@jupyter-widgets/base",
            "_model_module_version": "1.5.0",
            "_view_count": null,
            "_view_module_version": "1.2.0",
            "_model_module": "@jupyter-widgets/controls"
          }
        },
        "41ae294a272b4a85bdfeb20d417d55c3": {
          "model_module": "@jupyter-widgets/base",
          "model_name": "LayoutModel",
          "model_module_version": "1.2.0",
          "state": {
            "_view_name": "LayoutView",
            "grid_template_rows": null,
            "right": null,
            "justify_content": null,
            "_view_module": "@jupyter-widgets/base",
            "overflow": null,
            "_model_module_version": "1.2.0",
            "_view_count": null,
            "flex_flow": null,
            "width": null,
            "min_width": null,
            "border": null,
            "align_items": null,
            "bottom": null,
            "_model_module": "@jupyter-widgets/base",
            "top": null,
            "grid_column": null,
            "overflow_y": null,
            "overflow_x": null,
            "grid_auto_flow": null,
            "grid_area": null,
            "grid_template_columns": null,
            "flex": null,
            "_model_name": "LayoutModel",
            "justify_items": null,
            "grid_row": null,
            "max_height": null,
            "align_content": null,
            "visibility": null,
            "align_self": null,
            "height": null,
            "min_height": null,
            "padding": null,
            "grid_auto_rows": null,
            "grid_gap": null,
            "max_width": null,
            "order": null,
            "_view_module_version": "1.2.0",
            "grid_template_areas": null,
            "object_position": null,
            "object_fit": null,
            "grid_auto_columns": null,
            "margin": null,
            "display": null,
            "left": null
          }
        },
        "e0e87c9b69834c2f8144ab5f4130aee8": {
          "model_module": "@jupyter-widgets/controls",
          "model_name": "HBoxModel",
          "model_module_version": "1.5.0",
          "state": {
            "_view_name": "HBoxView",
            "_dom_classes": [],
            "_model_name": "HBoxModel",
            "_view_module": "@jupyter-widgets/controls",
            "_model_module_version": "1.5.0",
            "_view_count": null,
            "_view_module_version": "1.5.0",
            "box_style": "",
            "layout": "IPY_MODEL_b6b16697bcb74fbf80ceca82ec496aeb",
            "_model_module": "@jupyter-widgets/controls",
            "children": [
              "IPY_MODEL_5de0a7fdb0f24553a6f91ff5473861e8",
              "IPY_MODEL_6fd88e9e1ee145298745e6675e6e1957"
            ]
          }
        },
        "b6b16697bcb74fbf80ceca82ec496aeb": {
          "model_module": "@jupyter-widgets/base",
          "model_name": "LayoutModel",
          "model_module_version": "1.2.0",
          "state": {
            "_view_name": "LayoutView",
            "grid_template_rows": null,
            "right": null,
            "justify_content": null,
            "_view_module": "@jupyter-widgets/base",
            "overflow": null,
            "_model_module_version": "1.2.0",
            "_view_count": null,
            "flex_flow": null,
            "width": null,
            "min_width": null,
            "border": null,
            "align_items": null,
            "bottom": null,
            "_model_module": "@jupyter-widgets/base",
            "top": null,
            "grid_column": null,
            "overflow_y": null,
            "overflow_x": null,
            "grid_auto_flow": null,
            "grid_area": null,
            "grid_template_columns": null,
            "flex": null,
            "_model_name": "LayoutModel",
            "justify_items": null,
            "grid_row": null,
            "max_height": null,
            "align_content": null,
            "visibility": null,
            "align_self": null,
            "height": null,
            "min_height": null,
            "padding": null,
            "grid_auto_rows": null,
            "grid_gap": null,
            "max_width": null,
            "order": null,
            "_view_module_version": "1.2.0",
            "grid_template_areas": null,
            "object_position": null,
            "object_fit": null,
            "grid_auto_columns": null,
            "margin": null,
            "display": null,
            "left": null
          }
        },
        "5de0a7fdb0f24553a6f91ff5473861e8": {
          "model_module": "@jupyter-widgets/controls",
          "model_name": "FloatProgressModel",
          "model_module_version": "1.5.0",
          "state": {
            "_view_name": "ProgressView",
            "style": "IPY_MODEL_b9c5ec3711164338b0e001d9679ab107",
            "_dom_classes": [],
            "description": "100%",
            "_model_name": "FloatProgressModel",
            "bar_style": "success",
            "max": 1513,
            "_view_module": "@jupyter-widgets/controls",
            "_model_module_version": "1.5.0",
            "value": 1513,
            "_view_count": null,
            "_view_module_version": "1.5.0",
            "orientation": "horizontal",
            "min": 0,
            "description_tooltip": null,
            "_model_module": "@jupyter-widgets/controls",
            "layout": "IPY_MODEL_0211fc01867947db8e1176f079a5c37c"
          }
        },
        "6fd88e9e1ee145298745e6675e6e1957": {
          "model_module": "@jupyter-widgets/controls",
          "model_name": "HTMLModel",
          "model_module_version": "1.5.0",
          "state": {
            "_view_name": "HTMLView",
            "style": "IPY_MODEL_13e66bd388d04359a5339dcfc3b120ed",
            "_dom_classes": [],
            "description": "",
            "_model_name": "HTMLModel",
            "placeholder": "​",
            "_view_module": "@jupyter-widgets/controls",
            "_model_module_version": "1.5.0",
            "value": " 1513/1513 [00:00&lt;00:00, 5318.47it/s]",
            "_view_count": null,
            "_view_module_version": "1.5.0",
            "description_tooltip": null,
            "_model_module": "@jupyter-widgets/controls",
            "layout": "IPY_MODEL_8fcf68b44ee24c7bbda049b9ab4f131f"
          }
        },
        "b9c5ec3711164338b0e001d9679ab107": {
          "model_module": "@jupyter-widgets/controls",
          "model_name": "ProgressStyleModel",
          "model_module_version": "1.5.0",
          "state": {
            "_view_name": "StyleView",
            "_model_name": "ProgressStyleModel",
            "description_width": "initial",
            "_view_module": "@jupyter-widgets/base",
            "_model_module_version": "1.5.0",
            "_view_count": null,
            "_view_module_version": "1.2.0",
            "bar_color": null,
            "_model_module": "@jupyter-widgets/controls"
          }
        },
        "0211fc01867947db8e1176f079a5c37c": {
          "model_module": "@jupyter-widgets/base",
          "model_name": "LayoutModel",
          "model_module_version": "1.2.0",
          "state": {
            "_view_name": "LayoutView",
            "grid_template_rows": null,
            "right": null,
            "justify_content": null,
            "_view_module": "@jupyter-widgets/base",
            "overflow": null,
            "_model_module_version": "1.2.0",
            "_view_count": null,
            "flex_flow": null,
            "width": null,
            "min_width": null,
            "border": null,
            "align_items": null,
            "bottom": null,
            "_model_module": "@jupyter-widgets/base",
            "top": null,
            "grid_column": null,
            "overflow_y": null,
            "overflow_x": null,
            "grid_auto_flow": null,
            "grid_area": null,
            "grid_template_columns": null,
            "flex": null,
            "_model_name": "LayoutModel",
            "justify_items": null,
            "grid_row": null,
            "max_height": null,
            "align_content": null,
            "visibility": null,
            "align_self": null,
            "height": null,
            "min_height": null,
            "padding": null,
            "grid_auto_rows": null,
            "grid_gap": null,
            "max_width": null,
            "order": null,
            "_view_module_version": "1.2.0",
            "grid_template_areas": null,
            "object_position": null,
            "object_fit": null,
            "grid_auto_columns": null,
            "margin": null,
            "display": null,
            "left": null
          }
        },
        "13e66bd388d04359a5339dcfc3b120ed": {
          "model_module": "@jupyter-widgets/controls",
          "model_name": "DescriptionStyleModel",
          "model_module_version": "1.5.0",
          "state": {
            "_view_name": "StyleView",
            "_model_name": "DescriptionStyleModel",
            "description_width": "",
            "_view_module": "@jupyter-widgets/base",
            "_model_module_version": "1.5.0",
            "_view_count": null,
            "_view_module_version": "1.2.0",
            "_model_module": "@jupyter-widgets/controls"
          }
        },
        "8fcf68b44ee24c7bbda049b9ab4f131f": {
          "model_module": "@jupyter-widgets/base",
          "model_name": "LayoutModel",
          "model_module_version": "1.2.0",
          "state": {
            "_view_name": "LayoutView",
            "grid_template_rows": null,
            "right": null,
            "justify_content": null,
            "_view_module": "@jupyter-widgets/base",
            "overflow": null,
            "_model_module_version": "1.2.0",
            "_view_count": null,
            "flex_flow": null,
            "width": null,
            "min_width": null,
            "border": null,
            "align_items": null,
            "bottom": null,
            "_model_module": "@jupyter-widgets/base",
            "top": null,
            "grid_column": null,
            "overflow_y": null,
            "overflow_x": null,
            "grid_auto_flow": null,
            "grid_area": null,
            "grid_template_columns": null,
            "flex": null,
            "_model_name": "LayoutModel",
            "justify_items": null,
            "grid_row": null,
            "max_height": null,
            "align_content": null,
            "visibility": null,
            "align_self": null,
            "height": null,
            "min_height": null,
            "padding": null,
            "grid_auto_rows": null,
            "grid_gap": null,
            "max_width": null,
            "order": null,
            "_view_module_version": "1.2.0",
            "grid_template_areas": null,
            "object_position": null,
            "object_fit": null,
            "grid_auto_columns": null,
            "margin": null,
            "display": null,
            "left": null
          }
        },
        "fa948c6661b54f188e072baabebb8197": {
          "model_module": "@jupyter-widgets/controls",
          "model_name": "HBoxModel",
          "model_module_version": "1.5.0",
          "state": {
            "_view_name": "HBoxView",
            "_dom_classes": [],
            "_model_name": "HBoxModel",
            "_view_module": "@jupyter-widgets/controls",
            "_model_module_version": "1.5.0",
            "_view_count": null,
            "_view_module_version": "1.5.0",
            "box_style": "",
            "layout": "IPY_MODEL_20e3c85451154bb3acfe8d250d73b1d0",
            "_model_module": "@jupyter-widgets/controls",
            "children": [
              "IPY_MODEL_3f2be035c6144e199fec5ac7618e6201",
              "IPY_MODEL_dc70a95230684d1fae5edf56730b39f5"
            ]
          }
        },
        "20e3c85451154bb3acfe8d250d73b1d0": {
          "model_module": "@jupyter-widgets/base",
          "model_name": "LayoutModel",
          "model_module_version": "1.2.0",
          "state": {
            "_view_name": "LayoutView",
            "grid_template_rows": null,
            "right": null,
            "justify_content": null,
            "_view_module": "@jupyter-widgets/base",
            "overflow": null,
            "_model_module_version": "1.2.0",
            "_view_count": null,
            "flex_flow": null,
            "width": null,
            "min_width": null,
            "border": null,
            "align_items": null,
            "bottom": null,
            "_model_module": "@jupyter-widgets/base",
            "top": null,
            "grid_column": null,
            "overflow_y": null,
            "overflow_x": null,
            "grid_auto_flow": null,
            "grid_area": null,
            "grid_template_columns": null,
            "flex": null,
            "_model_name": "LayoutModel",
            "justify_items": null,
            "grid_row": null,
            "max_height": null,
            "align_content": null,
            "visibility": null,
            "align_self": null,
            "height": null,
            "min_height": null,
            "padding": null,
            "grid_auto_rows": null,
            "grid_gap": null,
            "max_width": null,
            "order": null,
            "_view_module_version": "1.2.0",
            "grid_template_areas": null,
            "object_position": null,
            "object_fit": null,
            "grid_auto_columns": null,
            "margin": null,
            "display": null,
            "left": null
          }
        },
        "3f2be035c6144e199fec5ac7618e6201": {
          "model_module": "@jupyter-widgets/controls",
          "model_name": "FloatProgressModel",
          "model_module_version": "1.5.0",
          "state": {
            "_view_name": "ProgressView",
            "style": "IPY_MODEL_6c02f44326294eec9c36a05197b6441c",
            "_dom_classes": [],
            "description": "100%",
            "_model_name": "FloatProgressModel",
            "bar_style": "success",
            "max": 1513,
            "_view_module": "@jupyter-widgets/controls",
            "_model_module_version": "1.5.0",
            "value": 1513,
            "_view_count": null,
            "_view_module_version": "1.5.0",
            "orientation": "horizontal",
            "min": 0,
            "description_tooltip": null,
            "_model_module": "@jupyter-widgets/controls",
            "layout": "IPY_MODEL_7666007e390b4b62ab650012f1e8ad61"
          }
        },
        "dc70a95230684d1fae5edf56730b39f5": {
          "model_module": "@jupyter-widgets/controls",
          "model_name": "HTMLModel",
          "model_module_version": "1.5.0",
          "state": {
            "_view_name": "HTMLView",
            "style": "IPY_MODEL_b3019634afc545ea9f2740e31e34a2d6",
            "_dom_classes": [],
            "description": "",
            "_model_name": "HTMLModel",
            "placeholder": "​",
            "_view_module": "@jupyter-widgets/controls",
            "_model_module_version": "1.5.0",
            "value": " 1513/1513 [00:00&lt;00:00, 7232.00it/s]",
            "_view_count": null,
            "_view_module_version": "1.5.0",
            "description_tooltip": null,
            "_model_module": "@jupyter-widgets/controls",
            "layout": "IPY_MODEL_e07872c99af748b6b9e2924c6d7d3177"
          }
        },
        "6c02f44326294eec9c36a05197b6441c": {
          "model_module": "@jupyter-widgets/controls",
          "model_name": "ProgressStyleModel",
          "model_module_version": "1.5.0",
          "state": {
            "_view_name": "StyleView",
            "_model_name": "ProgressStyleModel",
            "description_width": "initial",
            "_view_module": "@jupyter-widgets/base",
            "_model_module_version": "1.5.0",
            "_view_count": null,
            "_view_module_version": "1.2.0",
            "bar_color": null,
            "_model_module": "@jupyter-widgets/controls"
          }
        },
        "7666007e390b4b62ab650012f1e8ad61": {
          "model_module": "@jupyter-widgets/base",
          "model_name": "LayoutModel",
          "model_module_version": "1.2.0",
          "state": {
            "_view_name": "LayoutView",
            "grid_template_rows": null,
            "right": null,
            "justify_content": null,
            "_view_module": "@jupyter-widgets/base",
            "overflow": null,
            "_model_module_version": "1.2.0",
            "_view_count": null,
            "flex_flow": null,
            "width": null,
            "min_width": null,
            "border": null,
            "align_items": null,
            "bottom": null,
            "_model_module": "@jupyter-widgets/base",
            "top": null,
            "grid_column": null,
            "overflow_y": null,
            "overflow_x": null,
            "grid_auto_flow": null,
            "grid_area": null,
            "grid_template_columns": null,
            "flex": null,
            "_model_name": "LayoutModel",
            "justify_items": null,
            "grid_row": null,
            "max_height": null,
            "align_content": null,
            "visibility": null,
            "align_self": null,
            "height": null,
            "min_height": null,
            "padding": null,
            "grid_auto_rows": null,
            "grid_gap": null,
            "max_width": null,
            "order": null,
            "_view_module_version": "1.2.0",
            "grid_template_areas": null,
            "object_position": null,
            "object_fit": null,
            "grid_auto_columns": null,
            "margin": null,
            "display": null,
            "left": null
          }
        },
        "b3019634afc545ea9f2740e31e34a2d6": {
          "model_module": "@jupyter-widgets/controls",
          "model_name": "DescriptionStyleModel",
          "model_module_version": "1.5.0",
          "state": {
            "_view_name": "StyleView",
            "_model_name": "DescriptionStyleModel",
            "description_width": "",
            "_view_module": "@jupyter-widgets/base",
            "_model_module_version": "1.5.0",
            "_view_count": null,
            "_view_module_version": "1.2.0",
            "_model_module": "@jupyter-widgets/controls"
          }
        },
        "e07872c99af748b6b9e2924c6d7d3177": {
          "model_module": "@jupyter-widgets/base",
          "model_name": "LayoutModel",
          "model_module_version": "1.2.0",
          "state": {
            "_view_name": "LayoutView",
            "grid_template_rows": null,
            "right": null,
            "justify_content": null,
            "_view_module": "@jupyter-widgets/base",
            "overflow": null,
            "_model_module_version": "1.2.0",
            "_view_count": null,
            "flex_flow": null,
            "width": null,
            "min_width": null,
            "border": null,
            "align_items": null,
            "bottom": null,
            "_model_module": "@jupyter-widgets/base",
            "top": null,
            "grid_column": null,
            "overflow_y": null,
            "overflow_x": null,
            "grid_auto_flow": null,
            "grid_area": null,
            "grid_template_columns": null,
            "flex": null,
            "_model_name": "LayoutModel",
            "justify_items": null,
            "grid_row": null,
            "max_height": null,
            "align_content": null,
            "visibility": null,
            "align_self": null,
            "height": null,
            "min_height": null,
            "padding": null,
            "grid_auto_rows": null,
            "grid_gap": null,
            "max_width": null,
            "order": null,
            "_view_module_version": "1.2.0",
            "grid_template_areas": null,
            "object_position": null,
            "object_fit": null,
            "grid_auto_columns": null,
            "margin": null,
            "display": null,
            "left": null
          }
        },
        "4ab7e859255449338b6b24b6ca6b241a": {
          "model_module": "@jupyter-widgets/controls",
          "model_name": "HBoxModel",
          "model_module_version": "1.5.0",
          "state": {
            "_view_name": "HBoxView",
            "_dom_classes": [],
            "_model_name": "HBoxModel",
            "_view_module": "@jupyter-widgets/controls",
            "_model_module_version": "1.5.0",
            "_view_count": null,
            "_view_module_version": "1.5.0",
            "box_style": "",
            "layout": "IPY_MODEL_25224caa3a6f4d51abb32a30b6e06cd2",
            "_model_module": "@jupyter-widgets/controls",
            "children": [
              "IPY_MODEL_6c27109780964bc8a14002c744250c9a",
              "IPY_MODEL_773e8da64491470388d2b57a8a086b26"
            ]
          }
        },
        "25224caa3a6f4d51abb32a30b6e06cd2": {
          "model_module": "@jupyter-widgets/base",
          "model_name": "LayoutModel",
          "model_module_version": "1.2.0",
          "state": {
            "_view_name": "LayoutView",
            "grid_template_rows": null,
            "right": null,
            "justify_content": null,
            "_view_module": "@jupyter-widgets/base",
            "overflow": null,
            "_model_module_version": "1.2.0",
            "_view_count": null,
            "flex_flow": null,
            "width": null,
            "min_width": null,
            "border": null,
            "align_items": null,
            "bottom": null,
            "_model_module": "@jupyter-widgets/base",
            "top": null,
            "grid_column": null,
            "overflow_y": null,
            "overflow_x": null,
            "grid_auto_flow": null,
            "grid_area": null,
            "grid_template_columns": null,
            "flex": null,
            "_model_name": "LayoutModel",
            "justify_items": null,
            "grid_row": null,
            "max_height": null,
            "align_content": null,
            "visibility": null,
            "align_self": null,
            "height": null,
            "min_height": null,
            "padding": null,
            "grid_auto_rows": null,
            "grid_gap": null,
            "max_width": null,
            "order": null,
            "_view_module_version": "1.2.0",
            "grid_template_areas": null,
            "object_position": null,
            "object_fit": null,
            "grid_auto_columns": null,
            "margin": null,
            "display": null,
            "left": null
          }
        },
        "6c27109780964bc8a14002c744250c9a": {
          "model_module": "@jupyter-widgets/controls",
          "model_name": "FloatProgressModel",
          "model_module_version": "1.5.0",
          "state": {
            "_view_name": "ProgressView",
            "style": "IPY_MODEL_d5f12fb6fbce456f9acccdf3e202b674",
            "_dom_classes": [],
            "description": "100%",
            "_model_name": "FloatProgressModel",
            "bar_style": "success",
            "max": 1513,
            "_view_module": "@jupyter-widgets/controls",
            "_model_module_version": "1.5.0",
            "value": 1513,
            "_view_count": null,
            "_view_module_version": "1.5.0",
            "orientation": "horizontal",
            "min": 0,
            "description_tooltip": null,
            "_model_module": "@jupyter-widgets/controls",
            "layout": "IPY_MODEL_095147b81a1c4d648e11f622f458f6d8"
          }
        },
        "773e8da64491470388d2b57a8a086b26": {
          "model_module": "@jupyter-widgets/controls",
          "model_name": "HTMLModel",
          "model_module_version": "1.5.0",
          "state": {
            "_view_name": "HTMLView",
            "style": "IPY_MODEL_1d4094fe3d254e39ae35fb152354ea7e",
            "_dom_classes": [],
            "description": "",
            "_model_name": "HTMLModel",
            "placeholder": "​",
            "_view_module": "@jupyter-widgets/controls",
            "_model_module_version": "1.5.0",
            "value": " 1513/1513 [00:00&lt;00:00, 10442.61it/s]",
            "_view_count": null,
            "_view_module_version": "1.5.0",
            "description_tooltip": null,
            "_model_module": "@jupyter-widgets/controls",
            "layout": "IPY_MODEL_26afd606d6494cd2a275df346b58e221"
          }
        },
        "d5f12fb6fbce456f9acccdf3e202b674": {
          "model_module": "@jupyter-widgets/controls",
          "model_name": "ProgressStyleModel",
          "model_module_version": "1.5.0",
          "state": {
            "_view_name": "StyleView",
            "_model_name": "ProgressStyleModel",
            "description_width": "initial",
            "_view_module": "@jupyter-widgets/base",
            "_model_module_version": "1.5.0",
            "_view_count": null,
            "_view_module_version": "1.2.0",
            "bar_color": null,
            "_model_module": "@jupyter-widgets/controls"
          }
        },
        "095147b81a1c4d648e11f622f458f6d8": {
          "model_module": "@jupyter-widgets/base",
          "model_name": "LayoutModel",
          "model_module_version": "1.2.0",
          "state": {
            "_view_name": "LayoutView",
            "grid_template_rows": null,
            "right": null,
            "justify_content": null,
            "_view_module": "@jupyter-widgets/base",
            "overflow": null,
            "_model_module_version": "1.2.0",
            "_view_count": null,
            "flex_flow": null,
            "width": null,
            "min_width": null,
            "border": null,
            "align_items": null,
            "bottom": null,
            "_model_module": "@jupyter-widgets/base",
            "top": null,
            "grid_column": null,
            "overflow_y": null,
            "overflow_x": null,
            "grid_auto_flow": null,
            "grid_area": null,
            "grid_template_columns": null,
            "flex": null,
            "_model_name": "LayoutModel",
            "justify_items": null,
            "grid_row": null,
            "max_height": null,
            "align_content": null,
            "visibility": null,
            "align_self": null,
            "height": null,
            "min_height": null,
            "padding": null,
            "grid_auto_rows": null,
            "grid_gap": null,
            "max_width": null,
            "order": null,
            "_view_module_version": "1.2.0",
            "grid_template_areas": null,
            "object_position": null,
            "object_fit": null,
            "grid_auto_columns": null,
            "margin": null,
            "display": null,
            "left": null
          }
        },
        "1d4094fe3d254e39ae35fb152354ea7e": {
          "model_module": "@jupyter-widgets/controls",
          "model_name": "DescriptionStyleModel",
          "model_module_version": "1.5.0",
          "state": {
            "_view_name": "StyleView",
            "_model_name": "DescriptionStyleModel",
            "description_width": "",
            "_view_module": "@jupyter-widgets/base",
            "_model_module_version": "1.5.0",
            "_view_count": null,
            "_view_module_version": "1.2.0",
            "_model_module": "@jupyter-widgets/controls"
          }
        },
        "26afd606d6494cd2a275df346b58e221": {
          "model_module": "@jupyter-widgets/base",
          "model_name": "LayoutModel",
          "model_module_version": "1.2.0",
          "state": {
            "_view_name": "LayoutView",
            "grid_template_rows": null,
            "right": null,
            "justify_content": null,
            "_view_module": "@jupyter-widgets/base",
            "overflow": null,
            "_model_module_version": "1.2.0",
            "_view_count": null,
            "flex_flow": null,
            "width": null,
            "min_width": null,
            "border": null,
            "align_items": null,
            "bottom": null,
            "_model_module": "@jupyter-widgets/base",
            "top": null,
            "grid_column": null,
            "overflow_y": null,
            "overflow_x": null,
            "grid_auto_flow": null,
            "grid_area": null,
            "grid_template_columns": null,
            "flex": null,
            "_model_name": "LayoutModel",
            "justify_items": null,
            "grid_row": null,
            "max_height": null,
            "align_content": null,
            "visibility": null,
            "align_self": null,
            "height": null,
            "min_height": null,
            "padding": null,
            "grid_auto_rows": null,
            "grid_gap": null,
            "max_width": null,
            "order": null,
            "_view_module_version": "1.2.0",
            "grid_template_areas": null,
            "object_position": null,
            "object_fit": null,
            "grid_auto_columns": null,
            "margin": null,
            "display": null,
            "left": null
          }
        },
        "e11b644afc374bff935faf38dda93eca": {
          "model_module": "@jupyter-widgets/controls",
          "model_name": "HBoxModel",
          "model_module_version": "1.5.0",
          "state": {
            "_view_name": "HBoxView",
            "_dom_classes": [],
            "_model_name": "HBoxModel",
            "_view_module": "@jupyter-widgets/controls",
            "_model_module_version": "1.5.0",
            "_view_count": null,
            "_view_module_version": "1.5.0",
            "box_style": "",
            "layout": "IPY_MODEL_a4eac3941b1b4a2687b5def4f0bed9d2",
            "_model_module": "@jupyter-widgets/controls",
            "children": [
              "IPY_MODEL_c504a94c208240e38ad80686dd824237",
              "IPY_MODEL_caa84480aa64403cb713aabf5be9b4f1"
            ]
          }
        },
        "a4eac3941b1b4a2687b5def4f0bed9d2": {
          "model_module": "@jupyter-widgets/base",
          "model_name": "LayoutModel",
          "model_module_version": "1.2.0",
          "state": {
            "_view_name": "LayoutView",
            "grid_template_rows": null,
            "right": null,
            "justify_content": null,
            "_view_module": "@jupyter-widgets/base",
            "overflow": null,
            "_model_module_version": "1.2.0",
            "_view_count": null,
            "flex_flow": null,
            "width": null,
            "min_width": null,
            "border": null,
            "align_items": null,
            "bottom": null,
            "_model_module": "@jupyter-widgets/base",
            "top": null,
            "grid_column": null,
            "overflow_y": null,
            "overflow_x": null,
            "grid_auto_flow": null,
            "grid_area": null,
            "grid_template_columns": null,
            "flex": null,
            "_model_name": "LayoutModel",
            "justify_items": null,
            "grid_row": null,
            "max_height": null,
            "align_content": null,
            "visibility": null,
            "align_self": null,
            "height": null,
            "min_height": null,
            "padding": null,
            "grid_auto_rows": null,
            "grid_gap": null,
            "max_width": null,
            "order": null,
            "_view_module_version": "1.2.0",
            "grid_template_areas": null,
            "object_position": null,
            "object_fit": null,
            "grid_auto_columns": null,
            "margin": null,
            "display": null,
            "left": null
          }
        },
        "c504a94c208240e38ad80686dd824237": {
          "model_module": "@jupyter-widgets/controls",
          "model_name": "FloatProgressModel",
          "model_module_version": "1.5.0",
          "state": {
            "_view_name": "ProgressView",
            "style": "IPY_MODEL_f752563ce2ef4b7da0905198cb409cb6",
            "_dom_classes": [],
            "description": "100%",
            "_model_name": "FloatProgressModel",
            "bar_style": "success",
            "max": 1513,
            "_view_module": "@jupyter-widgets/controls",
            "_model_module_version": "1.5.0",
            "value": 1513,
            "_view_count": null,
            "_view_module_version": "1.5.0",
            "orientation": "horizontal",
            "min": 0,
            "description_tooltip": null,
            "_model_module": "@jupyter-widgets/controls",
            "layout": "IPY_MODEL_8cf6744cc41a433c991a4b49f9192086"
          }
        },
        "caa84480aa64403cb713aabf5be9b4f1": {
          "model_module": "@jupyter-widgets/controls",
          "model_name": "HTMLModel",
          "model_module_version": "1.5.0",
          "state": {
            "_view_name": "HTMLView",
            "style": "IPY_MODEL_e2472035fda342e9a253e4ee1c210824",
            "_dom_classes": [],
            "description": "",
            "_model_name": "HTMLModel",
            "placeholder": "​",
            "_view_module": "@jupyter-widgets/controls",
            "_model_module_version": "1.5.0",
            "value": " 1513/1513 [00:00&lt;00:00, 19536.14it/s]",
            "_view_count": null,
            "_view_module_version": "1.5.0",
            "description_tooltip": null,
            "_model_module": "@jupyter-widgets/controls",
            "layout": "IPY_MODEL_1fdb957ef13743059dfb0cf85bcf86a3"
          }
        },
        "f752563ce2ef4b7da0905198cb409cb6": {
          "model_module": "@jupyter-widgets/controls",
          "model_name": "ProgressStyleModel",
          "model_module_version": "1.5.0",
          "state": {
            "_view_name": "StyleView",
            "_model_name": "ProgressStyleModel",
            "description_width": "initial",
            "_view_module": "@jupyter-widgets/base",
            "_model_module_version": "1.5.0",
            "_view_count": null,
            "_view_module_version": "1.2.0",
            "bar_color": null,
            "_model_module": "@jupyter-widgets/controls"
          }
        },
        "8cf6744cc41a433c991a4b49f9192086": {
          "model_module": "@jupyter-widgets/base",
          "model_name": "LayoutModel",
          "model_module_version": "1.2.0",
          "state": {
            "_view_name": "LayoutView",
            "grid_template_rows": null,
            "right": null,
            "justify_content": null,
            "_view_module": "@jupyter-widgets/base",
            "overflow": null,
            "_model_module_version": "1.2.0",
            "_view_count": null,
            "flex_flow": null,
            "width": null,
            "min_width": null,
            "border": null,
            "align_items": null,
            "bottom": null,
            "_model_module": "@jupyter-widgets/base",
            "top": null,
            "grid_column": null,
            "overflow_y": null,
            "overflow_x": null,
            "grid_auto_flow": null,
            "grid_area": null,
            "grid_template_columns": null,
            "flex": null,
            "_model_name": "LayoutModel",
            "justify_items": null,
            "grid_row": null,
            "max_height": null,
            "align_content": null,
            "visibility": null,
            "align_self": null,
            "height": null,
            "min_height": null,
            "padding": null,
            "grid_auto_rows": null,
            "grid_gap": null,
            "max_width": null,
            "order": null,
            "_view_module_version": "1.2.0",
            "grid_template_areas": null,
            "object_position": null,
            "object_fit": null,
            "grid_auto_columns": null,
            "margin": null,
            "display": null,
            "left": null
          }
        },
        "e2472035fda342e9a253e4ee1c210824": {
          "model_module": "@jupyter-widgets/controls",
          "model_name": "DescriptionStyleModel",
          "model_module_version": "1.5.0",
          "state": {
            "_view_name": "StyleView",
            "_model_name": "DescriptionStyleModel",
            "description_width": "",
            "_view_module": "@jupyter-widgets/base",
            "_model_module_version": "1.5.0",
            "_view_count": null,
            "_view_module_version": "1.2.0",
            "_model_module": "@jupyter-widgets/controls"
          }
        },
        "1fdb957ef13743059dfb0cf85bcf86a3": {
          "model_module": "@jupyter-widgets/base",
          "model_name": "LayoutModel",
          "model_module_version": "1.2.0",
          "state": {
            "_view_name": "LayoutView",
            "grid_template_rows": null,
            "right": null,
            "justify_content": null,
            "_view_module": "@jupyter-widgets/base",
            "overflow": null,
            "_model_module_version": "1.2.0",
            "_view_count": null,
            "flex_flow": null,
            "width": null,
            "min_width": null,
            "border": null,
            "align_items": null,
            "bottom": null,
            "_model_module": "@jupyter-widgets/base",
            "top": null,
            "grid_column": null,
            "overflow_y": null,
            "overflow_x": null,
            "grid_auto_flow": null,
            "grid_area": null,
            "grid_template_columns": null,
            "flex": null,
            "_model_name": "LayoutModel",
            "justify_items": null,
            "grid_row": null,
            "max_height": null,
            "align_content": null,
            "visibility": null,
            "align_self": null,
            "height": null,
            "min_height": null,
            "padding": null,
            "grid_auto_rows": null,
            "grid_gap": null,
            "max_width": null,
            "order": null,
            "_view_module_version": "1.2.0",
            "grid_template_areas": null,
            "object_position": null,
            "object_fit": null,
            "grid_auto_columns": null,
            "margin": null,
            "display": null,
            "left": null
          }
        },
        "b1b0b5830480448bad8d2fc555217765": {
          "model_module": "@jupyter-widgets/controls",
          "model_name": "HBoxModel",
          "model_module_version": "1.5.0",
          "state": {
            "_view_name": "HBoxView",
            "_dom_classes": [],
            "_model_name": "HBoxModel",
            "_view_module": "@jupyter-widgets/controls",
            "_model_module_version": "1.5.0",
            "_view_count": null,
            "_view_module_version": "1.5.0",
            "box_style": "",
            "layout": "IPY_MODEL_5ec2fa52d43247c29211e971401d0e4e",
            "_model_module": "@jupyter-widgets/controls",
            "children": [
              "IPY_MODEL_b86445e4a12e4cbdbfd896e76bd28a03",
              "IPY_MODEL_e577d0b80dad451fb327b034f31d3e6e"
            ]
          }
        },
        "5ec2fa52d43247c29211e971401d0e4e": {
          "model_module": "@jupyter-widgets/base",
          "model_name": "LayoutModel",
          "model_module_version": "1.2.0",
          "state": {
            "_view_name": "LayoutView",
            "grid_template_rows": null,
            "right": null,
            "justify_content": null,
            "_view_module": "@jupyter-widgets/base",
            "overflow": null,
            "_model_module_version": "1.2.0",
            "_view_count": null,
            "flex_flow": null,
            "width": null,
            "min_width": null,
            "border": null,
            "align_items": null,
            "bottom": null,
            "_model_module": "@jupyter-widgets/base",
            "top": null,
            "grid_column": null,
            "overflow_y": null,
            "overflow_x": null,
            "grid_auto_flow": null,
            "grid_area": null,
            "grid_template_columns": null,
            "flex": null,
            "_model_name": "LayoutModel",
            "justify_items": null,
            "grid_row": null,
            "max_height": null,
            "align_content": null,
            "visibility": null,
            "align_self": null,
            "height": null,
            "min_height": null,
            "padding": null,
            "grid_auto_rows": null,
            "grid_gap": null,
            "max_width": null,
            "order": null,
            "_view_module_version": "1.2.0",
            "grid_template_areas": null,
            "object_position": null,
            "object_fit": null,
            "grid_auto_columns": null,
            "margin": null,
            "display": null,
            "left": null
          }
        },
        "b86445e4a12e4cbdbfd896e76bd28a03": {
          "model_module": "@jupyter-widgets/controls",
          "model_name": "FloatProgressModel",
          "model_module_version": "1.5.0",
          "state": {
            "_view_name": "ProgressView",
            "style": "IPY_MODEL_0ac76d397ff3454eaca386126498f69b",
            "_dom_classes": [],
            "description": "100%",
            "_model_name": "FloatProgressModel",
            "bar_style": "success",
            "max": 1513,
            "_view_module": "@jupyter-widgets/controls",
            "_model_module_version": "1.5.0",
            "value": 1513,
            "_view_count": null,
            "_view_module_version": "1.5.0",
            "orientation": "horizontal",
            "min": 0,
            "description_tooltip": null,
            "_model_module": "@jupyter-widgets/controls",
            "layout": "IPY_MODEL_4a74326294b644fba77a6dbe4222c957"
          }
        },
        "e577d0b80dad451fb327b034f31d3e6e": {
          "model_module": "@jupyter-widgets/controls",
          "model_name": "HTMLModel",
          "model_module_version": "1.5.0",
          "state": {
            "_view_name": "HTMLView",
            "style": "IPY_MODEL_0204954884384d85af8d276654dc3b4f",
            "_dom_classes": [],
            "description": "",
            "_model_name": "HTMLModel",
            "placeholder": "​",
            "_view_module": "@jupyter-widgets/controls",
            "_model_module_version": "1.5.0",
            "value": " 1513/1513 [00:00&lt;00:00, 7094.87it/s]",
            "_view_count": null,
            "_view_module_version": "1.5.0",
            "description_tooltip": null,
            "_model_module": "@jupyter-widgets/controls",
            "layout": "IPY_MODEL_3b227a70e8444fe38a58090de29bffea"
          }
        },
        "0ac76d397ff3454eaca386126498f69b": {
          "model_module": "@jupyter-widgets/controls",
          "model_name": "ProgressStyleModel",
          "model_module_version": "1.5.0",
          "state": {
            "_view_name": "StyleView",
            "_model_name": "ProgressStyleModel",
            "description_width": "initial",
            "_view_module": "@jupyter-widgets/base",
            "_model_module_version": "1.5.0",
            "_view_count": null,
            "_view_module_version": "1.2.0",
            "bar_color": null,
            "_model_module": "@jupyter-widgets/controls"
          }
        },
        "4a74326294b644fba77a6dbe4222c957": {
          "model_module": "@jupyter-widgets/base",
          "model_name": "LayoutModel",
          "model_module_version": "1.2.0",
          "state": {
            "_view_name": "LayoutView",
            "grid_template_rows": null,
            "right": null,
            "justify_content": null,
            "_view_module": "@jupyter-widgets/base",
            "overflow": null,
            "_model_module_version": "1.2.0",
            "_view_count": null,
            "flex_flow": null,
            "width": null,
            "min_width": null,
            "border": null,
            "align_items": null,
            "bottom": null,
            "_model_module": "@jupyter-widgets/base",
            "top": null,
            "grid_column": null,
            "overflow_y": null,
            "overflow_x": null,
            "grid_auto_flow": null,
            "grid_area": null,
            "grid_template_columns": null,
            "flex": null,
            "_model_name": "LayoutModel",
            "justify_items": null,
            "grid_row": null,
            "max_height": null,
            "align_content": null,
            "visibility": null,
            "align_self": null,
            "height": null,
            "min_height": null,
            "padding": null,
            "grid_auto_rows": null,
            "grid_gap": null,
            "max_width": null,
            "order": null,
            "_view_module_version": "1.2.0",
            "grid_template_areas": null,
            "object_position": null,
            "object_fit": null,
            "grid_auto_columns": null,
            "margin": null,
            "display": null,
            "left": null
          }
        },
        "0204954884384d85af8d276654dc3b4f": {
          "model_module": "@jupyter-widgets/controls",
          "model_name": "DescriptionStyleModel",
          "model_module_version": "1.5.0",
          "state": {
            "_view_name": "StyleView",
            "_model_name": "DescriptionStyleModel",
            "description_width": "",
            "_view_module": "@jupyter-widgets/base",
            "_model_module_version": "1.5.0",
            "_view_count": null,
            "_view_module_version": "1.2.0",
            "_model_module": "@jupyter-widgets/controls"
          }
        },
        "3b227a70e8444fe38a58090de29bffea": {
          "model_module": "@jupyter-widgets/base",
          "model_name": "LayoutModel",
          "model_module_version": "1.2.0",
          "state": {
            "_view_name": "LayoutView",
            "grid_template_rows": null,
            "right": null,
            "justify_content": null,
            "_view_module": "@jupyter-widgets/base",
            "overflow": null,
            "_model_module_version": "1.2.0",
            "_view_count": null,
            "flex_flow": null,
            "width": null,
            "min_width": null,
            "border": null,
            "align_items": null,
            "bottom": null,
            "_model_module": "@jupyter-widgets/base",
            "top": null,
            "grid_column": null,
            "overflow_y": null,
            "overflow_x": null,
            "grid_auto_flow": null,
            "grid_area": null,
            "grid_template_columns": null,
            "flex": null,
            "_model_name": "LayoutModel",
            "justify_items": null,
            "grid_row": null,
            "max_height": null,
            "align_content": null,
            "visibility": null,
            "align_self": null,
            "height": null,
            "min_height": null,
            "padding": null,
            "grid_auto_rows": null,
            "grid_gap": null,
            "max_width": null,
            "order": null,
            "_view_module_version": "1.2.0",
            "grid_template_areas": null,
            "object_position": null,
            "object_fit": null,
            "grid_auto_columns": null,
            "margin": null,
            "display": null,
            "left": null
          }
        }
      }
    },
    "accelerator": "GPU"
  },
  "cells": [
    {
      "cell_type": "markdown",
      "metadata": {
        "id": "MkSs-e1STKJo"
      },
      "source": [
        "# Train Test Transformer based log outlier detection framework\n",
        "\n",
        "\n",
        "*   Only suitable for log data that have logical relationship between neighbor logs\n",
        "    - suitable for : HDFS; Hadoop; Openstack\n",
        "    - not suitable for: BGL; Thunderbird (no obvious relationship)  \n",
        "\n",
        "\n",
        "*   Same network architecture, but different embedding size for different log system. Different network objects are separately trained for different log system\n",
        "\n",
        "\n",
        "\n",
        "\n",
        "\n",
        "\n",
        "\n",
        "\n"
      ]
    },
    {
      "cell_type": "markdown",
      "metadata": {
        "id": "P7ZgMtn2Uago"
      },
      "source": [
        "# Preparing\n",
        "\n",
        "\n",
        "*   fix bug of pytorch transformer framework\n",
        "*   Connect to Gdrive\n",
        "\n"
      ]
    },
    {
      "cell_type": "code",
      "metadata": {
        "colab": {
          "base_uri": "https://localhost:8080/"
        },
        "id": "y_DKZlV2GeP7",
        "outputId": "be67adcb-4b18-4abe-ce12-1d984082b25a"
      },
      "source": [
        "from google.colab import drive\n",
        "drive.mount('/content/drive')\n",
        "!cp /content/drive/MyDrive/openstack/functional.py /usr/local/lib/python3.7/dist-packages/torch/nn/functional.py\n",
        "#after first copy, restart the notebook\n",
        "\n",
        "\n",
        "try:\n",
        "    from pytorch_lightning.core.lightning import LightningModule\n",
        "except ModuleNotFoundError:\n",
        "    !pip install pytorch-lightning\n",
        "    from pytorch_lightning.core.lightning import LightningModule"
      ],
      "execution_count": null,
      "outputs": [
        {
          "output_type": "stream",
          "text": [
            "Mounted at /content/drive\n",
            "Collecting pytorch-lightning\n",
            "  Downloading pytorch_lightning-1.4.1-py3-none-any.whl (915 kB)\n",
            "\u001b[K     |████████████████████████████████| 915 kB 9.1 MB/s \n",
            "\u001b[?25hRequirement already satisfied: torch>=1.6 in /usr/local/lib/python3.7/dist-packages (from pytorch-lightning) (1.9.0+cu102)\n",
            "Requirement already satisfied: numpy>=1.17.2 in /usr/local/lib/python3.7/dist-packages (from pytorch-lightning) (1.19.5)\n",
            "Requirement already satisfied: packaging>=17.0 in /usr/local/lib/python3.7/dist-packages (from pytorch-lightning) (21.0)\n",
            "Requirement already satisfied: tqdm>=4.41.0 in /usr/local/lib/python3.7/dist-packages (from pytorch-lightning) (4.41.1)\n",
            "Collecting tensorboard!=2.5.0,>=2.2.0\n",
            "  Downloading tensorboard-2.6.0-py3-none-any.whl (5.6 MB)\n",
            "\u001b[K     |████████████████████████████████| 5.6 MB 27.6 MB/s \n",
            "\u001b[?25hCollecting future>=0.17.1\n",
            "  Downloading future-0.18.2.tar.gz (829 kB)\n",
            "\u001b[K     |████████████████████████████████| 829 kB 76.0 MB/s \n",
            "\u001b[?25hCollecting pyDeprecate==0.3.1\n",
            "  Downloading pyDeprecate-0.3.1-py3-none-any.whl (10 kB)\n",
            "Collecting fsspec[http]!=2021.06.0,>=2021.05.0\n",
            "  Downloading fsspec-2021.7.0-py3-none-any.whl (118 kB)\n",
            "\u001b[K     |████████████████████████████████| 118 kB 69.0 MB/s \n",
            "\u001b[?25hRequirement already satisfied: typing-extensions in /usr/local/lib/python3.7/dist-packages (from pytorch-lightning) (3.7.4.3)\n",
            "Collecting torchmetrics>=0.4.0\n",
            "  Downloading torchmetrics-0.5.0-py3-none-any.whl (272 kB)\n",
            "\u001b[K     |████████████████████████████████| 272 kB 81.4 MB/s \n",
            "\u001b[?25hCollecting PyYAML>=5.1\n",
            "  Downloading PyYAML-5.4.1-cp37-cp37m-manylinux1_x86_64.whl (636 kB)\n",
            "\u001b[K     |████████████████████████████████| 636 kB 77.1 MB/s \n",
            "\u001b[?25hCollecting aiohttp\n",
            "  Downloading aiohttp-3.7.4.post0-cp37-cp37m-manylinux2014_x86_64.whl (1.3 MB)\n",
            "\u001b[K     |████████████████████████████████| 1.3 MB 62.6 MB/s \n",
            "\u001b[?25hRequirement already satisfied: requests in /usr/local/lib/python3.7/dist-packages (from fsspec[http]!=2021.06.0,>=2021.05.0->pytorch-lightning) (2.23.0)\n",
            "Requirement already satisfied: pyparsing>=2.0.2 in /usr/local/lib/python3.7/dist-packages (from packaging>=17.0->pytorch-lightning) (2.4.7)\n",
            "Requirement already satisfied: wheel>=0.26 in /usr/local/lib/python3.7/dist-packages (from tensorboard!=2.5.0,>=2.2.0->pytorch-lightning) (0.36.2)\n",
            "Requirement already satisfied: werkzeug>=0.11.15 in /usr/local/lib/python3.7/dist-packages (from tensorboard!=2.5.0,>=2.2.0->pytorch-lightning) (1.0.1)\n",
            "Requirement already satisfied: protobuf>=3.6.0 in /usr/local/lib/python3.7/dist-packages (from tensorboard!=2.5.0,>=2.2.0->pytorch-lightning) (3.17.3)\n",
            "Requirement already satisfied: google-auth-oauthlib<0.5,>=0.4.1 in /usr/local/lib/python3.7/dist-packages (from tensorboard!=2.5.0,>=2.2.0->pytorch-lightning) (0.4.4)\n",
            "Requirement already satisfied: tensorboard-data-server<0.7.0,>=0.6.0 in /usr/local/lib/python3.7/dist-packages (from tensorboard!=2.5.0,>=2.2.0->pytorch-lightning) (0.6.1)\n",
            "Requirement already satisfied: tensorboard-plugin-wit>=1.6.0 in /usr/local/lib/python3.7/dist-packages (from tensorboard!=2.5.0,>=2.2.0->pytorch-lightning) (1.8.0)\n",
            "Requirement already satisfied: absl-py>=0.4 in /usr/local/lib/python3.7/dist-packages (from tensorboard!=2.5.0,>=2.2.0->pytorch-lightning) (0.12.0)\n",
            "Requirement already satisfied: setuptools>=41.0.0 in /usr/local/lib/python3.7/dist-packages (from tensorboard!=2.5.0,>=2.2.0->pytorch-lightning) (57.2.0)\n",
            "Requirement already satisfied: markdown>=2.6.8 in /usr/local/lib/python3.7/dist-packages (from tensorboard!=2.5.0,>=2.2.0->pytorch-lightning) (3.3.4)\n",
            "Requirement already satisfied: grpcio>=1.24.3 in /usr/local/lib/python3.7/dist-packages (from tensorboard!=2.5.0,>=2.2.0->pytorch-lightning) (1.34.1)\n",
            "Requirement already satisfied: google-auth<2,>=1.6.3 in /usr/local/lib/python3.7/dist-packages (from tensorboard!=2.5.0,>=2.2.0->pytorch-lightning) (1.32.1)\n",
            "Requirement already satisfied: six in /usr/local/lib/python3.7/dist-packages (from absl-py>=0.4->tensorboard!=2.5.0,>=2.2.0->pytorch-lightning) (1.15.0)\n",
            "Requirement already satisfied: rsa<5,>=3.1.4 in /usr/local/lib/python3.7/dist-packages (from google-auth<2,>=1.6.3->tensorboard!=2.5.0,>=2.2.0->pytorch-lightning) (4.7.2)\n",
            "Requirement already satisfied: cachetools<5.0,>=2.0.0 in /usr/local/lib/python3.7/dist-packages (from google-auth<2,>=1.6.3->tensorboard!=2.5.0,>=2.2.0->pytorch-lightning) (4.2.2)\n",
            "Requirement already satisfied: pyasn1-modules>=0.2.1 in /usr/local/lib/python3.7/dist-packages (from google-auth<2,>=1.6.3->tensorboard!=2.5.0,>=2.2.0->pytorch-lightning) (0.2.8)\n",
            "Requirement already satisfied: requests-oauthlib>=0.7.0 in /usr/local/lib/python3.7/dist-packages (from google-auth-oauthlib<0.5,>=0.4.1->tensorboard!=2.5.0,>=2.2.0->pytorch-lightning) (1.3.0)\n",
            "Requirement already satisfied: importlib-metadata in /usr/local/lib/python3.7/dist-packages (from markdown>=2.6.8->tensorboard!=2.5.0,>=2.2.0->pytorch-lightning) (4.6.1)\n",
            "Requirement already satisfied: pyasn1<0.5.0,>=0.4.6 in /usr/local/lib/python3.7/dist-packages (from pyasn1-modules>=0.2.1->google-auth<2,>=1.6.3->tensorboard!=2.5.0,>=2.2.0->pytorch-lightning) (0.4.8)\n",
            "Requirement already satisfied: certifi>=2017.4.17 in /usr/local/lib/python3.7/dist-packages (from requests->fsspec[http]!=2021.06.0,>=2021.05.0->pytorch-lightning) (2021.5.30)\n",
            "Requirement already satisfied: chardet<4,>=3.0.2 in /usr/local/lib/python3.7/dist-packages (from requests->fsspec[http]!=2021.06.0,>=2021.05.0->pytorch-lightning) (3.0.4)\n",
            "Requirement already satisfied: idna<3,>=2.5 in /usr/local/lib/python3.7/dist-packages (from requests->fsspec[http]!=2021.06.0,>=2021.05.0->pytorch-lightning) (2.10)\n",
            "Requirement already satisfied: urllib3!=1.25.0,!=1.25.1,<1.26,>=1.21.1 in /usr/local/lib/python3.7/dist-packages (from requests->fsspec[http]!=2021.06.0,>=2021.05.0->pytorch-lightning) (1.24.3)\n",
            "Requirement already satisfied: oauthlib>=3.0.0 in /usr/local/lib/python3.7/dist-packages (from requests-oauthlib>=0.7.0->google-auth-oauthlib<0.5,>=0.4.1->tensorboard!=2.5.0,>=2.2.0->pytorch-lightning) (3.1.1)\n",
            "Collecting async-timeout<4.0,>=3.0\n",
            "  Downloading async_timeout-3.0.1-py3-none-any.whl (8.2 kB)\n",
            "Requirement already satisfied: attrs>=17.3.0 in /usr/local/lib/python3.7/dist-packages (from aiohttp->fsspec[http]!=2021.06.0,>=2021.05.0->pytorch-lightning) (21.2.0)\n",
            "Collecting multidict<7.0,>=4.5\n",
            "  Downloading multidict-5.1.0-cp37-cp37m-manylinux2014_x86_64.whl (142 kB)\n",
            "\u001b[K     |████████████████████████████████| 142 kB 76.0 MB/s \n",
            "\u001b[?25hCollecting yarl<2.0,>=1.0\n",
            "  Downloading yarl-1.6.3-cp37-cp37m-manylinux2014_x86_64.whl (294 kB)\n",
            "\u001b[K     |████████████████████████████████| 294 kB 76.3 MB/s \n",
            "\u001b[?25hRequirement already satisfied: zipp>=0.5 in /usr/local/lib/python3.7/dist-packages (from importlib-metadata->markdown>=2.6.8->tensorboard!=2.5.0,>=2.2.0->pytorch-lightning) (3.5.0)\n",
            "Building wheels for collected packages: future\n",
            "  Building wheel for future (setup.py) ... \u001b[?25l\u001b[?25hdone\n",
            "  Created wheel for future: filename=future-0.18.2-py3-none-any.whl size=491070 sha256=9aafb0231cea891d9c281639cd1651e4bc2ff4b53dd5856e284894511ffa81e1\n",
            "  Stored in directory: /root/.cache/pip/wheels/56/b0/fe/4410d17b32f1f0c3cf54cdfb2bc04d7b4b8f4ae377e2229ba0\n",
            "Successfully built future\n",
            "Installing collected packages: multidict, yarl, async-timeout, fsspec, aiohttp, torchmetrics, tensorboard, PyYAML, pyDeprecate, future, pytorch-lightning\n",
            "  Attempting uninstall: tensorboard\n",
            "    Found existing installation: tensorboard 2.5.0\n",
            "    Uninstalling tensorboard-2.5.0:\n",
            "      Successfully uninstalled tensorboard-2.5.0\n",
            "  Attempting uninstall: PyYAML\n",
            "    Found existing installation: PyYAML 3.13\n",
            "    Uninstalling PyYAML-3.13:\n",
            "      Successfully uninstalled PyYAML-3.13\n",
            "  Attempting uninstall: future\n",
            "    Found existing installation: future 0.16.0\n",
            "    Uninstalling future-0.16.0:\n",
            "      Successfully uninstalled future-0.16.0\n",
            "Successfully installed PyYAML-5.4.1 aiohttp-3.7.4.post0 async-timeout-3.0.1 fsspec-2021.7.0 future-0.18.2 multidict-5.1.0 pyDeprecate-0.3.1 pytorch-lightning-1.4.1 tensorboard-2.6.0 torchmetrics-0.5.0 yarl-1.6.3\n"
          ],
          "name": "stdout"
        }
      ]
    },
    {
      "cell_type": "code",
      "metadata": {
        "id": "TBVxjbb30IMF"
      },
      "source": [
        "# from torch.nn import Transformer\n",
        "# float 16\n",
        "from pytorch_lightning.core.lightning import LightningModule\n",
        "from pytorch_lightning import LightningDataModule\n",
        "import math\n",
        "import torch\n",
        "import torch.nn as nn\n",
        "import torch.nn.functional as F\n",
        "from torch import Tensor\n",
        "from typing import Optional\n",
        "from torch.optim import Adam\n",
        "import sklearn\n",
        "\n",
        "class LogOutlier(LightningModule):\n",
        "    def __init__(self, ntoken, ninp, nhead, nhid, nlayers, dropout=0.2, padding_value = 512, target_value = 0):\n",
        "        super().__init__()\n",
        "        self.ninp = ninp\n",
        "        self.padding_value = padding_value\n",
        "        self.target_value = target_value\n",
        "        # token embedding\n",
        "        self.encoder = Embeddings(ninp, ntoken)\n",
        "        # positional encoding\n",
        "        self.pos_encoder = PositionalEncoding(ninp, dropout)\n",
        "\n",
        "        # transformer encoder\n",
        "        encoder_layers = TransformerEncoderLayerAttention(ninp, nhead, nhid, dropout)  # encoder_layer\n",
        "        self.transformer_encoder = TransformerEncoderAttention(encoder_layers, nlayers)\n",
        "\n",
        "\n",
        "\n",
        "        self.decoder = nn.Linear(ninp, ntoken)\n",
        "\n",
        "        self.init_weights()\n",
        "\n",
        "    def init_weights(self):\n",
        "        initrange = 0.1  # original 0.1\n",
        "        self.decoder.bias.data.zero_()\n",
        "        self.decoder.weight.data.uniform_(-initrange, initrange)\n",
        "\n",
        "    def forward(self, src, key_padding_mask, att_mask=None, require_attention=False, result_mask=None):\n",
        "        # att_mask : for every sequence in batch is the same\n",
        "        src = src.t()\n",
        "        # pos encoder suppose input begin with sequence length\n",
        "        src = self.encoder(src)\n",
        "\n",
        "        src = self.pos_encoder(src)\n",
        "        # attention! transformer need different input structure, first place is not batch size\n",
        "\n",
        "        output, attention_list = self.transformer_encoder(src, src_key_padding_mask=key_padding_mask, mask=att_mask)\n",
        "\n",
        "        src = None\n",
        "\n",
        "        # change back to normal shape\n",
        "        # att_mask  size(batch_size, sequence length mask)\n",
        "        output = output.permute(1, 0, 2)[result_mask]\n",
        "\n",
        "        output = self.decoder(output)\n",
        "\n",
        "        if require_attention:\n",
        "            return output, attention_list\n",
        "        else:\n",
        "            return output\n",
        "\n",
        "    def training_step(self, batch, batch_idx):\n",
        "        x, y = batch\n",
        "        src_key_padding_mask = (x == self.padding_value)\n",
        "        # mask still on same device as x\n",
        "        output_mask = (x == self.target_value)\n",
        "        logits = self(x, key_padding_mask = src_key_padding_mask, result_mask =output_mask )\n",
        "        loss_function = nn.CrossEntropyLoss()\n",
        "        loss = loss_function(logits, y)\n",
        "        self.log('my_loss', loss, on_step=True, on_epoch=True, prog_bar=True, logger=True)\n",
        "        return loss\n",
        "\n",
        "    def configure_optimizers(self):\n",
        "        return Adam(self.parameters(), lr=1e-3)\n",
        "\n",
        "\n",
        "class Embeddings(nn.Module):\n",
        "    def __init__(self, d_model, vocab):\n",
        "        # d_model = 0.25*vocab\n",
        "        super(Embeddings, self).__init__()\n",
        "        self.lut = nn.Embedding(vocab, d_model)\n",
        "        self.d_model = d_model\n",
        "        self.lut.weight.data.uniform_(-0.1, 0.1)\n",
        "\n",
        "    def forward(self, x):\n",
        "        return self.lut(x) * math.sqrt(self.d_model)\n",
        "\n",
        "\n",
        "class PositionalEncoding(nn.Module):\n",
        "    # input must be seq length\n",
        "    def __init__(self, d_model, dropout=0.1, max_len=40):\n",
        "        super(PositionalEncoding, self).__init__()\n",
        "        self.dropout = nn.Dropout(p=dropout)\n",
        "\n",
        "        pe = torch.zeros(max_len, d_model)\n",
        "        position = torch.arange(0, max_len, dtype=torch.float).unsqueeze(1)\n",
        "        div_term = torch.exp(torch.arange(0, d_model, 2).float() * (-math.log(10000.0) / d_model))\n",
        "        pe[:, 0::2] = torch.sin(position * div_term)\n",
        "        pe[:, 1::2] = torch.cos(position * div_term)\n",
        "        pe = pe.unsqueeze(0).transpose(0, 1)\n",
        "        self.register_buffer('pe', pe)\n",
        "\n",
        "    def forward(self, x):\n",
        "        x = x + self.pe[:x.size(0), :]\n",
        "        return self.dropout(x)\n",
        "\n",
        "from torch.nn import TransformerEncoder, TransformerEncoderLayer\n",
        "\n",
        "class TransformerEncoderLayerAttention(TransformerEncoderLayer):\n",
        "    def forward(self, src: Tensor, src_mask: Optional[Tensor] = None, src_key_padding_mask: Optional[Tensor] = None) :\n",
        "            r\"\"\"Pass the input through the encoder layer.\n",
        "\n",
        "            Args:\n",
        "                src: the sequence to the encoder layer (required).\n",
        "                src_mask: the mask for the src sequence (optional).\n",
        "                src_key_padding_mask: the mask for the src keys per batch (optional).\n",
        "\n",
        "            Shape:\n",
        "                see the docs in Transformer class.\n",
        "            \"\"\"\n",
        "            src2,attention_weight = self.self_attn(src, src, src, attn_mask=src_mask,\n",
        "                                key_padding_mask=src_key_padding_mask)\n",
        "            src = src + self.dropout1(src2)\n",
        "            src = self.norm1(src)\n",
        "            src2 = self.linear2(self.dropout(self.activation(self.linear1(src))))\n",
        "            src = src + self.dropout2(src2)\n",
        "            src = self.norm2(src)\n",
        "            return src, attention_weight\n",
        "\n",
        "class TransformerEncoderAttention(TransformerEncoder):\n",
        "    def forward(self, src: Tensor, mask: Optional[Tensor] = None, src_key_padding_mask: Optional[Tensor] = None):\n",
        "            r\"\"\"Pass the input through the encoder layers in turn.\n",
        "\n",
        "            Args:\n",
        "                src: the sequence to the encoder (required).\n",
        "                mask: the mask for the src sequence (optional).\n",
        "                src_key_padding_mask: the mask for the src keys per batch (optional).\n",
        "\n",
        "            Shape:\n",
        "                see the docs in Transformer class.\n",
        "            \"\"\"\n",
        "            output = src\n",
        "            attention_list = []\n",
        "\n",
        "            for mod in self.layers:\n",
        "                output,attention = mod(output, src_mask=mask, src_key_padding_mask=src_key_padding_mask)\n",
        "                attention_list.append(attention.to(torch.device('cpu')))\n",
        "                attention = None\n",
        "            if self.norm is not None:\n",
        "                output = self.norm(output)\n",
        "\n",
        "            return output,attention_list"
      ],
      "execution_count": null,
      "outputs": []
    },
    {
      "cell_type": "markdown",
      "metadata": {
        "id": "NJHLtgQlUllY"
      },
      "source": [
        "# Define Network"
      ]
    },
    {
      "cell_type": "markdown",
      "metadata": {
        "id": "U56d2CYOUoJ3"
      },
      "source": [
        "# Define Dataset Class"
      ]
    },
    {
      "cell_type": "code",
      "metadata": {
        "id": "31zDAQApmWEm"
      },
      "source": [
        "import json\n",
        "from torch.utils.data import Dataset, DataLoader\n",
        "class sequence_generator(Dataset):\n",
        "    def __init__(self,target_mask = 0, padding_number = 100, device = torch.device('cpu'), start_token = 62, end_token = 63, need_start_end = False):\n",
        "        if torch.cuda.is_available():\n",
        "            device = torch.device('cuda')\n",
        "        self.tokens = set()\n",
        "        self.sequence = {}\n",
        "        self.max_length = 0# key: instance_id value: template id sequences\n",
        "        self.target_mask = target_mask\n",
        "        self.padding_number = padding_number\n",
        "        \n",
        "        self.seq_data = []\n",
        "        self.device = device\n",
        "\n",
        "        self.start_token = start_token\n",
        "        self.end_token = end_token\n",
        "        self.need_start_end = need_start_end\n",
        "\n",
        "    \n",
        "    def single_add(self,instance_id,template_id):\n",
        "        self.tokens.update([template_id])\n",
        "        if instance_id not in self.sequence.keys():\n",
        "            self.sequence[instance_id] = []\n",
        "        self.sequence[instance_id].append(template_id)\n",
        "        #update max_length\n",
        "        self.max_length = max(self.max_length,len(self.sequence[instance_id]))\n",
        "    \n",
        "    def list_add(self,instance_id,template_id):\n",
        "        self.tokens.update(template_id)\n",
        "        for i in range(len(instance_id)):\n",
        "            if instance_id[i] not in self.sequence.keys():\n",
        "                self.sequence[instance_id[i]] = []\n",
        "            \n",
        "            self.sequence[instance_id[i]].append(template_id[i])\n",
        "            \n",
        "            self.max_length = max(self.max_length,len(self.sequence[instance_id[i]]))\n",
        "        # add start end\n",
        "        if self.need_start_end:\n",
        "            self.max_length += 2\n",
        "            for key in self.sequence.keys():\n",
        "                self.sequence[key] = [self.start_token] + self.sequence[key] + [self.end_token]               #add start and end\n",
        "\n",
        "        self.update_Dataset()\n",
        "            \n",
        "    def update_Dataset(self,seqs = None ):\n",
        "        if seqs == None:\n",
        "            seqs = self.sequence.values()\n",
        "        self.seq_data = []\n",
        "        for seq in seqs:\n",
        "            seq = [int(x) for x in seq]\n",
        "            for i in range(len(seq)):\n",
        "                tmp_seq = seq.copy()\n",
        "                tmp_target = tmp_seq[i]\n",
        "                tmp_seq[i] = self.target_mask\n",
        "\n",
        "                self.seq_data.append((tmp_seq, tmp_target))\n",
        "            #still a list\n",
        "    \n",
        "    def remove_duplicate(self):\n",
        "        tmp = [json.dumps(x) for x in self.seq_data]\n",
        "        tmp = set(tmp)\n",
        "        self.seq_data = [eval(x) for x in tmp]\n",
        "            \n",
        "    def padding(self,seq):\n",
        "        return seq+[self.padding_number]*(self.max_length-len(seq))\n",
        "    \n",
        "    #Dataset special methods\n",
        "    \n",
        "    def __len__(self):\n",
        "        return len(self.seq_data)\n",
        "    \n",
        "    def __getitem__(self,idx):\n",
        "        seq = self.seq_data[idx][0]\n",
        "        seq = self.padding(seq)\n",
        "        # save memory\n",
        "        seq = torch.tensor(seq,dtype = torch.long, device=self.device)\n",
        "        target = torch.tensor(self.seq_data[idx][1],dtype = torch.long, device = self.device)\n",
        "        return seq, target"
      ],
      "execution_count": null,
      "outputs": []
    },
    {
      "cell_type": "markdown",
      "metadata": {
        "id": "Hwn_9CsXUuK2"
      },
      "source": [
        "# Define Train Function"
      ]
    },
    {
      "cell_type": "markdown",
      "metadata": {
        "id": "4CWb6XOOU44T"
      },
      "source": [
        "# Define Outlier score calculation function\n",
        "\n",
        "*   input is list of template id; \n",
        "\n",
        "*   max_length not necessarily to be equal with train; \n",
        "*   padding and target but be same to train data\n",
        "\n",
        "\n",
        "\n"
      ]
    },
    {
      "cell_type": "code",
      "metadata": {
        "id": "aV-s3Po8h7uz"
      },
      "source": [
        "def outlier_detection_single(seq,model,max_length,padding_number,target_mask,top = 10,inspect = False,max_size = 256):\n",
        "    #prepare data\n",
        "    seq_matrix = []\n",
        "    target = []\n",
        "    seq = [int(x) for x in seq]\n",
        "    for i in range(len(seq)):\n",
        "        tmp_seq = seq.copy()\n",
        "        tmp_target = tmp_seq[i]\n",
        "        tmp_seq[i] = target_mask\n",
        "        seq_matrix.append(tmp_seq)\n",
        "        target.append(tmp_target)\n",
        "    \n",
        "    #predict\n",
        "    all_predict = []\n",
        "    device = next(model.parameters()).device\n",
        "    while len(seq_matrix)>0:\n",
        "            X = torch.tensor(seq_matrix[:max_size],device = device)\n",
        "            seq_matrix = seq_matrix[max_size:]\n",
        "            #predict\n",
        "            with torch.no_grad():\n",
        "                model.eval()\n",
        "                key_padding_mask = (X == padding_number)\n",
        "                output_mask = (X==target_mask)\n",
        "                output = model(X, key_padding_mask = key_padding_mask, result_mask =output_mask )\n",
        "                predict = torch.topk(output,top,dim = 1).indices\n",
        "                all_predict.extend(predict.tolist())\n",
        "    \n",
        "    #outlier score all_predict target\n",
        "    return all_predict, target"
      ],
      "execution_count": null,
      "outputs": []
    },
    {
      "cell_type": "code",
      "metadata": {
        "id": "BbFNJRu_MWtN"
      },
      "source": [
        "def outlier_score_calculation(all_predict, target ,top=1,relative = False, false_position = False):\n",
        "    score = 0\n",
        "    if false_position:\n",
        "        p = []\n",
        "    for i in range(len(target)):\n",
        "        if target[i] not in all_predict[i][:top+1]:\n",
        "            score+=1\n",
        "            if false_position:\n",
        "                p.append(i)\n",
        "    torch.cuda.empty_cache()\n",
        "    if relative:\n",
        "        return score/len(target)\n",
        "    else:\n",
        "        if false_position:\n",
        "            return score,p\n",
        "        else:\n",
        "            return score"
      ],
      "execution_count": null,
      "outputs": []
    },
    {
      "cell_type": "markdown",
      "metadata": {
        "id": "_k5SYpuG9bce"
      },
      "source": [
        "**Openstack**"
      ]
    },
    {
      "cell_type": "code",
      "metadata": {
        "id": "fZVxTR6r9akj"
      },
      "source": [
        "import pandas as pd\n",
        "openstack1 = pd.read_csv('/content/drive/MyDrive/openstack/openstack1.csv')\n",
        "openstack2 = pd.read_csv('/content/drive/MyDrive/openstack/openstack2.csv')\n",
        "abnormal = pd.read_csv('/content/drive/MyDrive/openstack/abnormal.csv')\n",
        "\n",
        "# train val split\n",
        "import random\n",
        "random.seed(66)\n",
        "uni_id = list(openstack1.Label.unique())\n",
        "\n",
        "train_set = openstack1[openstack1.Label.isin(uni_id)].reset_index(drop=True)\n",
        "#train_id = random.sample(uni_id,round(len(uni_id)*0.8))\n",
        "#train_set = openstack1[openstack1.Label.isin(train_id)].reset_index(drop=True)\n",
        "#test_set = openstack1[~openstack1.Label.isin(train_id)].reset_index(drop=True)"
      ],
      "execution_count": null,
      "outputs": []
    },
    {
      "cell_type": "code",
      "metadata": {
        "colab": {
          "base_uri": "https://localhost:8080/",
          "height": 1000
        },
        "id": "hQoPKkkl1hnt",
        "outputId": "f88aafcb-9db2-410e-abfa-7d951e27f1d8"
      },
      "source": [
        "openstack1.iloc[30:40]"
      ],
      "execution_count": null,
      "outputs": [
        {
          "output_type": "execute_result",
          "data": {
            "text/html": [
              "<div>\n",
              "<style scoped>\n",
              "    .dataframe tbody tr th:only-of-type {\n",
              "        vertical-align: middle;\n",
              "    }\n",
              "\n",
              "    .dataframe tbody tr th {\n",
              "        vertical-align: top;\n",
              "    }\n",
              "\n",
              "    .dataframe thead th {\n",
              "        text-align: right;\n",
              "    }\n",
              "</style>\n",
              "<table border=\"1\" class=\"dataframe\">\n",
              "  <thead>\n",
              "    <tr style=\"text-align: right;\">\n",
              "      <th></th>\n",
              "      <th>Logrecord</th>\n",
              "      <th>Date</th>\n",
              "      <th>Time</th>\n",
              "      <th>Pid</th>\n",
              "      <th>Level</th>\n",
              "      <th>Component</th>\n",
              "      <th>ADDR</th>\n",
              "      <th>Content</th>\n",
              "      <th>Label</th>\n",
              "      <th>Content_after_re</th>\n",
              "      <th>Template_id</th>\n",
              "      <th>Template_string</th>\n",
              "    </tr>\n",
              "  </thead>\n",
              "  <tbody>\n",
              "    <tr>\n",
              "      <th>30</th>\n",
              "      <td>nova-compute.log.1.2017-05-16_13:55:31</td>\n",
              "      <td>2017-05-16</td>\n",
              "      <td>00:00:44.697</td>\n",
              "      <td>2931</td>\n",
              "      <td>INFO</td>\n",
              "      <td>nova.compute.manager</td>\n",
              "      <td>req-3ea4052c-895d-4b64-9e2d-04d64c4d94ab - - -...</td>\n",
              "      <td>[instance: 96abccce-8d1f-4e07-b6d1-4b2ab87e23b...</td>\n",
              "      <td>96abccce-8d1f-4e07-b6d1-4b2ab87e23b4</td>\n",
              "      <td>&lt;*&gt; During sync_power_state the instance has a...</td>\n",
              "      <td>2</td>\n",
              "      <td>&lt;*&gt; During sync power state the instance has a...</td>\n",
              "    </tr>\n",
              "    <tr>\n",
              "      <th>31</th>\n",
              "      <td>nova-api.log.1.2017-05-16_13:53:08</td>\n",
              "      <td>2017-05-16</td>\n",
              "      <td>00:00:51.633</td>\n",
              "      <td>25743</td>\n",
              "      <td>INFO</td>\n",
              "      <td>nova.api.openstack.compute.server_external_events</td>\n",
              "      <td>req-3e22b75e-1c4f-4579-8a73-7ede40d3f955 f7b8d...</td>\n",
              "      <td>Creating event network-vif-plugged:a208479c-c0...</td>\n",
              "      <td>96abccce-8d1f-4e07-b6d1-4b2ab87e23b4</td>\n",
              "      <td>Creating event network-vif-plugged:a208479c-c0...</td>\n",
              "      <td>3</td>\n",
              "      <td>Creating event &lt;*&gt; for instance &lt;*&gt;</td>\n",
              "    </tr>\n",
              "    <tr>\n",
              "      <th>32</th>\n",
              "      <td>nova-compute.log.1.2017-05-16_13:55:31</td>\n",
              "      <td>2017-05-16</td>\n",
              "      <td>00:00:51.650</td>\n",
              "      <td>2931</td>\n",
              "      <td>INFO</td>\n",
              "      <td>nova.compute.manager</td>\n",
              "      <td>req-3ea4052c-895d-4b64-9e2d-04d64c4d94ab - - -...</td>\n",
              "      <td>[instance: 96abccce-8d1f-4e07-b6d1-4b2ab87e23b...</td>\n",
              "      <td>96abccce-8d1f-4e07-b6d1-4b2ab87e23b4</td>\n",
              "      <td>&lt;*&gt; VM Resumed (Lifecycle Event)</td>\n",
              "      <td>1</td>\n",
              "      <td>&lt;*&gt; VM &lt;*&gt; (Lifecycle Event)</td>\n",
              "    </tr>\n",
              "    <tr>\n",
              "      <th>33</th>\n",
              "      <td>nova-compute.log.1.2017-05-16_13:55:31</td>\n",
              "      <td>2017-05-16</td>\n",
              "      <td>00:00:51.658</td>\n",
              "      <td>2931</td>\n",
              "      <td>INFO</td>\n",
              "      <td>nova.virt.libvirt.driver</td>\n",
              "      <td>-</td>\n",
              "      <td>[instance: 96abccce-8d1f-4e07-b6d1-4b2ab87e23b...</td>\n",
              "      <td>96abccce-8d1f-4e07-b6d1-4b2ab87e23b4</td>\n",
              "      <td>&lt;*&gt; Instance spawned successfully.</td>\n",
              "      <td>4</td>\n",
              "      <td>&lt;*&gt; Instance &lt;*&gt; successfully.</td>\n",
              "    </tr>\n",
              "    <tr>\n",
              "      <th>34</th>\n",
              "      <td>nova-compute.log.1.2017-05-16_13:55:31</td>\n",
              "      <td>2017-05-16</td>\n",
              "      <td>00:00:51.659</td>\n",
              "      <td>2931</td>\n",
              "      <td>INFO</td>\n",
              "      <td>nova.compute.manager</td>\n",
              "      <td>req-6a763803-4838-49c7-814e-eaefbaddee9d 113d3...</td>\n",
              "      <td>[instance: 96abccce-8d1f-4e07-b6d1-4b2ab87e23b...</td>\n",
              "      <td>96abccce-8d1f-4e07-b6d1-4b2ab87e23b4</td>\n",
              "      <td>&lt;*&gt; Took 19.96 seconds to spawn the instance o...</td>\n",
              "      <td>5</td>\n",
              "      <td>&lt;*&gt; Took &lt;*&gt; seconds to &lt;*&gt; the instance on th...</td>\n",
              "    </tr>\n",
              "    <tr>\n",
              "      <th>35</th>\n",
              "      <td>nova-compute.log.1.2017-05-16_13:55:31</td>\n",
              "      <td>2017-05-16</td>\n",
              "      <td>00:00:51.770</td>\n",
              "      <td>2931</td>\n",
              "      <td>INFO</td>\n",
              "      <td>nova.compute.manager</td>\n",
              "      <td>req-3ea4052c-895d-4b64-9e2d-04d64c4d94ab - - -...</td>\n",
              "      <td>[instance: 96abccce-8d1f-4e07-b6d1-4b2ab87e23b...</td>\n",
              "      <td>96abccce-8d1f-4e07-b6d1-4b2ab87e23b4</td>\n",
              "      <td>&lt;*&gt; During sync_power_state the instance has a...</td>\n",
              "      <td>2</td>\n",
              "      <td>&lt;*&gt; During sync power state the instance has a...</td>\n",
              "    </tr>\n",
              "    <tr>\n",
              "      <th>36</th>\n",
              "      <td>nova-compute.log.1.2017-05-16_13:55:31</td>\n",
              "      <td>2017-05-16</td>\n",
              "      <td>00:00:51.771</td>\n",
              "      <td>2931</td>\n",
              "      <td>INFO</td>\n",
              "      <td>nova.compute.manager</td>\n",
              "      <td>req-3ea4052c-895d-4b64-9e2d-04d64c4d94ab - - -...</td>\n",
              "      <td>[instance: 96abccce-8d1f-4e07-b6d1-4b2ab87e23b...</td>\n",
              "      <td>96abccce-8d1f-4e07-b6d1-4b2ab87e23b4</td>\n",
              "      <td>&lt;*&gt; VM Resumed (Lifecycle Event)</td>\n",
              "      <td>1</td>\n",
              "      <td>&lt;*&gt; VM &lt;*&gt; (Lifecycle Event)</td>\n",
              "    </tr>\n",
              "    <tr>\n",
              "      <th>37</th>\n",
              "      <td>nova-compute.log.1.2017-05-16_13:55:31</td>\n",
              "      <td>2017-05-16</td>\n",
              "      <td>00:00:51.794</td>\n",
              "      <td>2931</td>\n",
              "      <td>INFO</td>\n",
              "      <td>nova.compute.manager</td>\n",
              "      <td>req-6a763803-4838-49c7-814e-eaefbaddee9d 113d3...</td>\n",
              "      <td>[instance: 96abccce-8d1f-4e07-b6d1-4b2ab87e23b...</td>\n",
              "      <td>96abccce-8d1f-4e07-b6d1-4b2ab87e23b4</td>\n",
              "      <td>&lt;*&gt; Took 20.71 seconds to build instance.</td>\n",
              "      <td>6</td>\n",
              "      <td>&lt;*&gt; Took &lt;*&gt; seconds to build instance.</td>\n",
              "    </tr>\n",
              "    <tr>\n",
              "      <th>38</th>\n",
              "      <td>nova-api.log.1.2017-05-16_13:53:08</td>\n",
              "      <td>2017-05-16</td>\n",
              "      <td>00:00:59.410</td>\n",
              "      <td>25746</td>\n",
              "      <td>INFO</td>\n",
              "      <td>nova.osapi_compute.wsgi.server</td>\n",
              "      <td>req-d473bea3-588a-441a-8b2a-a137806f8786 113d3...</td>\n",
              "      <td>10.11.10.1 \"DELETE /v2/54fadb412c4e40cdbaed933...</td>\n",
              "      <td>96abccce-8d1f-4e07-b6d1-4b2ab87e23b4</td>\n",
              "      <td>10.11.10.1 \"DELETE /v2/54fadb412c4e40cdbaed933...</td>\n",
              "      <td>7</td>\n",
              "      <td>10.11.10.1 \"DELETE &lt;*&gt; HTTP/1.1\" status: 204 l...</td>\n",
              "    </tr>\n",
              "    <tr>\n",
              "      <th>39</th>\n",
              "      <td>nova-compute.log.1.2017-05-16_13:55:31</td>\n",
              "      <td>2017-05-16</td>\n",
              "      <td>00:00:59.446</td>\n",
              "      <td>2931</td>\n",
              "      <td>INFO</td>\n",
              "      <td>nova.compute.manager</td>\n",
              "      <td>req-d473bea3-588a-441a-8b2a-a137806f8786 113d3...</td>\n",
              "      <td>[instance: 96abccce-8d1f-4e07-b6d1-4b2ab87e23b...</td>\n",
              "      <td>96abccce-8d1f-4e07-b6d1-4b2ab87e23b4</td>\n",
              "      <td>&lt;*&gt; Terminating instance</td>\n",
              "      <td>8</td>\n",
              "      <td>&lt;*&gt; Terminating instance</td>\n",
              "    </tr>\n",
              "  </tbody>\n",
              "</table>\n",
              "</div>"
            ],
            "text/plain": [
              "                                 Logrecord  ...                                    Template_string\n",
              "30  nova-compute.log.1.2017-05-16_13:55:31  ...  <*> During sync power state the instance has a...\n",
              "31      nova-api.log.1.2017-05-16_13:53:08  ...                Creating event <*> for instance <*>\n",
              "32  nova-compute.log.1.2017-05-16_13:55:31  ...                       <*> VM <*> (Lifecycle Event)\n",
              "33  nova-compute.log.1.2017-05-16_13:55:31  ...                     <*> Instance <*> successfully.\n",
              "34  nova-compute.log.1.2017-05-16_13:55:31  ...  <*> Took <*> seconds to <*> the instance on th...\n",
              "35  nova-compute.log.1.2017-05-16_13:55:31  ...  <*> During sync power state the instance has a...\n",
              "36  nova-compute.log.1.2017-05-16_13:55:31  ...                       <*> VM <*> (Lifecycle Event)\n",
              "37  nova-compute.log.1.2017-05-16_13:55:31  ...            <*> Took <*> seconds to build instance.\n",
              "38      nova-api.log.1.2017-05-16_13:53:08  ...  10.11.10.1 \"DELETE <*> HTTP/1.1\" status: 204 l...\n",
              "39  nova-compute.log.1.2017-05-16_13:55:31  ...                           <*> Terminating instance\n",
              "\n",
              "[10 rows x 12 columns]"
            ]
          },
          "metadata": {
            "tags": []
          },
          "execution_count": 7
        }
      ]
    },
    {
      "cell_type": "code",
      "metadata": {
        "colab": {
          "base_uri": "https://localhost:8080/"
        },
        "id": "LT8Cl_A-4t2J",
        "outputId": "77f3e1ab-2131-4cb1-d944-43a1e8db5ea1"
      },
      "source": [
        "openstack1[openstack1.Label == openstack1.Label.unique()[66]]['Content'].to_list()\n",
        "# the workflow of two log isntance is the same, also can't see obvious parameter outlier"
      ],
      "execution_count": null,
      "outputs": [
        {
          "output_type": "execute_result",
          "data": {
            "text/plain": [
              "['[instance: 112e18db-92ec-43f0-9a5e-8f58b868d02b] Attempting claim: memory 2048 MB, disk 20 GB, vcpus 1 CPU',\n",
              " '[instance: 112e18db-92ec-43f0-9a5e-8f58b868d02b] Total memory: 64172 MB, used: 512.00 MB',\n",
              " '[instance: 112e18db-92ec-43f0-9a5e-8f58b868d02b] memory limit: 96258.00 MB, free: 95746.00 MB',\n",
              " '[instance: 112e18db-92ec-43f0-9a5e-8f58b868d02b] Total disk: 15 GB, used: 0.00 GB',\n",
              " '[instance: 112e18db-92ec-43f0-9a5e-8f58b868d02b] disk limit not specified, defaulting to unlimited',\n",
              " '[instance: 112e18db-92ec-43f0-9a5e-8f58b868d02b] Total vcpu: 16 VCPU, used: 0.00 VCPU',\n",
              " '[instance: 112e18db-92ec-43f0-9a5e-8f58b868d02b] vcpu limit not specified, defaulting to unlimited',\n",
              " '[instance: 112e18db-92ec-43f0-9a5e-8f58b868d02b] Claim successful',\n",
              " '10.11.10.1 \"GET /v2/54fadb412c4e40cdbaed9335e4c35a9e/servers/112e18db-92ec-43f0-9a5e-8f58b868d02b HTTP/1.1\" status: 200 len: 1708 time: 0.1968930',\n",
              " '[instance: 112e18db-92ec-43f0-9a5e-8f58b868d02b] Creating image',\n",
              " '[instance: 112e18db-92ec-43f0-9a5e-8f58b868d02b] VM Started (Lifecycle Event)',\n",
              " '[instance: 112e18db-92ec-43f0-9a5e-8f58b868d02b] VM Paused (Lifecycle Event)',\n",
              " '[instance: 112e18db-92ec-43f0-9a5e-8f58b868d02b] During sync_power_state the instance has a pending task (spawning). Skip.',\n",
              " 'Creating event network-vif-plugged:569d872f-243d-422d-9108-4820f1e525da for instance 112e18db-92ec-43f0-9a5e-8f58b868d02b',\n",
              " '[instance: 112e18db-92ec-43f0-9a5e-8f58b868d02b] VM Resumed (Lifecycle Event)',\n",
              " '[instance: 112e18db-92ec-43f0-9a5e-8f58b868d02b] Instance spawned successfully.',\n",
              " '[instance: 112e18db-92ec-43f0-9a5e-8f58b868d02b] Took 20.36 seconds to spawn the instance on the hypervisor.',\n",
              " '[instance: 112e18db-92ec-43f0-9a5e-8f58b868d02b] During sync_power_state the instance has a pending task (spawning). Skip.',\n",
              " '[instance: 112e18db-92ec-43f0-9a5e-8f58b868d02b] VM Resumed (Lifecycle Event)',\n",
              " '[instance: 112e18db-92ec-43f0-9a5e-8f58b868d02b] Took 21.11 seconds to build instance.',\n",
              " '10.11.10.1 \"DELETE /v2/54fadb412c4e40cdbaed9335e4c35a9e/servers/112e18db-92ec-43f0-9a5e-8f58b868d02b HTTP/1.1\" status: 204 len: 203 time: 0.2523639',\n",
              " '[instance: 112e18db-92ec-43f0-9a5e-8f58b868d02b] Terminating instance',\n",
              " '[instance: 112e18db-92ec-43f0-9a5e-8f58b868d02b] Instance destroyed successfully.',\n",
              " '[instance: 112e18db-92ec-43f0-9a5e-8f58b868d02b] Deleting instance files /var/lib/nova/instances/112e18db-92ec-43f0-9a5e-8f58b868d02b_del',\n",
              " '[instance: 112e18db-92ec-43f0-9a5e-8f58b868d02b] Deletion of /var/lib/nova/instances/112e18db-92ec-43f0-9a5e-8f58b868d02b_del complete',\n",
              " '[instance: 112e18db-92ec-43f0-9a5e-8f58b868d02b] Took 1.04 seconds to destroy the instance on the hypervisor.',\n",
              " '[instance: 112e18db-92ec-43f0-9a5e-8f58b868d02b] Took 0.46 seconds to deallocate network for instance.',\n",
              " '[instance: 112e18db-92ec-43f0-9a5e-8f58b868d02b] VM Stopped (Lifecycle Event)']"
            ]
          },
          "metadata": {
            "tags": []
          },
          "execution_count": 8
        }
      ]
    },
    {
      "cell_type": "code",
      "metadata": {
        "colab": {
          "base_uri": "https://localhost:8080/"
        },
        "id": "beouAmKk33Zp",
        "outputId": "81eee379-e781-4668-b5e9-597be8facb60"
      },
      "source": [
        "#abnormal[abnormal.Label == abnormal.Label.unique()[66]]['Content'].to_list()\n",
        "abnormal[abnormal.Label == '544fd51c-4edc-4780-baae-ba1d80a0acfc']['Content'].to_list()\n",
        "# the workflow of two log isntance is the same, also can't see obvious parameter outlier"
      ],
      "execution_count": null,
      "outputs": [
        {
          "output_type": "execute_result",
          "data": {
            "text/plain": [
              "['[instance: 544fd51c-4edc-4780-baae-ba1d80a0acfc] Attempting claim: memory 2048 MB, disk 20 GB, vcpus 1 CPU',\n",
              " '[instance: 544fd51c-4edc-4780-baae-ba1d80a0acfc] Total memory: 64172 MB, used: 512.00 MB',\n",
              " '[instance: 544fd51c-4edc-4780-baae-ba1d80a0acfc] memory limit: 96258.00 MB, free: 95746.00 MB',\n",
              " '[instance: 544fd51c-4edc-4780-baae-ba1d80a0acfc] Total disk: 15 GB, used: 0.00 GB',\n",
              " '[instance: 544fd51c-4edc-4780-baae-ba1d80a0acfc] disk limit not specified, defaulting to unlimited',\n",
              " '[instance: 544fd51c-4edc-4780-baae-ba1d80a0acfc] Total vcpu: 16 VCPU, used: 0.00 VCPU',\n",
              " '[instance: 544fd51c-4edc-4780-baae-ba1d80a0acfc] vcpu limit not specified, defaulting to unlimited',\n",
              " '[instance: 544fd51c-4edc-4780-baae-ba1d80a0acfc] Claim successful',\n",
              " '10.11.10.1 \"GET /v2/54fadb412c4e40cdbaed9335e4c35a9e/servers/544fd51c-4edc-4780-baae-ba1d80a0acfc HTTP/1.1\" status: 200 len: 1708 time: 0.2008200',\n",
              " '[instance: 544fd51c-4edc-4780-baae-ba1d80a0acfc] Creating image',\n",
              " '[instance: 544fd51c-4edc-4780-baae-ba1d80a0acfc] VM Started (Lifecycle Event)',\n",
              " '[instance: 544fd51c-4edc-4780-baae-ba1d80a0acfc] VM Paused (Lifecycle Event)',\n",
              " '[instance: 544fd51c-4edc-4780-baae-ba1d80a0acfc] During sync_power_state the instance has a pending task (spawning). Skip.',\n",
              " 'Creating event network-vif-plugged:82e4a70c-9e3a-4cb8-9e51-c009c75762e5 for instance 544fd51c-4edc-4780-baae-ba1d80a0acfc',\n",
              " '[instance: 544fd51c-4edc-4780-baae-ba1d80a0acfc] VM Resumed (Lifecycle Event)',\n",
              " '[instance: 544fd51c-4edc-4780-baae-ba1d80a0acfc] Instance spawned successfully.',\n",
              " '[instance: 544fd51c-4edc-4780-baae-ba1d80a0acfc] Took 41.81 seconds to spawn the instance on the hypervisor.',\n",
              " '[instance: 544fd51c-4edc-4780-baae-ba1d80a0acfc] During sync_power_state the instance has a pending task (spawning). Skip.',\n",
              " '[instance: 544fd51c-4edc-4780-baae-ba1d80a0acfc] VM Resumed (Lifecycle Event)',\n",
              " '[instance: 544fd51c-4edc-4780-baae-ba1d80a0acfc] Took 42.81 seconds to build instance.',\n",
              " '10.11.10.1 \"DELETE /v2/54fadb412c4e40cdbaed9335e4c35a9e/servers/544fd51c-4edc-4780-baae-ba1d80a0acfc HTTP/1.1\" status: 204 len: 203 time: 0.4480600',\n",
              " '[instance: 544fd51c-4edc-4780-baae-ba1d80a0acfc] Terminating instance',\n",
              " '[instance: 544fd51c-4edc-4780-baae-ba1d80a0acfc] Instance destroyed successfully.',\n",
              " '[instance: 544fd51c-4edc-4780-baae-ba1d80a0acfc] Deleting instance files /var/lib/nova/instances/544fd51c-4edc-4780-baae-ba1d80a0acfc_del',\n",
              " '[instance: 544fd51c-4edc-4780-baae-ba1d80a0acfc] Deletion of /var/lib/nova/instances/544fd51c-4edc-4780-baae-ba1d80a0acfc_del complete',\n",
              " '[instance: 544fd51c-4edc-4780-baae-ba1d80a0acfc] Took 1.00 seconds to destroy the instance on the hypervisor.',\n",
              " '[instance: 544fd51c-4edc-4780-baae-ba1d80a0acfc] Took 0.54 seconds to deallocate network for instance.',\n",
              " '[instance: 544fd51c-4edc-4780-baae-ba1d80a0acfc] VM Stopped (Lifecycle Event)']"
            ]
          },
          "metadata": {
            "tags": []
          },
          "execution_count": 9
        }
      ]
    },
    {
      "cell_type": "code",
      "metadata": {
        "id": "jTd-c0P9ssSD"
      },
      "source": [
        "train_sg = sequence_generator(0,40,start_token= 41, end_token= 42, need_start_end= True)\n",
        "#test_sg = sequence_generator(0,40)\n",
        "\n",
        "\n",
        "train_sg.list_add(train_set['Label'],train_set['Template_id'])\n",
        "#test_sg.list_add(test_set['Label'],test_set['Template_id'])\n",
        "\n",
        "train_sg.update_Dataset()\n",
        "#test_sg.update_Dataset()\n",
        "\n",
        "openstack2_sg = sequence_generator(0,40,start_token= 41, end_token= 42, need_start_end= True)\n",
        "openstack2_sg.list_add(openstack2['Label'],openstack2['Template_id'])\n",
        "\n",
        "abnormal_sg = sequence_generator(0,40,start_token= 41, end_token= 42, need_start_end= True)\n",
        "abnormal_sg.list_add(abnormal['Label'],abnormal['Template_id'])"
      ],
      "execution_count": null,
      "outputs": []
    },
    {
      "cell_type": "code",
      "metadata": {
        "id": "alFexfnU8BNI"
      },
      "source": [
        "model = LogOutlier(ntoken = 64, ninp = 16, nhead = 4, nhid = 16 , nlayers = 4, dropout=0.2, padding_value= 40, target_value= 0)\n",
        "# 1 0.1"
      ],
      "execution_count": null,
      "outputs": []
    },
    {
      "cell_type": "code",
      "metadata": {
        "id": "nwwJmK-9FhL6"
      },
      "source": [
        "train_dataloader = DataLoader(train_sg,256)\n",
        "#val_dataloader = DataLoader(test_sg,2048)"
      ],
      "execution_count": null,
      "outputs": []
    },
    {
      "cell_type": "code",
      "metadata": {
        "colab": {
          "base_uri": "https://localhost:8080/",
          "height": 355,
          "referenced_widgets": [
            "f3ddec601f2d4d96bd0829bd2bf075b8",
            "5352e58ca78849449341621cb8281bce",
            "8af1bfb34ae84b66a8622df5a031212b",
            "a0c393e66f0a47659060f32baa113315",
            "b4c725c952b747f783c47da5dc76bfb5",
            "4db68b25b598417b8cbc99f7f20786b5",
            "389e16e58a8b4f338e1b9e70a8e56be0",
            "a692e77d975e4cafa12340acdbf835ea"
          ]
        },
        "id": "XuwunwPLGiAX",
        "outputId": "fa484974-43db-44a0-c549-466c12081766"
      },
      "source": [
        "from pytorch_lightning import Trainer\n",
        "trainer = Trainer(precision=16,gpus=1,max_epochs = 100)\n",
        "\n",
        "trainer.fit(model, train_dataloader)\n",
        "#trainer.fit(model,dataloader)"
      ],
      "execution_count": null,
      "outputs": [
        {
          "output_type": "stream",
          "text": [
            "Using native 16bit precision.\n",
            "GPU available: True, used: True\n",
            "TPU available: False, using: 0 TPU cores\n",
            "IPU available: False, using: 0 IPUs\n",
            "LOCAL_RANK: 0 - CUDA_VISIBLE_DEVICES: [0]\n",
            "\n",
            "  | Name                | Type                        | Params\n",
            "--------------------------------------------------------------------\n",
            "0 | encoder             | Embeddings                  | 1.0 K \n",
            "1 | pos_encoder         | PositionalEncoding          | 0     \n",
            "2 | transformer_encoder | TransformerEncoderAttention | 6.8 K \n",
            "3 | decoder             | Linear                      | 1.1 K \n",
            "--------------------------------------------------------------------\n",
            "8.9 K     Trainable params\n",
            "0         Non-trainable params\n",
            "8.9 K     Total params\n",
            "0.036     Total estimated model params size (MB)\n"
          ],
          "name": "stderr"
        },
        {
          "output_type": "display_data",
          "data": {
            "application/vnd.jupyter.widget-view+json": {
              "model_id": "f3ddec601f2d4d96bd0829bd2bf075b8",
              "version_minor": 0,
              "version_major": 2
            },
            "text/plain": [
              "HBox(children=(FloatProgress(value=1.0, bar_style='info', description='Training', layout=Layout(flex='2'), max…"
            ]
          },
          "metadata": {
            "tags": []
          }
        },
        {
          "output_type": "stream",
          "text": [
            "\n"
          ],
          "name": "stdout"
        }
      ]
    },
    {
      "cell_type": "code",
      "metadata": {
        "id": "EcPdmEwTGiJj",
        "colab": {
          "base_uri": "https://localhost:8080/"
        },
        "outputId": "9a05550f-a8c6-40b9-b13a-937226410979"
      },
      "source": [
        "# Test\n",
        "abnormal_sg.max_length"
      ],
      "execution_count": null,
      "outputs": [
        {
          "output_type": "execute_result",
          "data": {
            "text/plain": [
              "31"
            ]
          },
          "metadata": {
            "tags": []
          },
          "execution_count": 14
        }
      ]
    },
    {
      "cell_type": "code",
      "metadata": {
        "colab": {
          "base_uri": "https://localhost:8080/",
          "height": 164
        },
        "id": "-7vF0mow6Yqu",
        "outputId": "ffce765f-0013-4b30-d027-c47ff4f9d430"
      },
      "source": [
        "normal[0]"
      ],
      "execution_count": null,
      "outputs": [
        {
          "output_type": "error",
          "ename": "NameError",
          "evalue": "ignored",
          "traceback": [
            "\u001b[0;31m---------------------------------------------------------------------------\u001b[0m",
            "\u001b[0;31mNameError\u001b[0m                                 Traceback (most recent call last)",
            "\u001b[0;32m<ipython-input-15-231847609a1d>\u001b[0m in \u001b[0;36m<module>\u001b[0;34m()\u001b[0m\n\u001b[0;32m----> 1\u001b[0;31m \u001b[0mnormal\u001b[0m\u001b[0;34m[\u001b[0m\u001b[0;36m0\u001b[0m\u001b[0;34m]\u001b[0m\u001b[0;34m\u001b[0m\u001b[0;34m\u001b[0m\u001b[0m\n\u001b[0m",
            "\u001b[0;31mNameError\u001b[0m: name 'normal' is not defined"
          ]
        }
      ]
    },
    {
      "cell_type": "code",
      "metadata": {
        "colab": {
          "base_uri": "https://localhost:8080/",
          "height": 66,
          "referenced_widgets": [
            "aff3020c578b49e789e82af633c1e058",
            "9b4722d9dcfb42cfbb72eeb8b55f3699",
            "6d4815a3231244b6a26e6e71b78ecb48",
            "e5c26071007743b2867ffab4a32142af",
            "3a618ce636e74838885752de57c3afc2",
            "d82a526c5b4b4828bd5cbce30bcce00e",
            "fa5ed116d0264bbebb7b76b6c36e2632",
            "9d7c044c7283486d883fbfb1b92fef36"
          ]
        },
        "id": "UGHm1FqJJIGI",
        "outputId": "1c7c0f39-7697-4655-ec6b-f85278a17c90"
      },
      "source": [
        "# layer 5\n",
        "normal = list(openstack2_sg.sequence.values())\n",
        "\n",
        "abnormal = list(abnormal_sg.sequence.values())\n",
        "\n",
        "test = normal+abnormal\n",
        "ground_truth = [0]*len(normal)+[1]*len(abnormal)\n",
        "\n",
        "# if label.txt is correct:\n",
        "'''\n",
        "outlier_ids = ['544fd51c-4edc-4780-baae-ba1d80a0acfc',\n",
        "'ae651dff-c7ad-43d6-ac96-bbcd820ccca8',\n",
        "'a445709b-6ad0-40ec-8860-bec60b6ca0c2',\n",
        "'1643649d-2f42-4303-bfcd-7798baec19f9'] # maybe it is parameter outlier\n",
        "'''\n",
        "'''\n",
        "test = []\n",
        "keys = []\n",
        "for i in openstack2_sg.sequence.keys():\n",
        "        keys.append(i)\n",
        "        test.append(openstack2_sg.sequence[i])\n",
        "    #else:\n",
        "        #ground_truth.append(0)\n",
        "ground_truth = [0]*len(keys)\n",
        "'''\n",
        "\n",
        "from tqdm.notebook import tqdm\n",
        "model.to(torch.device('cuda'))\n",
        "hdfs_output = []\n",
        "for i in tqdm(test):\n",
        "    hdfs_output.append(outlier_detection_single(i,model,30,40,0,top=10)) #2 is best for hdfs\n",
        "\n"
      ],
      "execution_count": null,
      "outputs": [
        {
          "output_type": "display_data",
          "data": {
            "application/vnd.jupyter.widget-view+json": {
              "model_id": "aff3020c578b49e789e82af633c1e058",
              "version_minor": 0,
              "version_major": 2
            },
            "text/plain": [
              "HBox(children=(FloatProgress(value=0.0, max=1513.0), HTML(value='')))"
            ]
          },
          "metadata": {
            "tags": []
          }
        },
        {
          "output_type": "stream",
          "text": [
            "\n"
          ],
          "name": "stdout"
        }
      ]
    },
    {
      "cell_type": "code",
      "metadata": {
        "id": "n1H_4nhVOPca"
      },
      "source": [
        "def with_different_threshold(hdfs_output,threshold = 1,need_plot = False,false_position = True):    \n",
        "    hdfs_predict = []\n",
        "    pppppp = []\n",
        "    for all_predict, target in tqdm(hdfs_output):\n",
        "        if not false_position:\n",
        "            hdfs_predict.append(outlier_score_calculation(all_predict, target ,top=threshold,relative=False,false_position=false_position))\n",
        "\n",
        "        else:\n",
        "            score,position_ = outlier_score_calculation(all_predict, target ,top=threshold,relative=False,false_position=false_position)\n",
        "            hdfs_predict.append(score)\n",
        "            pppppp.append(position_)\n",
        "\n",
        "    from sklearn.metrics import precision_recall_curve\n",
        "    precision, recall, thresholds = precision_recall_curve(ground_truth, hdfs_predict)\n",
        "    if need_plot:\n",
        "        import matplotlib.pyplot as plt\n",
        "        import seaborn as sns\n",
        "        plt.figure(figsize=(10,10))\n",
        "        ax = sns.lineplot(x = recall, y= precision)\n",
        "        ax.set(xlabel='recall', ylabel='precision')\n",
        "        ax.set(ylim=(0,1))\n",
        "        ax.set(xlim=(0,1))\n",
        "        plt.show()\n",
        "\n",
        "\n",
        "    f1 = 0\n",
        "    p = 0\n",
        "    r = 0\n",
        "    for i in range(len(precision)):\n",
        "        f1_ = 2 * precision[i] * recall[i]/(precision[i]+recall[i])\n",
        "        if f1_>f1:\n",
        "            f1 = f1_\n",
        "            p = precision[i]\n",
        "            r = recall[i]\n",
        "    print(p,r,f1)\n",
        "    return (threshold,precision,recall,thresholds,ground_truth,hdfs_predict,pppppp), f1"
      ],
      "execution_count": null,
      "outputs": []
    },
    {
      "cell_type": "code",
      "metadata": {
        "colab": {
          "base_uri": "https://localhost:8080/",
          "height": 677,
          "referenced_widgets": [
            "9ef19d2661904e24bb16b61c39e7b70e",
            "11aa74bca7914440b744066ca321fb13",
            "43333ac36aab4bbab798c90261f577cc",
            "8b722565dd7f408f8ff55480983386ff",
            "ffe34b9365ff4e26abb0196da0692919",
            "82b83e56870e40eba1e4d70301d5b3ae",
            "2b9ced559f1b48b8ba6a9df31f67861b",
            "932b873962114df2ac79d2cae069f50e",
            "ae6971351f784ebea86c3841c4a2da99",
            "97cc6aa701a645b78493e2d8a3f44895",
            "b62cc4368cb345b5adc0fe5ef0fa484f",
            "de3d19eca97d4fa39eed129fd3b02c18",
            "72b868a27772455ab7bff44952160ca4",
            "7fbbc5d498ed428696c015a2dd87f680",
            "ebed9110a27440c0b6b9991cca1938ed",
            "b76b693e85e04b2fbf811086c3e1a306",
            "c7922cd76e264a5e945d5c43faa97729",
            "1617b6202c954a0babe967c5dc4ea634",
            "f9e0d0b343e244cc83ff621a235750de",
            "fb3b058b95ee4eb29c0ac97558c9fff2",
            "3ef2d255b0484d34acecb95dfc3db319",
            "7d1d30bdc0be49c68e10f6adff1c2925",
            "2e16bd6da8c94713a4a09167a35af1aa",
            "edc05648d65d4f48a05b1e7ae05f7420",
            "979925eacce541be9754bdc3e105825d",
            "b606fe6d698c4918999d62280db83012",
            "f6c9e7629eb34a4489b072f2f4c89c7c",
            "5149998c8123448989e01fd6cd5b7787",
            "a2cef762d03947f881e6db6f95b7aa6a",
            "99e6667c584f45d0ba12c32d1ae08e97",
            "35035e6b3f6b49ee8a9d50391a9aaf3c",
            "3d7fd2f7edb9491b93f8a195a1c89984",
            "43b55ddf0fad42009def83ac8ce08f10",
            "cff39fd3f5094d43bcc91795b51fb840",
            "992c17602b974a3cb57872d14b572549",
            "a161f48b24ee45b5b841848c5759b65d",
            "e4c14a77338541ad8009661f6110463a",
            "27ab54716ab24617a11c99f6859f23e6",
            "09547120895c435d8ec27782eccdeb04",
            "6488117d7ec343309f38aaec0cc6a3d7",
            "af728491fa3a45c8913ffd8b2fbd2494",
            "37c388c092204f3594ad9d3e714d2242",
            "5c795668a4e045a7a79711d516314a9a",
            "327c22c438824e848c2e7e8b82da436b",
            "da37259575724affa20fc45389949c70",
            "af8595390d3f4be793e51edcf9065299",
            "b95e1f2fb4484000a628a8bc2d8d8e4e",
            "41ae294a272b4a85bdfeb20d417d55c3",
            "e0e87c9b69834c2f8144ab5f4130aee8",
            "b6b16697bcb74fbf80ceca82ec496aeb",
            "5de0a7fdb0f24553a6f91ff5473861e8",
            "6fd88e9e1ee145298745e6675e6e1957",
            "b9c5ec3711164338b0e001d9679ab107",
            "0211fc01867947db8e1176f079a5c37c",
            "13e66bd388d04359a5339dcfc3b120ed",
            "8fcf68b44ee24c7bbda049b9ab4f131f",
            "fa948c6661b54f188e072baabebb8197",
            "20e3c85451154bb3acfe8d250d73b1d0",
            "3f2be035c6144e199fec5ac7618e6201",
            "dc70a95230684d1fae5edf56730b39f5",
            "6c02f44326294eec9c36a05197b6441c",
            "7666007e390b4b62ab650012f1e8ad61",
            "b3019634afc545ea9f2740e31e34a2d6",
            "e07872c99af748b6b9e2924c6d7d3177",
            "4ab7e859255449338b6b24b6ca6b241a",
            "25224caa3a6f4d51abb32a30b6e06cd2",
            "6c27109780964bc8a14002c744250c9a",
            "773e8da64491470388d2b57a8a086b26",
            "d5f12fb6fbce456f9acccdf3e202b674",
            "095147b81a1c4d648e11f622f458f6d8",
            "1d4094fe3d254e39ae35fb152354ea7e",
            "26afd606d6494cd2a275df346b58e221",
            "e11b644afc374bff935faf38dda93eca",
            "a4eac3941b1b4a2687b5def4f0bed9d2",
            "c504a94c208240e38ad80686dd824237",
            "caa84480aa64403cb713aabf5be9b4f1",
            "f752563ce2ef4b7da0905198cb409cb6",
            "8cf6744cc41a433c991a4b49f9192086",
            "e2472035fda342e9a253e4ee1c210824",
            "1fdb957ef13743059dfb0cf85bcf86a3"
          ]
        },
        "id": "V6JNPSdnTl_R",
        "outputId": "7cc0c8b2-ba67-4e8c-9f66-7a8b78ed6767"
      },
      "source": [
        "k = (0,0)\n",
        "for i in range(10):\n",
        "    kk = with_different_threshold(hdfs_output=hdfs_output,threshold = i+1)\n",
        "    if kk[1]>k[1]:\n",
        "        k = kk\n",
        "#print(k[0][0])"
      ],
      "execution_count": null,
      "outputs": [
        {
          "output_type": "display_data",
          "data": {
            "application/vnd.jupyter.widget-view+json": {
              "model_id": "9ef19d2661904e24bb16b61c39e7b70e",
              "version_minor": 0,
              "version_major": 2
            },
            "text/plain": [
              "HBox(children=(FloatProgress(value=0.0, max=1513.0), HTML(value='')))"
            ]
          },
          "metadata": {
            "tags": []
          }
        },
        {
          "output_type": "stream",
          "text": [
            "\n",
            "0.13086582947785855 1.0 0.23144360023378138\n"
          ],
          "name": "stdout"
        },
        {
          "output_type": "display_data",
          "data": {
            "application/vnd.jupyter.widget-view+json": {
              "model_id": "ae6971351f784ebea86c3841c4a2da99",
              "version_minor": 0,
              "version_major": 2
            },
            "text/plain": [
              "HBox(children=(FloatProgress(value=0.0, max=1513.0), HTML(value='')))"
            ]
          },
          "metadata": {
            "tags": []
          }
        },
        {
          "output_type": "stream",
          "text": [
            "\n",
            "0.13086582947785855 1.0 0.23144360023378138\n"
          ],
          "name": "stdout"
        },
        {
          "output_type": "display_data",
          "data": {
            "application/vnd.jupyter.widget-view+json": {
              "model_id": "c7922cd76e264a5e945d5c43faa97729",
              "version_minor": 0,
              "version_major": 2
            },
            "text/plain": [
              "HBox(children=(FloatProgress(value=0.0, max=1513.0), HTML(value='')))"
            ]
          },
          "metadata": {
            "tags": []
          }
        },
        {
          "output_type": "stream",
          "text": [
            "\n",
            "0.13086582947785855 1.0 0.23144360023378138\n"
          ],
          "name": "stdout"
        },
        {
          "output_type": "display_data",
          "data": {
            "application/vnd.jupyter.widget-view+json": {
              "model_id": "979925eacce541be9754bdc3e105825d",
              "version_minor": 0,
              "version_major": 2
            },
            "text/plain": [
              "HBox(children=(FloatProgress(value=0.0, max=1513.0), HTML(value='')))"
            ]
          },
          "metadata": {
            "tags": []
          }
        },
        {
          "output_type": "stream",
          "text": [
            "\n",
            "0.13086582947785855 1.0 0.23144360023378138\n"
          ],
          "name": "stdout"
        },
        {
          "output_type": "display_data",
          "data": {
            "application/vnd.jupyter.widget-view+json": {
              "model_id": "43b55ddf0fad42009def83ac8ce08f10",
              "version_minor": 0,
              "version_major": 2
            },
            "text/plain": [
              "HBox(children=(FloatProgress(value=0.0, max=1513.0), HTML(value='')))"
            ]
          },
          "metadata": {
            "tags": []
          }
        },
        {
          "output_type": "stream",
          "text": [
            "\n",
            "0.13086582947785855 1.0 0.23144360023378138\n"
          ],
          "name": "stdout"
        },
        {
          "output_type": "display_data",
          "data": {
            "application/vnd.jupyter.widget-view+json": {
              "model_id": "af728491fa3a45c8913ffd8b2fbd2494",
              "version_minor": 0,
              "version_major": 2
            },
            "text/plain": [
              "HBox(children=(FloatProgress(value=0.0, max=1513.0), HTML(value='')))"
            ]
          },
          "metadata": {
            "tags": []
          }
        },
        {
          "output_type": "stream",
          "text": [
            "\n",
            "0.13086582947785855 1.0 0.23144360023378138\n"
          ],
          "name": "stdout"
        },
        {
          "output_type": "display_data",
          "data": {
            "application/vnd.jupyter.widget-view+json": {
              "model_id": "e0e87c9b69834c2f8144ab5f4130aee8",
              "version_minor": 0,
              "version_major": 2
            },
            "text/plain": [
              "HBox(children=(FloatProgress(value=0.0, max=1513.0), HTML(value='')))"
            ]
          },
          "metadata": {
            "tags": []
          }
        },
        {
          "output_type": "stream",
          "text": [
            "\n",
            "0.13086582947785855 1.0 0.23144360023378138\n"
          ],
          "name": "stdout"
        },
        {
          "output_type": "display_data",
          "data": {
            "application/vnd.jupyter.widget-view+json": {
              "model_id": "fa948c6661b54f188e072baabebb8197",
              "version_minor": 0,
              "version_major": 2
            },
            "text/plain": [
              "HBox(children=(FloatProgress(value=0.0, max=1513.0), HTML(value='')))"
            ]
          },
          "metadata": {
            "tags": []
          }
        },
        {
          "output_type": "stream",
          "text": [
            "\n",
            "0.13086582947785855 1.0 0.23144360023378138\n"
          ],
          "name": "stdout"
        },
        {
          "output_type": "display_data",
          "data": {
            "application/vnd.jupyter.widget-view+json": {
              "model_id": "4ab7e859255449338b6b24b6ca6b241a",
              "version_minor": 0,
              "version_major": 2
            },
            "text/plain": [
              "HBox(children=(FloatProgress(value=0.0, max=1513.0), HTML(value='')))"
            ]
          },
          "metadata": {
            "tags": []
          }
        },
        {
          "output_type": "stream",
          "text": [
            "\n",
            "0.13086582947785855 1.0 0.23144360023378138\n"
          ],
          "name": "stdout"
        },
        {
          "output_type": "display_data",
          "data": {
            "application/vnd.jupyter.widget-view+json": {
              "model_id": "e11b644afc374bff935faf38dda93eca",
              "version_minor": 0,
              "version_major": 2
            },
            "text/plain": [
              "HBox(children=(FloatProgress(value=0.0, max=1513.0), HTML(value='')))"
            ]
          },
          "metadata": {
            "tags": []
          }
        },
        {
          "output_type": "stream",
          "text": [
            "\n",
            "0.13086582947785855 1.0 0.23144360023378138\n"
          ],
          "name": "stdout"
        }
      ]
    },
    {
      "cell_type": "code",
      "metadata": {
        "id": "oRjfzNrnUtJk"
      },
      "source": [
        "#Path = '/content/drive/MyDrive/hdfs'+'loss=0.276'+'ntoken = 40, ninp = 16, nhead = 2, nhid = 16 , nlayers = 4, dropout=0.2, padding_value= 36, target_value= 0'+'.h5'\n",
        "#torch.save(model.state_dict(), Path)"
      ],
      "execution_count": null,
      "outputs": []
    },
    {
      "cell_type": "code",
      "metadata": {
        "colab": {
          "base_uri": "https://localhost:8080/",
          "height": 676,
          "referenced_widgets": [
            "b1b0b5830480448bad8d2fc555217765",
            "5ec2fa52d43247c29211e971401d0e4e",
            "b86445e4a12e4cbdbfd896e76bd28a03",
            "e577d0b80dad451fb327b034f31d3e6e",
            "0ac76d397ff3454eaca386126498f69b",
            "4a74326294b644fba77a6dbe4222c957",
            "0204954884384d85af8d276654dc3b4f",
            "3b227a70e8444fe38a58090de29bffea"
          ]
        },
        "id": "ZytPAtZVWG-k",
        "outputId": "dbdb9deb-6dd9-4899-a810-4008a6bff479"
      },
      "source": [
        "kk = with_different_threshold(hdfs_output=hdfs_output,threshold = 10, need_plot= True,false_position=True)"
      ],
      "execution_count": null,
      "outputs": [
        {
          "output_type": "display_data",
          "data": {
            "application/vnd.jupyter.widget-view+json": {
              "model_id": "b1b0b5830480448bad8d2fc555217765",
              "version_minor": 0,
              "version_major": 2
            },
            "text/plain": [
              "HBox(children=(FloatProgress(value=0.0, max=1513.0), HTML(value='')))"
            ]
          },
          "metadata": {
            "tags": []
          }
        },
        {
          "output_type": "stream",
          "text": [
            "\n"
          ],
          "name": "stdout"
        },
        {
          "output_type": "display_data",
          "data": {
            "image/png": "[encoded data removed]",
            "text/plain": [
              "<Figure size 720x720 with 1 Axes>"
            ]
          },
          "metadata": {
            "tags": [],
            "needs_background": "light"
          }
        },
        {
          "output_type": "stream",
          "text": [
            "0.13086582947785855 1.0 0.23144360023378138\n"
          ],
          "name": "stdout"
        }
      ]
    },
    {
      "cell_type": "code",
      "metadata": {
        "id": "wzwQ7KMY6ri9",
        "colab": {
          "base_uri": "https://localhost:8080/",
          "height": 232
        },
        "outputId": "90625655-ed58-48c7-d73f-c1355178cbb0"
      },
      "source": [
        "possible = []\n",
        "place = []\n",
        "for i in range(len(keys)):\n",
        "    if kk[0][-2][i]>2:\n",
        "        possible.append(keys[i])\n",
        "        place.append(kk[0][-1][i])"
      ],
      "execution_count": null,
      "outputs": [
        {
          "output_type": "error",
          "ename": "NameError",
          "evalue": "ignored",
          "traceback": [
            "\u001b[0;31m---------------------------------------------------------------------------\u001b[0m",
            "\u001b[0;31mNameError\u001b[0m                                 Traceback (most recent call last)",
            "\u001b[0;32m<ipython-input-21-6e0ea97e133b>\u001b[0m in \u001b[0;36m<module>\u001b[0;34m()\u001b[0m\n\u001b[1;32m      1\u001b[0m \u001b[0mpossible\u001b[0m \u001b[0;34m=\u001b[0m \u001b[0;34m[\u001b[0m\u001b[0;34m]\u001b[0m\u001b[0;34m\u001b[0m\u001b[0;34m\u001b[0m\u001b[0m\n\u001b[1;32m      2\u001b[0m \u001b[0mplace\u001b[0m \u001b[0;34m=\u001b[0m \u001b[0;34m[\u001b[0m\u001b[0;34m]\u001b[0m\u001b[0;34m\u001b[0m\u001b[0;34m\u001b[0m\u001b[0m\n\u001b[0;32m----> 3\u001b[0;31m \u001b[0;32mfor\u001b[0m \u001b[0mi\u001b[0m \u001b[0;32min\u001b[0m \u001b[0mrange\u001b[0m\u001b[0;34m(\u001b[0m\u001b[0mlen\u001b[0m\u001b[0;34m(\u001b[0m\u001b[0mkeys\u001b[0m\u001b[0;34m)\u001b[0m\u001b[0;34m)\u001b[0m\u001b[0;34m:\u001b[0m\u001b[0;34m\u001b[0m\u001b[0;34m\u001b[0m\u001b[0m\n\u001b[0m\u001b[1;32m      4\u001b[0m     \u001b[0;32mif\u001b[0m \u001b[0mkk\u001b[0m\u001b[0;34m[\u001b[0m\u001b[0;36m0\u001b[0m\u001b[0;34m]\u001b[0m\u001b[0;34m[\u001b[0m\u001b[0;34m-\u001b[0m\u001b[0;36m2\u001b[0m\u001b[0;34m]\u001b[0m\u001b[0;34m[\u001b[0m\u001b[0mi\u001b[0m\u001b[0;34m]\u001b[0m\u001b[0;34m>\u001b[0m\u001b[0;36m2\u001b[0m\u001b[0;34m:\u001b[0m\u001b[0;34m\u001b[0m\u001b[0;34m\u001b[0m\u001b[0m\n\u001b[1;32m      5\u001b[0m         \u001b[0mpossible\u001b[0m\u001b[0;34m.\u001b[0m\u001b[0mappend\u001b[0m\u001b[0;34m(\u001b[0m\u001b[0mkeys\u001b[0m\u001b[0;34m[\u001b[0m\u001b[0mi\u001b[0m\u001b[0;34m]\u001b[0m\u001b[0;34m)\u001b[0m\u001b[0;34m\u001b[0m\u001b[0;34m\u001b[0m\u001b[0m\n",
            "\u001b[0;31mNameError\u001b[0m: name 'keys' is not defined"
          ]
        }
      ]
    },
    {
      "cell_type": "code",
      "metadata": {
        "colab": {
          "base_uri": "https://localhost:8080/"
        },
        "id": "Hc4avqa4EADf",
        "outputId": "2b046a7f-d330-4a75-8af7-b7d75ba8e9b7"
      },
      "source": [
        "place"
      ],
      "execution_count": null,
      "outputs": [
        {
          "output_type": "execute_result",
          "data": {
            "text/plain": [
              "[[0, 1, 3], [11, 22, 23, 24], [22, 23, 24], [22, 23, 24]]"
            ]
          },
          "metadata": {
            "tags": []
          },
          "execution_count": 67
        }
      ]
    },
    {
      "cell_type": "code",
      "metadata": {
        "colab": {
          "base_uri": "https://localhost:8080/"
        },
        "id": "Dexx6KVgAifI",
        "outputId": "14fc6d74-c9e3-4429-9f7b-e04867001625"
      },
      "source": [
        "possible"
      ],
      "execution_count": null,
      "outputs": [
        {
          "output_type": "execute_result",
          "data": {
            "text/plain": [
              "['0f079bdd-4117-4f6a-8b49-f3fb720b483c',\n",
              " '62468757-c12d-4d9f-a72a-c4bd74804f63',\n",
              " '8f461f4f-9e0e-422a-8266-be2671d16abe',\n",
              " 'd9cc331c-7c5d-4507-89de-1d78c3b0bddc']"
            ]
          },
          "metadata": {
            "tags": []
          },
          "execution_count": 65
        }
      ]
    },
    {
      "cell_type": "code",
      "metadata": {
        "colab": {
          "base_uri": "https://localhost:8080/"
        },
        "id": "8wctHvr17cNe",
        "outputId": "2cdabbee-891c-4b13-d595-68cb3ff9a0c3"
      },
      "source": [
        "openstack1[openstack1.Label == openstack1.Label.unique()[200]]['Content'].to_list()"
      ],
      "execution_count": null,
      "outputs": [
        {
          "output_type": "execute_result",
          "data": {
            "text/plain": [
              "['[instance: f8707b01-1147-4fcd-b103-128d7accb66c] Attempting claim: memory 2048 MB, disk 20 GB, vcpus 1 CPU',\n",
              " '[instance: f8707b01-1147-4fcd-b103-128d7accb66c] Total memory: 64172 MB, used: 512.00 MB',\n",
              " '[instance: f8707b01-1147-4fcd-b103-128d7accb66c] memory limit: 96258.00 MB, free: 95746.00 MB',\n",
              " '[instance: f8707b01-1147-4fcd-b103-128d7accb66c] Total disk: 15 GB, used: 0.00 GB',\n",
              " '[instance: f8707b01-1147-4fcd-b103-128d7accb66c] disk limit not specified, defaulting to unlimited',\n",
              " '[instance: f8707b01-1147-4fcd-b103-128d7accb66c] Total vcpu: 16 VCPU, used: 0.00 VCPU',\n",
              " '[instance: f8707b01-1147-4fcd-b103-128d7accb66c] vcpu limit not specified, defaulting to unlimited',\n",
              " '[instance: f8707b01-1147-4fcd-b103-128d7accb66c] Claim successful',\n",
              " '10.11.10.1 \"GET /v2/54fadb412c4e40cdbaed9335e4c35a9e/servers/f8707b01-1147-4fcd-b103-128d7accb66c HTTP/1.1\" status: 200 len: 1708 time: 0.1900339',\n",
              " '[instance: f8707b01-1147-4fcd-b103-128d7accb66c] Creating image',\n",
              " '[instance: f8707b01-1147-4fcd-b103-128d7accb66c] VM Started (Lifecycle Event)',\n",
              " '[instance: f8707b01-1147-4fcd-b103-128d7accb66c] VM Paused (Lifecycle Event)',\n",
              " '[instance: f8707b01-1147-4fcd-b103-128d7accb66c] During sync_power_state the instance has a pending task (spawning). Skip.',\n",
              " 'Creating event network-vif-plugged:6e433e22-2a87-429d-b2ac-fea88a7e2c2e for instance f8707b01-1147-4fcd-b103-128d7accb66c',\n",
              " '[instance: f8707b01-1147-4fcd-b103-128d7accb66c] VM Resumed (Lifecycle Event)',\n",
              " '[instance: f8707b01-1147-4fcd-b103-128d7accb66c] Instance spawned successfully.',\n",
              " '[instance: f8707b01-1147-4fcd-b103-128d7accb66c] Took 20.06 seconds to spawn the instance on the hypervisor.',\n",
              " '[instance: f8707b01-1147-4fcd-b103-128d7accb66c] During sync_power_state the instance has a pending task (spawning). Skip.',\n",
              " '[instance: f8707b01-1147-4fcd-b103-128d7accb66c] VM Resumed (Lifecycle Event)',\n",
              " '[instance: f8707b01-1147-4fcd-b103-128d7accb66c] Took 20.86 seconds to build instance.',\n",
              " '10.11.10.1 \"DELETE /v2/54fadb412c4e40cdbaed9335e4c35a9e/servers/f8707b01-1147-4fcd-b103-128d7accb66c HTTP/1.1\" status: 204 len: 203 time: 0.2658291',\n",
              " '[instance: f8707b01-1147-4fcd-b103-128d7accb66c] Terminating instance',\n",
              " '[instance: f8707b01-1147-4fcd-b103-128d7accb66c] Instance destroyed successfully.',\n",
              " '[instance: f8707b01-1147-4fcd-b103-128d7accb66c] Deleting instance files /var/lib/nova/instances/f8707b01-1147-4fcd-b103-128d7accb66c_del',\n",
              " '[instance: f8707b01-1147-4fcd-b103-128d7accb66c] Deletion of /var/lib/nova/instances/f8707b01-1147-4fcd-b103-128d7accb66c_del complete',\n",
              " '[instance: f8707b01-1147-4fcd-b103-128d7accb66c] Took 1.03 seconds to destroy the instance on the hypervisor.',\n",
              " '[instance: f8707b01-1147-4fcd-b103-128d7accb66c] Took 0.45 seconds to deallocate network for instance.',\n",
              " '[instance: f8707b01-1147-4fcd-b103-128d7accb66c] VM Stopped (Lifecycle Event)']"
            ]
          },
          "metadata": {
            "tags": []
          },
          "execution_count": 136
        }
      ]
    },
    {
      "cell_type": "code",
      "metadata": {
        "colab": {
          "base_uri": "https://localhost:8080/"
        },
        "id": "DqygDtGI7F1U",
        "outputId": "4dbe9bcd-7aa1-4cae-d997-5f801c21f9e8"
      },
      "source": [
        "id = possible[2]\n",
        "content = openstack2[openstack2.Label == id]['Content'].to_list()\n",
        "content = ['start']+content+['end']\n",
        "for i in range(len(content)):\n",
        "    print(i,content[i])\n",
        "[22, 23, 24]"
      ],
      "execution_count": null,
      "outputs": [
        {
          "output_type": "stream",
          "text": [
            "0 start\n",
            "1 [instance: 8f461f4f-9e0e-422a-8266-be2671d16abe] Attempting claim: memory 2048 MB, disk 20 GB, vcpus 1 CPU\n",
            "2 [instance: 8f461f4f-9e0e-422a-8266-be2671d16abe] Total memory: 64172 MB, used: 512.00 MB\n",
            "3 [instance: 8f461f4f-9e0e-422a-8266-be2671d16abe] memory limit: 96258.00 MB, free: 95746.00 MB\n",
            "4 [instance: 8f461f4f-9e0e-422a-8266-be2671d16abe] Total disk: 15 GB, used: 0.00 GB\n",
            "5 [instance: 8f461f4f-9e0e-422a-8266-be2671d16abe] disk limit not specified, defaulting to unlimited\n",
            "6 [instance: 8f461f4f-9e0e-422a-8266-be2671d16abe] Total vcpu: 16 VCPU, used: 0.00 VCPU\n",
            "7 [instance: 8f461f4f-9e0e-422a-8266-be2671d16abe] vcpu limit not specified, defaulting to unlimited\n",
            "8 [instance: 8f461f4f-9e0e-422a-8266-be2671d16abe] Claim successful\n",
            "9 10.11.10.1 \"GET /v2/54fadb412c4e40cdbaed9335e4c35a9e/servers/8f461f4f-9e0e-422a-8266-be2671d16abe HTTP/1.1\" status: 200 len: 1708 time: 0.1960180\n",
            "10 [instance: 8f461f4f-9e0e-422a-8266-be2671d16abe] Creating image\n",
            "11 [instance: 8f461f4f-9e0e-422a-8266-be2671d16abe] VM Started (Lifecycle Event)\n",
            "12 [instance: 8f461f4f-9e0e-422a-8266-be2671d16abe] VM Paused (Lifecycle Event)\n",
            "13 [instance: 8f461f4f-9e0e-422a-8266-be2671d16abe] During sync_power_state the instance has a pending task (spawning). Skip.\n",
            "14 Creating event network-vif-plugged:92dd7ca2-3654-45c3-94bd-64c688123afe for instance 8f461f4f-9e0e-422a-8266-be2671d16abe\n",
            "15 [instance: 8f461f4f-9e0e-422a-8266-be2671d16abe] VM Resumed (Lifecycle Event)\n",
            "16 [instance: 8f461f4f-9e0e-422a-8266-be2671d16abe] Instance spawned successfully.\n",
            "17 [instance: 8f461f4f-9e0e-422a-8266-be2671d16abe] Took 20.39 seconds to spawn the instance on the hypervisor.\n",
            "18 [instance: 8f461f4f-9e0e-422a-8266-be2671d16abe] During sync_power_state the instance has a pending task (spawning). Skip.\n",
            "19 [instance: 8f461f4f-9e0e-422a-8266-be2671d16abe] VM Resumed (Lifecycle Event)\n",
            "20 [instance: 8f461f4f-9e0e-422a-8266-be2671d16abe] During sync_power_state the instance has a pending task (spawning). Skip.\n",
            "21 [instance: 8f461f4f-9e0e-422a-8266-be2671d16abe] Took 21.29 seconds to build instance.\n",
            "22 [instance: 8f461f4f-9e0e-422a-8266-be2671d16abe] During sync_power_state the instance has a pending task (spawning). Skip.\n",
            "23 10.11.10.1 \"DELETE /v2/54fadb412c4e40cdbaed9335e4c35a9e/servers/8f461f4f-9e0e-422a-8266-be2671d16abe HTTP/1.1\" status: 204 len: 203 time: 0.2736802\n",
            "24 [instance: 8f461f4f-9e0e-422a-8266-be2671d16abe] Terminating instance\n",
            "25 [instance: 8f461f4f-9e0e-422a-8266-be2671d16abe] Instance destroyed successfully.\n",
            "26 [instance: 8f461f4f-9e0e-422a-8266-be2671d16abe] Deleting instance files /var/lib/nova/instances/8f461f4f-9e0e-422a-8266-be2671d16abe_del\n",
            "27 [instance: 8f461f4f-9e0e-422a-8266-be2671d16abe] Deletion of /var/lib/nova/instances/8f461f4f-9e0e-422a-8266-be2671d16abe_del complete\n",
            "28 [instance: 8f461f4f-9e0e-422a-8266-be2671d16abe] Took 1.04 seconds to destroy the instance on the hypervisor.\n",
            "29 [instance: 8f461f4f-9e0e-422a-8266-be2671d16abe] Took 0.46 seconds to deallocate network for instance.\n",
            "30 [instance: 8f461f4f-9e0e-422a-8266-be2671d16abe] VM Stopped (Lifecycle Event)\n",
            "31 end\n"
          ],
          "name": "stdout"
        }
      ]
    },
    {
      "cell_type": "code",
      "metadata": {
        "id": "gBC0Md1FfHgC"
      },
      "source": [
        "precision,recall = kk[0][1:3]"
      ],
      "execution_count": null,
      "outputs": []
    },
    {
      "cell_type": "code",
      "metadata": {
        "colab": {
          "base_uri": "https://localhost:8080/"
        },
        "id": "wMnYP6I-fg6k",
        "outputId": "4c695150-34c2-42ed-93c6-cb783836d74e"
      },
      "source": [
        "import pandas as pd\n",
        "pr_auc_data = pd.DataFrame({'precision': precision, 'recall': recall})\n",
        "pr_auc_data = pr_auc_data.sort_values('recall',ascending= True)\n",
        "pr_auc = sklearn.metrics.auc(pr_auc_data.recall, pr_auc_data.precision)\n",
        "pr_auc"
      ],
      "execution_count": null,
      "outputs": [
        {
          "output_type": "execute_result",
          "data": {
            "text/plain": [
              "0.44827989077823843"
            ]
          },
          "metadata": {
            "tags": []
          },
          "execution_count": 23
        }
      ]
    },
    {
      "cell_type": "code",
      "metadata": {
        "colab": {
          "base_uri": "https://localhost:8080/"
        },
        "id": "hkNOqE8Ui8iR",
        "outputId": "e227ee35-1278-4552-82b7-5014294a0664"
      },
      "source": [
        "def return_percentage_threshold(prediction):\n",
        "    pp = sorted(prediction)\n",
        "    thr = []\n",
        "    for i in range(5):\n",
        "        thr.append(pp[-round(len(pp)*(i+1)/100)])\n",
        "    return thr\n",
        "\n",
        "def predict(score,thr):\n",
        "    returns =[]\n",
        "    for i in score:\n",
        "        if i>=thr:\n",
        "            returns.append(1)\n",
        "        else:\n",
        "            returns.append(0)\n",
        "    return returns\n",
        "\n",
        "thrs = return_percentage_threshold(kk[0][5])\n",
        "thrs"
      ],
      "execution_count": null,
      "outputs": [
        {
          "output_type": "execute_result",
          "data": {
            "text/plain": [
              "[0, 0, 0, 0, 0]"
            ]
          },
          "metadata": {
            "tags": []
          },
          "execution_count": 24
        }
      ]
    },
    {
      "cell_type": "code",
      "metadata": {
        "colab": {
          "base_uri": "https://localhost:8080/"
        },
        "id": "xvS5xbhHjr4J",
        "outputId": "14eb55d5-029d-4ddf-b8e2-ef03eb7c7307"
      },
      "source": [
        "# top 1% report as outlier\n",
        "final_pre = predict(kk[0][5],thrs[0])\n",
        "sklearn.metrics.precision_recall_fscore_support(kk[0][4],final_pre)"
      ],
      "execution_count": null,
      "outputs": [
        {
          "output_type": "stream",
          "text": [
            "/usr/local/lib/python3.7/dist-packages/sklearn/metrics/_classification.py:1272: UndefinedMetricWarning: Precision and F-score are ill-defined and being set to 0.0 in labels with no predicted samples. Use `zero_division` parameter to control this behavior.\n",
            "  _warn_prf(average, modifier, msg_start, len(result))\n"
          ],
          "name": "stderr"
        },
        {
          "output_type": "execute_result",
          "data": {
            "text/plain": [
              "(array([0.        , 0.13086583]),\n",
              " array([0., 1.]),\n",
              " array([0.       , 0.2314436]),\n",
              " array([1315,  198]))"
            ]
          },
          "metadata": {
            "tags": []
          },
          "execution_count": 25
        }
      ]
    },
    {
      "cell_type": "code",
      "metadata": {
        "colab": {
          "base_uri": "https://localhost:8080/"
        },
        "id": "JDx2anPPj16N",
        "outputId": "caa75ac7-1b18-4989-8bb6-98a0c05c30a2"
      },
      "source": [
        "# top 2% report as outlier\n",
        "final_pre = predict(kk[0][5],thrs[1])\n",
        "sklearn.metrics.precision_recall_fscore_support(kk[0][4],final_pre)"
      ],
      "execution_count": null,
      "outputs": [
        {
          "output_type": "stream",
          "text": [
            "/usr/local/lib/python3.7/dist-packages/sklearn/metrics/_classification.py:1272: UndefinedMetricWarning: Precision and F-score are ill-defined and being set to 0.0 in labels with no predicted samples. Use `zero_division` parameter to control this behavior.\n",
            "  _warn_prf(average, modifier, msg_start, len(result))\n"
          ],
          "name": "stderr"
        },
        {
          "output_type": "execute_result",
          "data": {
            "text/plain": [
              "(array([0.        , 0.13086583]),\n",
              " array([0., 1.]),\n",
              " array([0.       , 0.2314436]),\n",
              " array([1315,  198]))"
            ]
          },
          "metadata": {
            "tags": []
          },
          "execution_count": 26
        }
      ]
    },
    {
      "cell_type": "code",
      "metadata": {
        "colab": {
          "base_uri": "https://localhost:8080/"
        },
        "id": "xd8jdwk6kjt7",
        "outputId": "269f6b59-dee8-4d2c-8826-dd523370e0e0"
      },
      "source": [
        "# top 2% report as outlier\n",
        "final_pre = predict(kk[0][5],thrs[2])\n",
        "sklearn.metrics.precision_recall_fscore_support(kk[0][4],final_pre)"
      ],
      "execution_count": null,
      "outputs": [
        {
          "output_type": "stream",
          "text": [
            "/usr/local/lib/python3.7/dist-packages/sklearn/metrics/_classification.py:1272: UndefinedMetricWarning: Precision and F-score are ill-defined and being set to 0.0 in labels with no predicted samples. Use `zero_division` parameter to control this behavior.\n",
            "  _warn_prf(average, modifier, msg_start, len(result))\n"
          ],
          "name": "stderr"
        },
        {
          "output_type": "execute_result",
          "data": {
            "text/plain": [
              "(array([0.        , 0.13086583]),\n",
              " array([0., 1.]),\n",
              " array([0.       , 0.2314436]),\n",
              " array([1315,  198]))"
            ]
          },
          "metadata": {
            "tags": []
          },
          "execution_count": 27
        }
      ]
    }
  ]
}