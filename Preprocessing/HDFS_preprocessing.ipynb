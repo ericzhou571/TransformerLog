{
  "nbformat": 4,
  "nbformat_minor": 0,
  "metadata": {
    "kernelspec": {
      "display_name": "Python 3",
      "language": "python",
      "name": "python3"
    },
    "language_info": {
      "codemirror_mode": {
        "name": "ipython",
        "version": 3
      },
      "file_extension": ".py",
      "mimetype": "text/x-python",
      "name": "python",
      "nbconvert_exporter": "python",
      "pygments_lexer": "ipython3",
      "version": "3.8.3"
    },
    "colab": {
      "name": "HDFS_preprocessing",
      "provenance": [],
      "collapsed_sections": [],
      "machine_shape": "hm"
    },
    "widgets": {
      "application/vnd.jupyter.widget-state+json": {
        "0f4c2db86cf54411ab92b1d0b5bbd24e": {
          "model_module": "@jupyter-widgets/controls",
          "model_name": "HBoxModel",
          "model_module_version": "1.5.0",
          "state": {
            "_view_name": "HBoxView",
            "_dom_classes": [],
            "_model_name": "HBoxModel",
            "_view_module": "@jupyter-widgets/controls",
            "_model_module_version": "1.5.0",
            "_view_count": null,
            "_view_module_version": "1.5.0",
            "box_style": "",
            "layout": "IPY_MODEL_d92d618e0ea047279826d1516cb64245",
            "_model_module": "@jupyter-widgets/controls",
            "children": [
              "IPY_MODEL_6ccceaa0e2bd40b98b7bac9f37b5db3b",
              "IPY_MODEL_490b45781b3b4b62882c7554a3b8bc1d",
              "IPY_MODEL_35d3057a7c0b46c78bb3ab31c7d2bb72"
            ]
          }
        },
        "d92d618e0ea047279826d1516cb64245": {
          "model_module": "@jupyter-widgets/base",
          "model_name": "LayoutModel",
          "model_module_version": "1.2.0",
          "state": {
            "_view_name": "LayoutView",
            "grid_template_rows": null,
            "right": null,
            "justify_content": null,
            "_view_module": "@jupyter-widgets/base",
            "overflow": null,
            "_model_module_version": "1.2.0",
            "_view_count": null,
            "flex_flow": null,
            "width": null,
            "min_width": null,
            "border": null,
            "align_items": null,
            "bottom": null,
            "_model_module": "@jupyter-widgets/base",
            "top": null,
            "grid_column": null,
            "overflow_y": null,
            "overflow_x": null,
            "grid_auto_flow": null,
            "grid_area": null,
            "grid_template_columns": null,
            "flex": null,
            "_model_name": "LayoutModel",
            "justify_items": null,
            "grid_row": null,
            "max_height": null,
            "align_content": null,
            "visibility": null,
            "align_self": null,
            "height": null,
            "min_height": null,
            "padding": null,
            "grid_auto_rows": null,
            "grid_gap": null,
            "max_width": null,
            "order": null,
            "_view_module_version": "1.2.0",
            "grid_template_areas": null,
            "object_position": null,
            "object_fit": null,
            "grid_auto_columns": null,
            "margin": null,
            "display": null,
            "left": null
          }
        },
        "6ccceaa0e2bd40b98b7bac9f37b5db3b": {
          "model_module": "@jupyter-widgets/controls",
          "model_name": "HTMLModel",
          "model_module_version": "1.5.0",
          "state": {
            "_view_name": "HTMLView",
            "style": "IPY_MODEL_b99400f1e7cf43e2bdef2eb596224f27",
            "_dom_classes": [],
            "description": "",
            "_model_name": "HTMLModel",
            "placeholder": "​",
            "_view_module": "@jupyter-widgets/controls",
            "_model_module_version": "1.5.0",
            "value": "100%",
            "_view_count": null,
            "_view_module_version": "1.5.0",
            "description_tooltip": null,
            "_model_module": "@jupyter-widgets/controls",
            "layout": "IPY_MODEL_442755a4602e4eef87bb8600767cc848"
          }
        },
        "490b45781b3b4b62882c7554a3b8bc1d": {
          "model_module": "@jupyter-widgets/controls",
          "model_name": "FloatProgressModel",
          "model_module_version": "1.5.0",
          "state": {
            "_view_name": "ProgressView",
            "style": "IPY_MODEL_078fd932abb841d9aa7841d47e93e7cf",
            "_dom_classes": [],
            "description": "",
            "_model_name": "FloatProgressModel",
            "bar_style": "success",
            "max": 11175629,
            "_view_module": "@jupyter-widgets/controls",
            "_model_module_version": "1.5.0",
            "value": 11175629,
            "_view_count": null,
            "_view_module_version": "1.5.0",
            "orientation": "horizontal",
            "min": 0,
            "description_tooltip": null,
            "_model_module": "@jupyter-widgets/controls",
            "layout": "IPY_MODEL_ea6199613eff4b8cab8d1b260d29cb17"
          }
        },
        "35d3057a7c0b46c78bb3ab31c7d2bb72": {
          "model_module": "@jupyter-widgets/controls",
          "model_name": "HTMLModel",
          "model_module_version": "1.5.0",
          "state": {
            "_view_name": "HTMLView",
            "style": "IPY_MODEL_e0bd6f3aab2d447da52a12eeabee0bde",
            "_dom_classes": [],
            "description": "",
            "_model_name": "HTMLModel",
            "placeholder": "​",
            "_view_module": "@jupyter-widgets/controls",
            "_model_module_version": "1.5.0",
            "value": " 11175629/11175629 [02:18&lt;00:00, 94979.97it/s]",
            "_view_count": null,
            "_view_module_version": "1.5.0",
            "description_tooltip": null,
            "_model_module": "@jupyter-widgets/controls",
            "layout": "IPY_MODEL_1d79c99bfaaa47f3862bf5c7af27f971"
          }
        },
        "b99400f1e7cf43e2bdef2eb596224f27": {
          "model_module": "@jupyter-widgets/controls",
          "model_name": "DescriptionStyleModel",
          "model_module_version": "1.5.0",
          "state": {
            "_view_name": "StyleView",
            "_model_name": "DescriptionStyleModel",
            "description_width": "",
            "_view_module": "@jupyter-widgets/base",
            "_model_module_version": "1.5.0",
            "_view_count": null,
            "_view_module_version": "1.2.0",
            "_model_module": "@jupyter-widgets/controls"
          }
        },
        "442755a4602e4eef87bb8600767cc848": {
          "model_module": "@jupyter-widgets/base",
          "model_name": "LayoutModel",
          "model_module_version": "1.2.0",
          "state": {
            "_view_name": "LayoutView",
            "grid_template_rows": null,
            "right": null,
            "justify_content": null,
            "_view_module": "@jupyter-widgets/base",
            "overflow": null,
            "_model_module_version": "1.2.0",
            "_view_count": null,
            "flex_flow": null,
            "width": null,
            "min_width": null,
            "border": null,
            "align_items": null,
            "bottom": null,
            "_model_module": "@jupyter-widgets/base",
            "top": null,
            "grid_column": null,
            "overflow_y": null,
            "overflow_x": null,
            "grid_auto_flow": null,
            "grid_area": null,
            "grid_template_columns": null,
            "flex": null,
            "_model_name": "LayoutModel",
            "justify_items": null,
            "grid_row": null,
            "max_height": null,
            "align_content": null,
            "visibility": null,
            "align_self": null,
            "height": null,
            "min_height": null,
            "padding": null,
            "grid_auto_rows": null,
            "grid_gap": null,
            "max_width": null,
            "order": null,
            "_view_module_version": "1.2.0",
            "grid_template_areas": null,
            "object_position": null,
            "object_fit": null,
            "grid_auto_columns": null,
            "margin": null,
            "display": null,
            "left": null
          }
        },
        "078fd932abb841d9aa7841d47e93e7cf": {
          "model_module": "@jupyter-widgets/controls",
          "model_name": "ProgressStyleModel",
          "model_module_version": "1.5.0",
          "state": {
            "_view_name": "StyleView",
            "_model_name": "ProgressStyleModel",
            "description_width": "",
            "_view_module": "@jupyter-widgets/base",
            "_model_module_version": "1.5.0",
            "_view_count": null,
            "_view_module_version": "1.2.0",
            "bar_color": null,
            "_model_module": "@jupyter-widgets/controls"
          }
        },
        "ea6199613eff4b8cab8d1b260d29cb17": {
          "model_module": "@jupyter-widgets/base",
          "model_name": "LayoutModel",
          "model_module_version": "1.2.0",
          "state": {
            "_view_name": "LayoutView",
            "grid_template_rows": null,
            "right": null,
            "justify_content": null,
            "_view_module": "@jupyter-widgets/base",
            "overflow": null,
            "_model_module_version": "1.2.0",
            "_view_count": null,
            "flex_flow": null,
            "width": null,
            "min_width": null,
            "border": null,
            "align_items": null,
            "bottom": null,
            "_model_module": "@jupyter-widgets/base",
            "top": null,
            "grid_column": null,
            "overflow_y": null,
            "overflow_x": null,
            "grid_auto_flow": null,
            "grid_area": null,
            "grid_template_columns": null,
            "flex": null,
            "_model_name": "LayoutModel",
            "justify_items": null,
            "grid_row": null,
            "max_height": null,
            "align_content": null,
            "visibility": null,
            "align_self": null,
            "height": null,
            "min_height": null,
            "padding": null,
            "grid_auto_rows": null,
            "grid_gap": null,
            "max_width": null,
            "order": null,
            "_view_module_version": "1.2.0",
            "grid_template_areas": null,
            "object_position": null,
            "object_fit": null,
            "grid_auto_columns": null,
            "margin": null,
            "display": null,
            "left": null
          }
        },
        "e0bd6f3aab2d447da52a12eeabee0bde": {
          "model_module": "@jupyter-widgets/controls",
          "model_name": "DescriptionStyleModel",
          "model_module_version": "1.5.0",
          "state": {
            "_view_name": "StyleView",
            "_model_name": "DescriptionStyleModel",
            "description_width": "",
            "_view_module": "@jupyter-widgets/base",
            "_model_module_version": "1.5.0",
            "_view_count": null,
            "_view_module_version": "1.2.0",
            "_model_module": "@jupyter-widgets/controls"
          }
        },
        "1d79c99bfaaa47f3862bf5c7af27f971": {
          "model_module": "@jupyter-widgets/base",
          "model_name": "LayoutModel",
          "model_module_version": "1.2.0",
          "state": {
            "_view_name": "LayoutView",
            "grid_template_rows": null,
            "right": null,
            "justify_content": null,
            "_view_module": "@jupyter-widgets/base",
            "overflow": null,
            "_model_module_version": "1.2.0",
            "_view_count": null,
            "flex_flow": null,
            "width": null,
            "min_width": null,
            "border": null,
            "align_items": null,
            "bottom": null,
            "_model_module": "@jupyter-widgets/base",
            "top": null,
            "grid_column": null,
            "overflow_y": null,
            "overflow_x": null,
            "grid_auto_flow": null,
            "grid_area": null,
            "grid_template_columns": null,
            "flex": null,
            "_model_name": "LayoutModel",
            "justify_items": null,
            "grid_row": null,
            "max_height": null,
            "align_content": null,
            "visibility": null,
            "align_self": null,
            "height": null,
            "min_height": null,
            "padding": null,
            "grid_auto_rows": null,
            "grid_gap": null,
            "max_width": null,
            "order": null,
            "_view_module_version": "1.2.0",
            "grid_template_areas": null,
            "object_position": null,
            "object_fit": null,
            "grid_auto_columns": null,
            "margin": null,
            "display": null,
            "left": null
          }
        }
      }
    }
  },
  "cells": [
    {
      "cell_type": "markdown",
      "metadata": {
        "id": "_p4Ba1uii0Tt"
      },
      "source": [
        "# Preparation "
      ]
    },
    {
      "cell_type": "code",
      "metadata": {
        "colab": {
          "base_uri": "https://localhost:8080/"
        },
        "id": "yI2yI5nQfLqg",
        "outputId": "4800ab5b-64eb-426c-d750-443a39e8876d"
      },
      "source": [
        "!pip install drain3"
      ],
      "execution_count": 1,
      "outputs": [
        {
          "output_type": "stream",
          "text": [
            "Collecting drain3\n",
            "  Downloading drain3-0.9.6.tar.gz (22 kB)\n",
            "Collecting jsonpickle==1.5.1\n",
            "  Downloading jsonpickle-1.5.1-py2.py3-none-any.whl (37 kB)\n",
            "Collecting cachetools==4.2.1\n",
            "  Downloading cachetools-4.2.1-py3-none-any.whl (12 kB)\n",
            "Requirement already satisfied: importlib-metadata in /usr/local/lib/python3.7/dist-packages (from jsonpickle==1.5.1->drain3) (4.6.3)\n",
            "Requirement already satisfied: typing-extensions>=3.6.4 in /usr/local/lib/python3.7/dist-packages (from importlib-metadata->jsonpickle==1.5.1->drain3) (3.7.4.3)\n",
            "Requirement already satisfied: zipp>=0.5 in /usr/local/lib/python3.7/dist-packages (from importlib-metadata->jsonpickle==1.5.1->drain3) (3.5.0)\n",
            "Building wheels for collected packages: drain3\n",
            "  Building wheel for drain3 (setup.py) ... \u001b[?25l\u001b[?25hdone\n",
            "  Created wheel for drain3: filename=drain3-0.9.6-py3-none-any.whl size=18869 sha256=4fe02d6027bfd01207d5b88269067ef3167e47a15c60e8e9bdcbd312df59704f\n",
            "  Stored in directory: /root/.cache/pip/wheels/1c/de/75/b3158b4ef2fffbdbb75cfceb706c645d27b19e5d8cb0eec180\n",
            "Successfully built drain3\n",
            "Installing collected packages: jsonpickle, cachetools, drain3\n",
            "  Attempting uninstall: cachetools\n",
            "    Found existing installation: cachetools 4.2.2\n",
            "    Uninstalling cachetools-4.2.2:\n",
            "      Successfully uninstalled cachetools-4.2.2\n",
            "Successfully installed cachetools-4.2.1 drain3-0.9.6 jsonpickle-1.5.1\n"
          ],
          "name": "stdout"
        }
      ]
    },
    {
      "cell_type": "code",
      "metadata": {
        "id": "R21YySZszRZh",
        "colab": {
          "base_uri": "https://localhost:8080/"
        },
        "outputId": "544a2c24-800a-471b-bbc0-bb59389b08b1"
      },
      "source": [
        "import re\n",
        "import pandas as pd\n",
        "\n",
        "from drain3 import TemplateMiner\n",
        "import re\n",
        "from drain3.template_miner_config import TemplateMinerConfig\n",
        "from multiprocessing import Pool\n",
        "from tqdm import tqdm_notebook\n",
        "from sklearn.metrics import precision_recall_fscore_support\n",
        "\n",
        "from google.colab import drive\n",
        "drive.mount('/content/drive')"
      ],
      "execution_count": 2,
      "outputs": [
        {
          "output_type": "stream",
          "text": [
            "Mounted at /content/drive\n"
          ],
          "name": "stdout"
        }
      ]
    },
    {
      "cell_type": "markdown",
      "metadata": {
        "id": "-E3lAWzBpYwo"
      },
      "source": [
        "# Functions defintion"
      ]
    },
    {
      "cell_type": "code",
      "metadata": {
        "id": "E828RHm6zRZq"
      },
      "source": [
        "def generate_logformat_regex(logformat):\n",
        "    \"\"\" Function to generate regular expression to split log messages\n",
        "    \"\"\"\n",
        "    headers = []\n",
        "    splitters = re.split(r'(<[^<>]+>)', logformat)\n",
        "    regex = ''\n",
        "    for k in range(len(splitters)):\n",
        "        if k % 2 == 0:\n",
        "            splitter = re.sub(' +', '\\\\\\s+', splitters[k])\n",
        "            regex += splitter\n",
        "        else:\n",
        "            header = splitters[k].strip('<').strip('>')\n",
        "            regex += '(?P<%s>.*?)' % header\n",
        "            headers.append(header)\n",
        "    regex = re.compile('^' + regex + '$')\n",
        "    return headers, regex\n",
        "\n",
        "\n",
        "# Train Log parsing object : **tm**\n",
        "#function of tm: we input a log message into **tm**, **tm** return template id of it\n",
        "def baseline(Path,headers,regex,line_number):\n",
        "    df = []\n",
        "    \n",
        "    #-----\n",
        "    #parsing all logs, try to get all templates as precisely as possible \n",
        "    #-----\n",
        "    with open(Path,'r') as data:\n",
        "        for i in tqdm_notebook(range(line_number)):\n",
        "            # this fixed number is to avoid endless loop (only for code running on colab)\n",
        "            line = data.readline()\n",
        "            try:\n",
        "                match = regex.search(line.strip())\n",
        "            except:\n",
        "                continue\n",
        "            tmp = [re.findall(r'blk_-?\\d+',line)[0]]\n",
        "            for i in range(len(headers)):\n",
        "                tmp.append(match.group(headers[i]))\n",
        "            df.append(tmp)\n",
        "\n",
        "        headers = ['Id']+ headers\n",
        "        return pd.DataFrame(df,columns=headers)\n",
        "\n",
        "            \n",
        "\n",
        "            \n"
      ],
      "execution_count": 3,
      "outputs": []
    },
    {
      "cell_type": "markdown",
      "metadata": {
        "id": "JkENzcYuoRRq"
      },
      "source": [
        "# Log Parsing\n",
        "\n",
        "## load data"
      ]
    },
    {
      "cell_type": "code",
      "metadata": {
        "colab": {
          "base_uri": "https://localhost:8080/"
        },
        "id": "y3y3qaN5psc4",
        "outputId": "9e871705-5c52-45ff-b183-f71575866b87"
      },
      "source": [
        "# Data preprocessing\n",
        "# BGL\n",
        "#!cp ./drive/MyDrive/thunderbird/BGL.tar.gz .\n",
        "#!tar xf BGL.tar.gz\n",
        "#!wc -l BGL.log\n",
        "\n",
        "#HDFS\n",
        "format_string = '<Date> <Time> <Pid> <Level> <Component>: <Content>'\n",
        "src = 'HDFS.log'\n",
        "dst = './drive/MyDrive/hdfs/'\n",
        "!cp ./drive/MyDrive/hdfs/HDFS_1.tar.gz .\n",
        "!tar xf HDFS_1.tar.gz\n",
        "!wc -l HDFS.log"
      ],
      "execution_count": 4,
      "outputs": [
        {
          "output_type": "stream",
          "text": [
            "11175629 HDFS.log\n"
          ],
          "name": "stdout"
        }
      ]
    },
    {
      "cell_type": "markdown",
      "metadata": {
        "id": "WyvT3-Li33mN"
      },
      "source": [
        "## first parsing with regular expression"
      ]
    },
    {
      "cell_type": "code",
      "metadata": {
        "colab": {
          "base_uri": "https://localhost:8080/",
          "height": 83,
          "referenced_widgets": [
            "0f4c2db86cf54411ab92b1d0b5bbd24e",
            "d92d618e0ea047279826d1516cb64245",
            "6ccceaa0e2bd40b98b7bac9f37b5db3b",
            "490b45781b3b4b62882c7554a3b8bc1d",
            "35d3057a7c0b46c78bb3ab31c7d2bb72",
            "b99400f1e7cf43e2bdef2eb596224f27",
            "442755a4602e4eef87bb8600767cc848",
            "078fd932abb841d9aa7841d47e93e7cf",
            "ea6199613eff4b8cab8d1b260d29cb17",
            "e0bd6f3aab2d447da52a12eeabee0bde",
            "1d79c99bfaaa47f3862bf5c7af27f971"
          ]
        },
        "id": "dcmiPGMXut0h",
        "outputId": "39aa72be-c30d-40e1-c02f-e73bbd391de9"
      },
      "source": [
        "headers,regex = generate_logformat_regex(format_string)\n",
        "df = baseline(src,headers,regex,11175629)"
      ],
      "execution_count": 5,
      "outputs": [
        {
          "output_type": "stream",
          "text": [
            "/usr/local/lib/python3.7/dist-packages/ipykernel_launcher.py:28: TqdmDeprecationWarning: This function will be removed in tqdm==5.0.0\n",
            "Please use `tqdm.notebook.tqdm` instead of `tqdm.tqdm_notebook`\n"
          ],
          "name": "stderr"
        },
        {
          "output_type": "display_data",
          "data": {
            "application/vnd.jupyter.widget-view+json": {
              "model_id": "0f4c2db86cf54411ab92b1d0b5bbd24e",
              "version_minor": 0,
              "version_major": 2
            },
            "text/plain": [
              "  0%|          | 0/11175629 [00:00<?, ?it/s]"
            ]
          },
          "metadata": {
            "tags": []
          }
        }
      ]
    },
    {
      "cell_type": "markdown",
      "metadata": {
        "id": "C95tIMKxP4Cb"
      },
      "source": [
        "# Visualization for thesis"
      ]
    },
    {
      "cell_type": "code",
      "metadata": {
        "id": "X0cR5GZ-vjds"
      },
      "source": [
        "df.Date = df.Date.astype(str)\n",
        "df.Time = df.Time.astype(str)\n",
        "df['DateTime'] = pd.to_datetime(df.Date + df.Time, format='%m%d%y%H%M%S')\n",
        "\n",
        "anomaly = pd.read_csv('anomaly_label.csv')\n",
        "anomaly.set_index(anomaly.columns[0],inplace = True)\n",
        "#df = df.set_index('Id')\n",
        "df2 = df.merge(anomaly, left_index= True ,right_index= True)"
      ],
      "execution_count": null,
      "outputs": []
    },
    {
      "cell_type": "code",
      "metadata": {
        "id": "wsnYh8iSzGxN"
      },
      "source": [
        "df2['DateTime'] = pd.to_datetime(df2.Date + df2.Time, format='%y%m%d%H%M%S')\n",
        "df2.sort_values('DateTime',inplace = True)\n",
        "df4 = df2[df2.Label == 'Normal']"
      ],
      "execution_count": null,
      "outputs": []
    },
    {
      "cell_type": "code",
      "metadata": {
        "id": "uIezrz6BwHzc"
      },
      "source": [
        "df2 = df2[df2.Label != 'Normal']\n",
        "df3 = df2.groupby('index')['Content'].agg(list)"
      ],
      "execution_count": null,
      "outputs": []
    },
    {
      "cell_type": "code",
      "metadata": {
        "id": "NnXRe1_XwXvc"
      },
      "source": [
        "df4.reset_index(inplace = True)\n",
        "df4 = df4.groupby('index')['Content'].agg(list)"
      ],
      "execution_count": null,
      "outputs": []
    },
    {
      "cell_type": "code",
      "metadata": {
        "colab": {
          "base_uri": "https://localhost:8080/"
        },
        "id": "QZaUUwXxwcZT",
        "outputId": "0671e242-71d8-4a48-c1dd-e0e4324f2743"
      },
      "source": [
        "df4.loc['blk_-1016453873803095686'] #600"
      ],
      "execution_count": null,
      "outputs": [
        {
          "output_type": "execute_result",
          "data": {
            "text/plain": [
              "['BLOCK* NameSystem.allocateBlock: /mnt/hadoop/mapred/system/job_200811101024_0008/job.jar. blk_-1016453873803095686',\n",
              " 'BLOCK* NameSystem.addStoredBlock: blockMap updated: 10.251.71.97:50010 is added to blk_-1016453873803095686 size 91178',\n",
              " 'PacketResponder 0 for block blk_-1016453873803095686 terminating',\n",
              " 'Receiving block blk_-1016453873803095686 src: /10.251.106.10:35842 dest: /10.251.106.10:50010',\n",
              " 'BLOCK* NameSystem.addStoredBlock: blockMap updated: 10.251.106.10:50010 is added to blk_-1016453873803095686 size 91178',\n",
              " 'BLOCK* NameSystem.addStoredBlock: blockMap updated: 10.251.73.220:50010 is added to blk_-1016453873803095686 size 91178',\n",
              " 'Received block blk_-1016453873803095686 of size 91178 from /10.250.19.102',\n",
              " 'Receiving block blk_-1016453873803095686 src: /10.251.71.97:52272 dest: /10.251.71.97:50010',\n",
              " 'PacketResponder 1 for block blk_-1016453873803095686 terminating',\n",
              " 'Received block blk_-1016453873803095686 of size 91178 from /10.251.71.97',\n",
              " 'PacketResponder 2 for block blk_-1016453873803095686 terminating',\n",
              " 'Receiving block blk_-1016453873803095686 src: /10.250.19.102:59247 dest: /10.250.19.102:50010',\n",
              " 'Received block blk_-1016453873803095686 of size 91178 from /10.251.106.10',\n",
              " 'BLOCK* ask 10.251.71.97:50010 to replicate blk_-1016453873803095686 to datanode(s) 10.250.7.244:50010 10.251.74.134:50010',\n",
              " 'Receiving block blk_-1016453873803095686 src: /10.250.7.244:60301 dest: /10.250.7.244:50010',\n",
              " 'BLOCK* NameSystem.addStoredBlock: blockMap updated: 10.250.7.244:50010 is added to blk_-1016453873803095686 size 91178',\n",
              " 'Received block blk_-1016453873803095686 src: /10.251.71.97:41109 dest: /10.251.71.97:50010 of size 91178',\n",
              " 'BLOCK* NameSystem.addStoredBlock: blockMap updated: 10.251.74.134:50010 is added to blk_-1016453873803095686 size 91178',\n",
              " '10.251.71.97:50010:Transmitted block blk_-1016453873803095686 to /10.250.7.244:50010',\n",
              " '10.251.71.97:50010 Starting thread to transfer block blk_-1016453873803095686 to 10.250.7.244:50010, 10.251.74.134:50010',\n",
              " 'Receiving block blk_-1016453873803095686 src: /10.251.71.97:41109 dest: /10.251.71.97:50010',\n",
              " 'Received block blk_-1016453873803095686 src: /10.250.7.244:60301 dest: /10.250.7.244:50010 of size 91178',\n",
              " 'Receiving block blk_-1016453873803095686 src: /10.251.66.3:60170 dest: /10.251.66.3:50010',\n",
              " 'Received block blk_-1016453873803095686 src: /10.251.73.220:39427 dest: /10.251.73.220:50010 of size 91178',\n",
              " 'BLOCK* NameSystem.addStoredBlock: blockMap updated: 10.250.10.100:50010 is added to blk_-1016453873803095686 size 91178',\n",
              " 'BLOCK* NameSystem.addStoredBlock: blockMap updated: 10.251.66.3:50010 is added to blk_-1016453873803095686 size 91178',\n",
              " '10.251.73.220:50010 Starting thread to transfer block blk_-1016453873803095686 to 10.251.66.3:50010, 10.250.10.100:50010',\n",
              " 'Received block blk_-1016453873803095686 src: /10.251.66.3:60170 dest: /10.251.66.3:50010 of size 91178',\n",
              " '10.251.73.220:50010:Transmitted block blk_-1016453873803095686 to /10.251.66.3:50010',\n",
              " 'BLOCK* ask 10.251.73.220:50010 to replicate blk_-1016453873803095686 to datanode(s) 10.251.66.3:50010 10.250.10.100:50010',\n",
              " 'Receiving block blk_-1016453873803095686 src: /10.251.73.220:39427 dest: /10.251.73.220:50010',\n",
              " 'BLOCK* ask 10.251.66.3:50010 to replicate blk_-1016453873803095686 to datanode(s) 10.251.197.226:50010 10.251.66.192:50010',\n",
              " '10.251.74.134:50010 Served block blk_-1016453873803095686 to /10.250.19.102',\n",
              " 'BLOCK* NameSystem.addStoredBlock: blockMap updated: 10.251.66.192:50010 is added to blk_-1016453873803095686 size 91178',\n",
              " 'BLOCK* NameSystem.addStoredBlock: blockMap updated: 10.251.197.226:50010 is added to blk_-1016453873803095686 size 91178',\n",
              " '10.251.66.3:50010 Starting thread to transfer block blk_-1016453873803095686 to 10.251.197.226:50010, 10.251.66.192:50010',\n",
              " '10.251.66.3:50010:Transmitted block blk_-1016453873803095686 to /10.251.197.226:50010',\n",
              " 'Received block blk_-1016453873803095686 src: /10.251.66.3:36890 dest: /10.251.66.3:50010 of size 91178',\n",
              " 'Receiving block blk_-1016453873803095686 src: /10.251.66.3:36890 dest: /10.251.66.3:50010',\n",
              " 'Receiving block blk_-1016453873803095686 src: /10.251.197.226:53512 dest: /10.251.197.226:50010',\n",
              " 'Received block blk_-1016453873803095686 src: /10.251.197.226:53512 dest: /10.251.197.226:50010 of size 91178',\n",
              " 'BLOCK* ask 10.251.197.226:50010 to replicate blk_-1016453873803095686 to datanode(s) 10.251.111.37:50010',\n",
              " 'Received block blk_-1016453873803095686 src: /10.251.197.226:43863 dest: /10.251.197.226:50010 of size 91178',\n",
              " '10.251.197.226:50010:Transmitted block blk_-1016453873803095686 to /10.251.111.37:50010',\n",
              " '10.251.197.226:50010 Starting thread to transfer block blk_-1016453873803095686 to 10.251.111.37:50010',\n",
              " 'BLOCK* NameSystem.addStoredBlock: blockMap updated: 10.251.111.37:50010 is added to blk_-1016453873803095686 size 91178',\n",
              " 'Receiving block blk_-1016453873803095686 src: /10.251.197.226:43863 dest: /10.251.197.226:50010',\n",
              " '10.251.66.3:50010 Served block blk_-1016453873803095686 to /10.251.202.134',\n",
              " '10.251.66.3:50010 Served block blk_-1016453873803095686 to /10.251.195.70',\n",
              " '10.251.74.134:50010 Served block blk_-1016453873803095686 to /10.251.110.68',\n",
              " '10.251.74.134:50010 Served block blk_-1016453873803095686 to /10.250.7.146',\n",
              " '10.251.66.3:50010 Served block blk_-1016453873803095686 to /10.251.214.225',\n",
              " '10.250.10.100:50010 Served block blk_-1016453873803095686 to /10.251.107.227',\n",
              " '10.250.7.244:50010 Served block blk_-1016453873803095686 to /10.251.127.191',\n",
              " '10.250.10.100:50010 Served block blk_-1016453873803095686 to /10.251.110.160',\n",
              " '10.250.10.100:50010 Served block blk_-1016453873803095686 to /10.251.30.101',\n",
              " '10.251.106.10:50010 Served block blk_-1016453873803095686 to /10.250.14.196',\n",
              " '10.250.7.244:50010 Served block blk_-1016453873803095686 to /10.250.15.198',\n",
              " '10.250.10.100:50010 Served block blk_-1016453873803095686 to /10.251.203.149',\n",
              " '10.250.7.244:50010 Served block blk_-1016453873803095686 to /10.250.7.230',\n",
              " '10.251.71.97:50010 Served block blk_-1016453873803095686 to /10.251.67.113',\n",
              " '10.251.71.97:50010 Served block blk_-1016453873803095686 to /10.250.9.207',\n",
              " '10.251.111.37:50010 Served block blk_-1016453873803095686 to /10.250.11.53',\n",
              " '10.251.111.37:50010 Served block blk_-1016453873803095686 to /10.251.199.150',\n",
              " '10.251.66.192:50010 Served block blk_-1016453873803095686 to /10.251.66.192',\n",
              " '10.251.66.192:50010 Served block blk_-1016453873803095686 to /10.251.30.85',\n",
              " '10.251.66.192:50010 Served block blk_-1016453873803095686 to /10.250.10.176',\n",
              " '10.251.71.97:50010 Served block blk_-1016453873803095686 to /10.251.75.143',\n",
              " '10.250.7.244:50010 Served block blk_-1016453873803095686 to /10.251.198.196',\n",
              " '10.250.10.100:50010 Served block blk_-1016453873803095686 to /10.251.91.229',\n",
              " '10.250.10.100:50010 Served block blk_-1016453873803095686 to /10.251.91.15',\n",
              " '10.251.73.220:50010 Served block blk_-1016453873803095686 to /10.251.122.38',\n",
              " '10.251.111.37:50010 Served block blk_-1016453873803095686 to /10.250.11.100',\n",
              " '10.251.106.10:50010 Served block blk_-1016453873803095686 to /10.251.106.10',\n",
              " '10.251.111.37:50010 Served block blk_-1016453873803095686 to /10.251.126.5',\n",
              " '10.251.106.10:50010 Served block blk_-1016453873803095686 to /10.251.107.196',\n",
              " '10.251.111.37:50010 Served block blk_-1016453873803095686 to /10.251.71.68',\n",
              " '10.251.197.226:50010 Served block blk_-1016453873803095686 to /10.251.30.179',\n",
              " '10.251.197.226:50010 Served block blk_-1016453873803095686 to /10.251.74.192',\n",
              " '10.251.66.192:50010 Served block blk_-1016453873803095686 to /10.251.110.8',\n",
              " '10.251.197.226:50010 Served block blk_-1016453873803095686 to /10.251.43.210',\n",
              " '10.251.106.10:50010 Served block blk_-1016453873803095686 to /10.251.71.16',\n",
              " '10.251.66.3:50010 Served block blk_-1016453873803095686 to /10.251.66.3',\n",
              " '10.251.66.3:50010 Served block blk_-1016453873803095686 to /10.251.122.79',\n",
              " '10.251.66.3:50010 Served block blk_-1016453873803095686 to /10.251.111.228',\n",
              " '10.251.66.192:50010 Served block blk_-1016453873803095686 to /10.251.31.160',\n",
              " '10.251.197.226:50010 Served block blk_-1016453873803095686 to /10.251.75.79',\n",
              " '10.251.106.10:50010 Served block blk_-1016453873803095686 to /10.251.110.196',\n",
              " '10.251.66.192:50010 Served block blk_-1016453873803095686 to /10.251.39.160',\n",
              " '10.251.197.226:50010 Served block blk_-1016453873803095686 to /10.251.126.83',\n",
              " '10.251.106.10:50010 Served block blk_-1016453873803095686 to /10.251.215.50',\n",
              " '10.251.66.192:50010 Served block blk_-1016453873803095686 to /10.251.203.129',\n",
              " '10.251.111.37:50010 Served block blk_-1016453873803095686 to /10.250.5.237',\n",
              " '10.250.7.244:50010 Served block blk_-1016453873803095686 to /10.251.26.177',\n",
              " '10.251.106.10:50010 Served block blk_-1016453873803095686 to /10.251.106.214',\n",
              " '10.251.106.10:50010 Served block blk_-1016453873803095686 to /10.251.107.242',\n",
              " '10.251.111.37:50010 Served block blk_-1016453873803095686 to /10.251.123.33',\n",
              " '10.250.7.244:50010 Served block blk_-1016453873803095686 to /10.251.38.53',\n",
              " '10.251.106.10:50010 Served block blk_-1016453873803095686 to /10.251.31.180',\n",
              " '10.250.10.100:50010 Served block blk_-1016453873803095686 to /10.251.106.50',\n",
              " '10.251.106.10:50010 Served block blk_-1016453873803095686 to /10.251.39.144',\n",
              " '10.251.106.10:50010 Served block blk_-1016453873803095686 to /10.251.199.225',\n",
              " '10.251.111.37:50010 Served block blk_-1016453873803095686 to /10.251.199.19',\n",
              " '10.251.106.10:50010 Served block blk_-1016453873803095686 to /10.251.202.181',\n",
              " '10.251.106.10:50010 Served block blk_-1016453873803095686 to /10.251.109.236',\n",
              " '10.250.10.100:50010 Served block blk_-1016453873803095686 to /10.251.105.189',\n",
              " '10.250.7.244:50010 Served block blk_-1016453873803095686 to /10.251.65.203',\n",
              " '10.250.7.244:50010 Served block blk_-1016453873803095686 to /10.251.193.175',\n",
              " '10.251.111.37:50010 Served block blk_-1016453873803095686 to /10.251.195.33',\n",
              " '10.251.111.37:50010 Served block blk_-1016453873803095686 to /10.251.203.4',\n",
              " '10.251.106.10:50010 Served block blk_-1016453873803095686 to /10.251.126.22',\n",
              " '10.251.197.226:50010 Served block blk_-1016453873803095686 to /10.250.19.16',\n",
              " '10.251.66.3:50010 Served block blk_-1016453873803095686 to /10.250.15.101',\n",
              " '10.251.197.226:50010 Served block blk_-1016453873803095686 to /10.250.14.143',\n",
              " '10.251.197.226:50010 Served block blk_-1016453873803095686 to /10.251.75.49',\n",
              " '10.251.106.10:50010 Served block blk_-1016453873803095686 to /10.251.30.6',\n",
              " '10.251.106.10:50010 Served block blk_-1016453873803095686 to /10.251.39.192',\n",
              " '10.251.74.134:50010 Served block blk_-1016453873803095686 to /10.251.30.134',\n",
              " '10.251.74.134:50010 Served block blk_-1016453873803095686 to /10.250.11.85',\n",
              " '10.251.74.134:50010 Served block blk_-1016453873803095686 to /10.251.195.52',\n",
              " '10.251.106.10:50010 Served block blk_-1016453873803095686 to /10.251.126.255',\n",
              " '10.251.74.134:50010 Served block blk_-1016453873803095686 to /10.251.67.225',\n",
              " '10.250.10.100:50010 Served block blk_-1016453873803095686 to /10.250.6.4',\n",
              " '10.251.74.134:50010 Served block blk_-1016453873803095686 to /10.251.123.99',\n",
              " '10.250.7.244:50010 Served block blk_-1016453873803095686 to /10.251.26.131',\n",
              " '10.250.7.244:50010 Served block blk_-1016453873803095686 to /10.251.43.21',\n",
              " '10.251.111.37:50010 Served block blk_-1016453873803095686 to /10.251.65.237',\n",
              " '10.251.197.226:50010 Served block blk_-1016453873803095686 to /10.251.90.134',\n",
              " '10.251.74.134:50010 Served block blk_-1016453873803095686 to /10.251.43.115',\n",
              " '10.251.111.37:50010 Served block blk_-1016453873803095686 to /10.251.42.246',\n",
              " '10.251.197.226:50010 Served block blk_-1016453873803095686 to /10.250.10.223',\n",
              " '10.250.10.100:50010 Served block blk_-1016453873803095686 to /10.250.10.100',\n",
              " '10.250.10.100:50010 Served block blk_-1016453873803095686 to /10.251.29.239',\n",
              " '10.251.74.134:50010 Served block blk_-1016453873803095686 to /10.251.127.47',\n",
              " '10.250.10.100:50010 Served block blk_-1016453873803095686 to /10.251.38.214',\n",
              " '10.251.74.134:50010 Served block blk_-1016453873803095686 to /10.251.123.195',\n",
              " '10.250.10.100:50010 Served block blk_-1016453873803095686 to /10.251.202.209',\n",
              " '10.250.7.244:50010 Served block blk_-1016453873803095686 to /10.251.198.33',\n",
              " '10.250.7.244:50010 Served block blk_-1016453873803095686 to /10.251.26.8',\n",
              " '10.250.10.100:50010 Served block blk_-1016453873803095686 to /10.251.43.192',\n",
              " '10.250.10.100:50010 Served block blk_-1016453873803095686 to /10.251.125.193',\n",
              " '10.251.111.37:50010 Served block blk_-1016453873803095686 to /10.251.111.37',\n",
              " '10.251.197.226:50010 Served block blk_-1016453873803095686 to /10.251.203.80',\n",
              " '10.251.197.226:50010 Served block blk_-1016453873803095686 to /10.251.199.159',\n",
              " '10.251.66.3:50010 Served block blk_-1016453873803095686 to /10.250.10.213',\n",
              " '10.251.74.134:50010 Served block blk_-1016453873803095686 to /10.251.71.240',\n",
              " '10.251.66.3:50010 Served block blk_-1016453873803095686 to /10.251.37.240',\n",
              " '10.251.74.134:50010 Served block blk_-1016453873803095686 to /10.251.111.209',\n",
              " '10.251.111.37:50010 Served block blk_-1016453873803095686 to /10.251.71.193',\n",
              " '10.251.66.3:50010 Served block blk_-1016453873803095686 to /10.250.13.240',\n",
              " '10.250.10.100:50010 Served block blk_-1016453873803095686 to /10.251.25.237',\n",
              " '10.251.197.226:50010 Served block blk_-1016453873803095686 to /10.251.123.20',\n",
              " '10.251.106.10:50010 Served block blk_-1016453873803095686 to /10.251.42.84',\n",
              " '10.250.10.100:50010 Served block blk_-1016453873803095686 to /10.251.214.112',\n",
              " '10.251.74.134:50010 Served block blk_-1016453873803095686 to /10.251.199.86',\n",
              " '10.251.74.134:50010 Served block blk_-1016453873803095686 to /10.251.35.1',\n",
              " '10.251.74.134:50010 Served block blk_-1016453873803095686 to /10.251.70.211',\n",
              " '10.250.10.100:50010 Served block blk_-1016453873803095686 to /10.251.122.65',\n",
              " '10.250.10.100:50010 Served block blk_-1016453873803095686 to /10.251.43.147',\n",
              " '10.250.7.244:50010 Served block blk_-1016453873803095686 to /10.250.5.161',\n",
              " '10.250.7.244:50010 Served block blk_-1016453873803095686 to /10.251.39.179',\n",
              " '10.250.7.244:50010 Served block blk_-1016453873803095686 to /10.251.194.245',\n",
              " '10.250.7.244:50010 Served block blk_-1016453873803095686 to /10.251.75.228',\n",
              " '10.250.10.100:50010 Served block blk_-1016453873803095686 to /10.251.39.209',\n",
              " '10.251.66.3:50010 Served block blk_-1016453873803095686 to /10.251.194.213',\n",
              " '10.251.74.134:50010 Served block blk_-1016453873803095686 to /10.251.197.161',\n",
              " '10.251.111.37:50010 Served block blk_-1016453873803095686 to /10.251.42.191',\n",
              " '10.250.7.244:50010 Served block blk_-1016453873803095686 to /10.250.17.225',\n",
              " '10.251.197.226:50010 Served block blk_-1016453873803095686 to /10.251.197.226',\n",
              " '10.250.10.100:50010 Served block blk_-1016453873803095686 to /10.250.6.191',\n",
              " '10.250.10.100:50010 Served block blk_-1016453873803095686 to /10.251.201.204',\n",
              " '10.251.71.97:50010 Served block blk_-1016453873803095686 to /10.251.214.67',\n",
              " '10.251.73.220:50010 Served block blk_-1016453873803095686 to /10.251.71.146',\n",
              " '10.251.197.226:50010 Served block blk_-1016453873803095686 to /10.251.66.63',\n",
              " '10.251.74.134:50010 Served block blk_-1016453873803095686 to /10.251.74.134',\n",
              " '10.251.74.134:50010 Served block blk_-1016453873803095686 to /10.251.193.224',\n",
              " '10.251.66.192:50010 Served block blk_-1016453873803095686 to /10.251.215.16',\n",
              " '10.251.197.226:50010 Served block blk_-1016453873803095686 to /10.251.31.5',\n",
              " '10.251.66.192:50010 Served block blk_-1016453873803095686 to /10.251.39.242',\n",
              " '10.251.71.97:50010 Served block blk_-1016453873803095686 to /10.251.203.166',\n",
              " '10.251.66.192:50010 Served block blk_-1016453873803095686 to /10.251.107.50',\n",
              " '10.251.197.226:50010 Served block blk_-1016453873803095686 to /10.251.31.242',\n",
              " '10.251.197.226:50010 Served block blk_-1016453873803095686 to /10.250.6.223',\n",
              " '10.251.66.192:50010 Served block blk_-1016453873803095686 to /10.250.19.227',\n",
              " '10.251.111.37:50010 Served block blk_-1016453873803095686 to /10.251.31.85',\n",
              " '10.251.66.192:50010 Served block blk_-1016453873803095686 to /10.251.90.64',\n",
              " '10.251.66.192:50010 Served block blk_-1016453873803095686 to /10.251.214.130',\n",
              " '10.251.106.10:50010 Served block blk_-1016453873803095686 to /10.251.111.80',\n",
              " '10.251.66.192:50010 Served block blk_-1016453873803095686 to /10.251.70.5',\n",
              " '10.251.66.192:50010 Served block blk_-1016453873803095686 to /10.251.214.32',\n",
              " '10.250.10.100:50010 Served block blk_-1016453873803095686 to /10.251.194.147',\n",
              " '10.251.73.220:50010 Served block blk_-1016453873803095686 to /10.251.194.129',\n",
              " '10.251.66.192:50010 Served block blk_-1016453873803095686 to /10.250.7.32',\n",
              " '10.251.197.226:50010 Served block blk_-1016453873803095686 to /10.251.127.243',\n",
              " '10.251.66.192:50010 Served block blk_-1016453873803095686 to /10.250.15.67',\n",
              " '10.251.74.134:50010 Served block blk_-1016453873803095686 to /10.250.7.96',\n",
              " '10.251.66.3:50010 Served block blk_-1016453873803095686 to /10.251.111.130',\n",
              " '10.251.66.192:50010 Served block blk_-1016453873803095686 to /10.251.123.1',\n",
              " '10.251.66.192:50010 Served block blk_-1016453873803095686 to /10.250.6.214',\n",
              " '10.251.71.97:50010 Served block blk_-1016453873803095686 to /10.251.70.112',\n",
              " '10.251.73.220:50010 Served block blk_-1016453873803095686 to /10.251.73.220',\n",
              " '10.251.66.192:50010 Served block blk_-1016453873803095686 to /10.251.42.16',\n",
              " '10.251.71.97:50010 Served block blk_-1016453873803095686 to /10.251.121.224',\n",
              " '10.251.71.97:50010 Served block blk_-1016453873803095686 to /10.250.17.177',\n",
              " '10.251.71.97:50010 Served block blk_-1016453873803095686 to /10.251.90.239',\n",
              " '10.251.66.192:50010 Served block blk_-1016453873803095686 to /10.251.90.81',\n",
              " '10.251.74.134:50010 Served block blk_-1016453873803095686 to /10.251.27.63',\n",
              " '10.251.66.192:50010 Served block blk_-1016453873803095686 to /10.251.39.64',\n",
              " '10.251.71.97:50010 Served block blk_-1016453873803095686 to /10.251.107.98',\n",
              " '10.251.71.97:50010 Served block blk_-1016453873803095686 to /10.251.203.179',\n",
              " '10.251.66.3:50010 Served block blk_-1016453873803095686 to /10.251.214.18',\n",
              " '10.251.73.220:50010 Served block blk_-1016453873803095686 to /10.250.10.144',\n",
              " '10.251.66.3:50010 Served block blk_-1016453873803095686 to /10.250.15.240',\n",
              " '10.251.71.97:50010 Served block blk_-1016453873803095686 to /10.251.71.97',\n",
              " '10.251.66.3:50010 Served block blk_-1016453873803095686 to /10.251.66.102',\n",
              " '10.251.66.3:50010 Served block blk_-1016453873803095686 to /10.251.42.207',\n",
              " '10.251.66.3:50010 Served block blk_-1016453873803095686 to /10.250.14.224',\n",
              " '10.251.66.192:50010 Served block blk_-1016453873803095686 to /10.250.11.194',\n",
              " '10.250.10.100:50010 Served block blk_-1016453873803095686 to /10.251.215.70',\n",
              " '10.251.111.37:50010 Served block blk_-1016453873803095686 to /10.251.215.192',\n",
              " '10.251.111.37:50010 Served block blk_-1016453873803095686 to /10.251.75.163',\n",
              " '10.251.197.226:50010 Served block blk_-1016453873803095686 to /10.251.199.245',\n",
              " '10.250.7.244:50010 Served block blk_-1016453873803095686 to /10.250.7.244',\n",
              " '10.251.66.3:50010 Served block blk_-1016453873803095686 to /10.251.109.209',\n",
              " '10.251.197.226:50010 Served block blk_-1016453873803095686 to /10.251.74.79',\n",
              " '10.251.73.220:50010 Served block blk_-1016453873803095686 to /10.251.91.159',\n",
              " '10.251.66.3:50010 Served block blk_-1016453873803095686 to /10.251.38.197',\n",
              " '10.251.71.97:50010 Served block blk_-1016453873803095686 to /10.250.18.114',\n",
              " '10.251.66.3:50010 Served block blk_-1016453873803095686 to /10.251.91.84',\n",
              " '10.251.66.3:50010 Served block blk_-1016453873803095686 to /10.251.70.37',\n",
              " '10.251.106.10:50010 Served block blk_-1016453873803095686 to /10.250.13.188',\n",
              " '10.251.106.10:50010 Served block blk_-1016453873803095686 to /10.251.126.227',\n",
              " '10.251.73.220:50010 Served block blk_-1016453873803095686 to /10.251.123.132',\n",
              " '10.251.106.10:50010 Served block blk_-1016453873803095686 to /10.251.194.102',\n",
              " '10.251.106.10:50010 Served block blk_-1016453873803095686 to /10.251.89.155',\n",
              " '10.251.73.220:50010 Served block blk_-1016453873803095686 to /10.251.107.19',\n",
              " '10.251.73.220:50010 Served block blk_-1016453873803095686 to /10.251.214.175',\n",
              " '10.251.73.220:50010 Served block blk_-1016453873803095686 to /10.251.91.32',\n",
              " '10.251.71.97:50010 Served block blk_-1016453873803095686 to /10.251.67.4',\n",
              " '10.251.73.220:50010 Served block blk_-1016453873803095686 to /10.250.14.38',\n",
              " '10.250.7.244:50010 Served block blk_-1016453873803095686 to /10.251.73.188',\n",
              " '10.250.7.244:50010 Served block blk_-1016453873803095686 to /10.250.10.6',\n",
              " '10.251.73.220:50010 Served block blk_-1016453873803095686 to /10.251.67.211',\n",
              " '10.251.197.226:50010 Served block blk_-1016453873803095686 to /10.251.125.174',\n",
              " '10.250.7.244:50010 Served block blk_-1016453873803095686 to /10.251.42.9',\n",
              " '10.251.111.37:50010 Served block blk_-1016453873803095686 to /10.251.125.237',\n",
              " '10.250.7.244:50010 Served block blk_-1016453873803095686 to /10.251.203.246',\n",
              " '10.251.73.220:50010 Served block blk_-1016453873803095686 to /10.251.74.227',\n",
              " '10.251.73.220:50010 Served block blk_-1016453873803095686 to /10.251.106.37',\n",
              " 'BLOCK* NameSystem.delete: blk_-1016453873803095686 is added to invalidSet of 10.251.74.134:50010',\n",
              " 'BLOCK* NameSystem.delete: blk_-1016453873803095686 is added to invalidSet of 10.251.66.192:50010',\n",
              " 'BLOCK* NameSystem.delete: blk_-1016453873803095686 is added to invalidSet of 10.251.197.226:50010',\n",
              " 'BLOCK* NameSystem.delete: blk_-1016453873803095686 is added to invalidSet of 10.251.111.37:50010',\n",
              " 'BLOCK* NameSystem.delete: blk_-1016453873803095686 is added to invalidSet of 10.251.106.10:50010',\n",
              " 'BLOCK* NameSystem.delete: blk_-1016453873803095686 is added to invalidSet of 10.250.7.244:50010',\n",
              " 'BLOCK* NameSystem.delete: blk_-1016453873803095686 is added to invalidSet of 10.250.10.100:50010',\n",
              " 'BLOCK* NameSystem.delete: blk_-1016453873803095686 is added to invalidSet of 10.251.73.220:50010',\n",
              " 'BLOCK* NameSystem.delete: blk_-1016453873803095686 is added to invalidSet of 10.251.71.97:50010',\n",
              " 'BLOCK* NameSystem.delete: blk_-1016453873803095686 is added to invalidSet of 10.251.66.3:50010',\n",
              " 'Deleting block blk_-1016453873803095686 file /mnt/hadoop/dfs/data/current/subdir28/blk_-1016453873803095686',\n",
              " 'Deleting block blk_-1016453873803095686 file /mnt/hadoop/dfs/data/current/subdir42/blk_-1016453873803095686',\n",
              " 'Deleting block blk_-1016453873803095686 file /mnt/hadoop/dfs/data/current/subdir63/blk_-1016453873803095686',\n",
              " 'Deleting block blk_-1016453873803095686 file /mnt/hadoop/dfs/data/current/subdir61/blk_-1016453873803095686',\n",
              " 'Deleting block blk_-1016453873803095686 file /mnt/hadoop/dfs/data/current/subdir45/blk_-1016453873803095686',\n",
              " 'Deleting block blk_-1016453873803095686 file /mnt/hadoop/dfs/data/current/subdir5/blk_-1016453873803095686',\n",
              " 'Deleting block blk_-1016453873803095686 file /mnt/hadoop/dfs/data/current/subdir13/blk_-1016453873803095686',\n",
              " 'Deleting block blk_-1016453873803095686 file /mnt/hadoop/dfs/data/current/subdir59/blk_-1016453873803095686',\n",
              " 'Deleting block blk_-1016453873803095686 file /mnt/hadoop/dfs/data/current/subdir37/blk_-1016453873803095686',\n",
              " 'Deleting block blk_-1016453873803095686 file /mnt/hadoop/dfs/data/current/subdir49/blk_-1016453873803095686']"
            ]
          },
          "metadata": {
            "tags": []
          },
          "execution_count": 103
        }
      ]
    },
    {
      "cell_type": "code",
      "metadata": {
        "colab": {
          "base_uri": "https://localhost:8080/"
        },
        "id": "7fLyJS515uUI",
        "outputId": "3a68136f-db59-48d9-e8ac-7c09b8b7e4a6"
      },
      "source": [
        "df4[df4.astype('str').str.contains('transfer')]"
      ],
      "execution_count": null,
      "outputs": [
        {
          "output_type": "execute_result",
          "data": {
            "text/plain": [
              "index\n",
              "blk_-100589041704503944     [Receiving block blk_-100589041704503944 src: ...\n",
              "blk_-1016453873803095686    [BLOCK* NameSystem.allocateBlock: /mnt/hadoop/...\n",
              "blk_-1029209534735263783    [Receiving block blk_-1029209534735263783 src:...\n",
              "blk_-1060774765824706733    [BLOCK* NameSystem.allocateBlock: /user/root/r...\n",
              "blk_-1094721103807656451    [Receiving block blk_-1094721103807656451 src:...\n",
              "                                                  ...                        \n",
              "blk_941820582974059667      [Receiving block blk_941820582974059667 src: /...\n",
              "blk_949040098671534306      [BLOCK* NameSystem.allocateBlock: /user/root/r...\n",
              "blk_954443842682446851      [Receiving block blk_954443842682446851 src: /...\n",
              "blk_967210710264965004      [Receiving block blk_967210710264965004 src: /...\n",
              "blk_984232472855927874      [Receiving block blk_984232472855927874 src: /...\n",
              "Name: Content, Length: 1779, dtype: object"
            ]
          },
          "metadata": {
            "tags": []
          },
          "execution_count": 102
        }
      ]
    },
    {
      "cell_type": "code",
      "metadata": {
        "colab": {
          "base_uri": "https://localhost:8080/"
        },
        "id": "FCr1VLJ15AUq",
        "outputId": "6bfebc83-3473-42bc-89ce-edb8bca7c5fe"
      },
      "source": [
        "df3[df3.astype('str').str.contains('exception while serving')]"
      ],
      "execution_count": null,
      "outputs": [
        {
          "output_type": "execute_result",
          "data": {
            "text/plain": [
              "index\n",
              "blk_-1001299764911418845    [BLOCK* NameSystem.allocateBlock: /user/root/r...\n",
              "blk_-1009207079038502874    [BLOCK* NameSystem.allocateBlock: /user/root/r...\n",
              "blk_-101482901886772364     [Receiving block blk_-101482901886772364 src: ...\n",
              "blk_-1018108268208665701    [BLOCK* NameSystem.allocateBlock: /user/root/r...\n",
              "blk_-1022089499698905472    [BLOCK* NameSystem.allocateBlock: /user/root/r...\n",
              "                                                  ...                        \n",
              "blk_945842064773478209      [Receiving block blk_945842064773478209 src: /...\n",
              "blk_956110349654312915      [Receiving block blk_956110349654312915 src: /...\n",
              "blk_963904426957071019      [Receiving block blk_963904426957071019 src: /...\n",
              "blk_971772404122301304      [BLOCK* NameSystem.allocateBlock: /user/root/r...\n",
              "blk_989409441141247289      [Receiving block blk_989409441141247289 src: /...\n",
              "Name: Content, Length: 3178, dtype: object"
            ]
          },
          "metadata": {
            "tags": []
          },
          "execution_count": 94
        }
      ]
    },
    {
      "cell_type": "code",
      "metadata": {
        "colab": {
          "base_uri": "https://localhost:8080/"
        },
        "id": "Jjec-Volx7eD",
        "outputId": "3b3d1924-9cc7-429f-dba1-0e812e42d20e"
      },
      "source": [
        "df3.loc['blk_945842064773478209']#'blk_-101482901886772364'"
      ],
      "execution_count": null,
      "outputs": [
        {
          "output_type": "execute_result",
          "data": {
            "text/plain": [
              "['Receiving block blk_945842064773478209 src: /10.250.15.198:49679 dest: /10.250.15.198:50010',\n",
              " 'BLOCK* NameSystem.allocateBlock: /user/root/rand/_temporary/_task_200811101024_0001_m_000165_0/part-00165. blk_945842064773478209',\n",
              " 'Receiving block blk_945842064773478209 src: /10.250.15.198:32904 dest: /10.250.15.198:50010',\n",
              " 'Receiving block blk_945842064773478209 src: /10.250.10.223:53598 dest: /10.250.10.223:50010',\n",
              " 'Received block blk_945842064773478209 of size 67108864 from /10.250.15.198',\n",
              " 'PacketResponder 0 for block blk_945842064773478209 terminating',\n",
              " 'PacketResponder 2 for block blk_945842064773478209 terminating',\n",
              " 'BLOCK* NameSystem.addStoredBlock: blockMap updated: 10.251.107.98:50010 is added to blk_945842064773478209 size 67108864',\n",
              " 'Received block blk_945842064773478209 of size 67108864 from /10.250.15.198',\n",
              " 'BLOCK* NameSystem.addStoredBlock: blockMap updated: 10.250.10.223:50010 is added to blk_945842064773478209 size 67108864',\n",
              " 'Received block blk_945842064773478209 of size 67108864 from /10.250.10.223',\n",
              " 'PacketResponder 1 for block blk_945842064773478209 terminating',\n",
              " 'BLOCK* ask 10.250.10.223:50010 to replicate blk_945842064773478209 to datanode(s) 10.251.75.79:50010',\n",
              " '10.250.10.223:50010 Starting thread to transfer block blk_945842064773478209 to 10.251.75.79:50010',\n",
              " 'Receiving block blk_945842064773478209 src: /10.250.10.223:51106 dest: /10.250.10.223:50010',\n",
              " 'BLOCK* NameSystem.addStoredBlock: blockMap updated: 10.250.15.198:50010 is added to blk_945842064773478209 size 67108864',\n",
              " 'BLOCK* NameSystem.addStoredBlock: blockMap updated: 10.251.75.79:50010 is added to blk_945842064773478209 size 67108864',\n",
              " '10.250.10.223:50010:Transmitted block blk_945842064773478209 to /10.251.75.79:50010',\n",
              " 'Received block blk_945842064773478209 src: /10.250.10.223:51106 dest: /10.250.10.223:50010 of size 67108864',\n",
              " 'Deleting block blk_945842064773478209 file /mnt/hadoop/dfs/data/current/blk_945842064773478209',\n",
              " 'Verification succeeded for blk_945842064773478209',\n",
              " '10.250.10.223:50010:Got exception while serving blk_945842064773478209 to /10.251.107.242:',\n",
              " '10.251.75.79:50010:Got exception while serving blk_945842064773478209 to /10.251.215.192:',\n",
              " '10.251.75.79:50010 Served block blk_945842064773478209 to /10.251.215.192',\n",
              " 'Verification succeeded for blk_945842064773478209',\n",
              " 'Verification succeeded for blk_945842064773478209',\n",
              " 'BLOCK* NameSystem.delete: blk_945842064773478209 is added to invalidSet of 10.250.10.223:50010',\n",
              " 'BLOCK* NameSystem.delete: blk_945842064773478209 is added to invalidSet of 10.251.107.98:50010',\n",
              " 'BLOCK* NameSystem.delete: blk_945842064773478209 is added to invalidSet of 10.251.75.79:50010',\n",
              " 'Deleting block blk_945842064773478209 file /mnt/hadoop/dfs/data/current/blk_945842064773478209',\n",
              " 'Deleting block blk_945842064773478209 file /mnt/hadoop/dfs/data/current/blk_945842064773478209',\n",
              " 'Deleting block blk_945842064773478209 file /mnt/hadoop/dfs/data/current/blk_945842064773478209']"
            ]
          },
          "metadata": {
            "tags": []
          },
          "execution_count": 101
        }
      ]
    },
    {
      "cell_type": "code",
      "metadata": {
        "colab": {
          "base_uri": "https://localhost:8080/"
        },
        "id": "blD0hu69GsEo",
        "outputId": "286de886-37e3-4b1d-b442-20c3cc1318ea"
      },
      "source": [
        "df3.loc['blk_-1377816241829109371']"
      ],
      "execution_count": null,
      "outputs": [
        {
          "output_type": "execute_result",
          "data": {
            "text/plain": [
              "['Receiving block blk_-1377816241829109371 src: /10.251.89.155:52440 dest: /10.251.89.155:50010',\n",
              " 'BLOCK* NameSystem.allocateBlock: /user/root/randtxt/_temporary/_task_200811092030_0003_m_000093_0/part-00093. blk_-1377816241829109371']"
            ]
          },
          "metadata": {
            "tags": []
          },
          "execution_count": 125
        }
      ]
    },
    {
      "cell_type": "code",
      "metadata": {
        "id": "E6NNXz1Qv9I1"
      },
      "source": [
        "df2.groupby('index')['']"
      ],
      "execution_count": null,
      "outputs": []
    },
    {
      "cell_type": "code",
      "metadata": {
        "colab": {
          "base_uri": "https://localhost:8080/"
        },
        "id": "VESWV_a6T4nZ",
        "outputId": "f280cd26-4328-4558-aca5-f9d653089e5f"
      },
      "source": [
        "for i in list(df[df['Id']== df['Id'][10086]]['Content']):\n",
        "    print(i)"
      ],
      "execution_count": null,
      "outputs": [
        {
          "output_type": "stream",
          "text": [
            "Receiving block blk_7125954578896252242 src: /10.251.39.64:52175 dest: /10.251.39.64:50010\n",
            "Receiving block blk_7125954578896252242 src: /10.251.39.64:58769 dest: /10.251.39.64:50010\n",
            "BLOCK* NameSystem.allocateBlock: /user/root/rand/_temporary/_task_200811092030_0001_m_000152_0/part-00152. blk_7125954578896252242\n",
            "Receiving block blk_7125954578896252242 src: /10.251.70.5:45337 dest: /10.251.70.5:50010\n",
            "PacketResponder 1 for block blk_7125954578896252242 terminating\n",
            "PacketResponder 2 for block blk_7125954578896252242 terminating\n",
            "Received block blk_7125954578896252242 of size 67108864 from /10.251.39.64\n",
            "Received block blk_7125954578896252242 of size 67108864 from /10.251.39.64\n",
            "PacketResponder 0 for block blk_7125954578896252242 terminating\n",
            "Received block blk_7125954578896252242 of size 67108864 from /10.251.70.5\n",
            "BLOCK* NameSystem.addStoredBlock: blockMap updated: 10.251.39.64:50010 is added to blk_7125954578896252242 size 67108864\n",
            "BLOCK* NameSystem.addStoredBlock: blockMap updated: 10.251.31.5:50010 is added to blk_7125954578896252242 size 67108864\n",
            "BLOCK* NameSystem.addStoredBlock: blockMap updated: 10.251.70.5:50010 is added to blk_7125954578896252242 size 67108864\n",
            "Verification succeeded for blk_7125954578896252242\n",
            "10.251.39.64:50010:Got exception while serving blk_7125954578896252242 to /10.251.39.64:\n",
            "10.251.39.64:50010:Got exception while serving blk_7125954578896252242 to /10.251.39.64:\n",
            "10.251.39.64:50010 Served block blk_7125954578896252242 to /10.251.39.64\n",
            "Verification succeeded for blk_7125954578896252242\n",
            "Verification succeeded for blk_7125954578896252242\n",
            "BLOCK* NameSystem.delete: blk_7125954578896252242 is added to invalidSet of 10.251.31.5:50010\n",
            "BLOCK* NameSystem.delete: blk_7125954578896252242 is added to invalidSet of 10.251.39.64:50010\n",
            "BLOCK* NameSystem.delete: blk_7125954578896252242 is added to invalidSet of 10.251.70.5:50010\n",
            "Deleting block blk_7125954578896252242 file /mnt/hadoop/dfs/data/current/blk_7125954578896252242\n",
            "Deleting block blk_7125954578896252242 file /mnt/hadoop/dfs/data/current/blk_7125954578896252242\n",
            "Deleting block blk_7125954578896252242 file /mnt/hadoop/dfs/data/current/blk_7125954578896252242\n"
          ],
          "name": "stdout"
        }
      ]
    },
    {
      "cell_type": "markdown",
      "metadata": {
        "id": "-AeFzVXm3--9"
      },
      "source": [
        " ## Second parsing"
      ]
    },
    {
      "cell_type": "markdown",
      "metadata": {
        "id": "TUkQMl0D4CUJ"
      },
      "source": [
        "## second parsing with drain3\n"
      ]
    },
    {
      "cell_type": "code",
      "metadata": {
        "colab": {
          "base_uri": "https://localhost:8080/"
        },
        "id": "QtDHiLO9kKCI",
        "outputId": "4f654def-9b2d-4432-ee96-f384a2d02195"
      },
      "source": [
        "tc = TemplateMinerConfig()\n",
        "tc.load('./drive/MyDrive/hdfs/drain3_BGL.ini') # this is config file, use the same setting for both BGL and Thunderbird \n",
        "tm=TemplateMiner(config=tc)\n",
        "df['template_id'] = df['Content'].apply(lambda x: tm.add_log_message(x)['cluster_id'] )\n",
        "df.to_csv('/content/drive/MyDrive/hdfs/parsing_result',index = False)"
      ],
      "execution_count": 6,
      "outputs": [
        {
          "output_type": "stream",
          "text": [
            "total          : took    26.23 s (100.00%),  1,123,520 samples,   23.34 ms / 1000 samples,       42,835.80 hz\n",
            "drain          : took    19.18 s ( 73.14%),  1,123,520 samples,   17.08 ms / 1000 samples,       58,564.88 hz\n",
            "tree_search    : took     8.10 s ( 30.90%),  1,123,520 samples,    7.21 ms / 1000 samples,      138,631.78 hz\n",
            "cluster_exist  : took     4.03 s ( 15.37%),  1,123,481 samples,    3.59 ms / 1000 samples,      278,701.66 hz\n",
            "mask           : took     1.04 s (  3.98%),  1,123,520 samples,    0.93 ms / 1000 samples,    1,077,558.55 hz\n",
            "create_cluster : took     0.00 s (  0.00%),         39 samples,   18.54 ms / 1000 samples,       53,932.69 hz\n",
            "total          : took    52.71 s (100.00%),  2,274,195 samples,   23.18 ms / 1000 samples,       43,146.07 hz\n",
            "drain          : took    38.51 s ( 73.07%),  2,274,195 samples,   16.93 ms / 1000 samples,       59,051.30 hz\n",
            "tree_search    : took    16.28 s ( 30.88%),  2,274,195 samples,    7.16 ms / 1000 samples,      139,718.98 hz\n",
            "cluster_exist  : took     8.06 s ( 15.29%),  2,274,152 samples,    3.54 ms / 1000 samples,      282,118.64 hz\n",
            "mask           : took     2.10 s (  3.99%),  2,274,195 samples,    0.92 ms / 1000 samples,    1,082,119.67 hz\n",
            "create_cluster : took     0.00 s (  0.00%),         43 samples,   19.06 ms / 1000 samples,       52,474.56 hz\n",
            "total          : took    79.22 s (100.00%),  3,410,370 samples,   23.23 ms / 1000 samples,       43,050.50 hz\n",
            "drain          : took    57.95 s ( 73.16%),  3,410,370 samples,   16.99 ms / 1000 samples,       58,846.76 hz\n",
            "tree_search    : took    24.67 s ( 31.14%),  3,410,370 samples,    7.23 ms / 1000 samples,      138,230.00 hz\n",
            "cluster_exist  : took    12.05 s ( 15.21%),  3,410,325 samples,    3.53 ms / 1000 samples,      283,115.98 hz\n",
            "mask           : took     3.15 s (  3.97%),  3,410,370 samples,    0.92 ms / 1000 samples,    1,084,017.71 hz\n",
            "create_cluster : took     0.00 s (  0.00%),         45 samples,   19.51 ms / 1000 samples,       51,247.27 hz\n",
            "total          : took   105.72 s (100.00%),  4,547,507 samples,   23.25 ms / 1000 samples,       43,015.73 hz\n",
            "drain          : took    77.39 s ( 73.21%),  4,547,507 samples,   17.02 ms / 1000 samples,       58,759.72 hz\n",
            "tree_search    : took    33.09 s ( 31.30%),  4,547,507 samples,    7.28 ms / 1000 samples,      137,412.39 hz\n",
            "cluster_exist  : took    16.03 s ( 15.16%),  4,547,462 samples,    3.53 ms / 1000 samples,      283,682.60 hz\n",
            "mask           : took     4.19 s (  3.96%),  4,547,507 samples,    0.92 ms / 1000 samples,    1,085,122.87 hz\n",
            "create_cluster : took     0.00 s (  0.00%),         45 samples,   19.51 ms / 1000 samples,       51,247.27 hz\n",
            "total          : took   132.26 s (100.00%),  5,678,281 samples,   23.29 ms / 1000 samples,       42,932.98 hz\n",
            "drain          : took    96.94 s ( 73.29%),  5,678,281 samples,   17.07 ms / 1000 samples,       58,575.98 hz\n",
            "tree_search    : took    41.67 s ( 31.51%),  5,678,281 samples,    7.34 ms / 1000 samples,      136,256.95 hz\n",
            "cluster_exist  : took    20.03 s ( 15.14%),  5,678,234 samples,    3.53 ms / 1000 samples,      283,506.77 hz\n",
            "mask           : took     5.22 s (  3.95%),  5,678,281 samples,    0.92 ms / 1000 samples,    1,086,998.73 hz\n",
            "create_cluster : took     0.00 s (  0.00%),         47 samples,   19.51 ms / 1000 samples,       51,256.45 hz\n",
            "total          : took   158.81 s (100.00%),  6,806,507 samples,   23.33 ms / 1000 samples,       42,859.56 hz\n",
            "drain          : took   116.50 s ( 73.36%),  6,806,507 samples,   17.12 ms / 1000 samples,       58,423.40 hz\n",
            "tree_search    : took    50.29 s ( 31.67%),  6,806,507 samples,    7.39 ms / 1000 samples,      135,340.09 hz\n",
            "cluster_exist  : took    24.02 s ( 15.13%),  6,806,459 samples,    3.53 ms / 1000 samples,      283,320.50 hz\n",
            "mask           : took     6.26 s (  3.94%),  6,806,507 samples,    0.92 ms / 1000 samples,    1,087,100.59 hz\n",
            "create_cluster : took     0.00 s (  0.00%),         48 samples,   19.40 ms / 1000 samples,       51,556.11 hz\n",
            "total          : took   185.35 s (100.00%),  7,934,241 samples,   23.36 ms / 1000 samples,       42,805.99 hz\n",
            "drain          : took   136.05 s ( 73.40%),  7,934,241 samples,   17.15 ms / 1000 samples,       58,320.68 hz\n",
            "tree_search    : took    58.83 s ( 31.74%),  7,934,241 samples,    7.42 ms / 1000 samples,      134,861.49 hz\n",
            "cluster_exist  : took    28.02 s ( 15.12%),  7,934,192 samples,    3.53 ms / 1000 samples,      283,154.98 hz\n",
            "mask           : took     7.30 s (  3.94%),  7,934,241 samples,    0.92 ms / 1000 samples,    1,086,872.86 hz\n",
            "create_cluster : took     0.00 s (  0.00%),         49 samples,   19.54 ms / 1000 samples,       51,175.52 hz\n",
            "total          : took   211.91 s (100.00%),  9,047,607 samples,   23.42 ms / 1000 samples,       42,694.61 hz\n",
            "drain          : took   155.67 s ( 73.46%),  9,047,607 samples,   17.21 ms / 1000 samples,       58,120.68 hz\n",
            "tree_search    : took    67.55 s ( 31.88%),  9,047,607 samples,    7.47 ms / 1000 samples,      133,940.54 hz\n",
            "cluster_exist  : took    32.00 s ( 15.10%),  9,047,556 samples,    3.54 ms / 1000 samples,      282,752.06 hz\n",
            "mask           : took     8.33 s (  3.93%),  9,047,607 samples,    0.92 ms / 1000 samples,    1,085,568.34 hz\n",
            "create_cluster : took     0.00 s (  0.00%),         51 samples,   21.49 ms / 1000 samples,       46,532.41 hz\n",
            "total          : took   238.44 s (100.00%), 10,182,526 samples,   23.42 ms / 1000 samples,       42,703.90 hz\n",
            "drain          : took   175.18 s ( 73.47%), 10,182,526 samples,   17.20 ms / 1000 samples,       58,125.05 hz\n",
            "tree_search    : took    76.09 s ( 31.91%), 10,182,526 samples,    7.47 ms / 1000 samples,      133,825.26 hz\n",
            "cluster_exist  : took    35.99 s ( 15.09%), 10,182,475 samples,    3.53 ms / 1000 samples,      282,944.19 hz\n",
            "mask           : took     9.38 s (  3.93%), 10,182,526 samples,    0.92 ms / 1000 samples,    1,085,923.49 hz\n",
            "create_cluster : took     0.00 s (  0.00%),         51 samples,   21.49 ms / 1000 samples,       46,532.41 hz\n"
          ],
          "name": "stdout"
        }
      ]
    },
    {
      "cell_type": "code",
      "metadata": {
        "id": "Xo5jSqbHvQSm"
      },
      "source": [
        "# get all template\n",
        "templates = [' '.join(tm.drain.id_to_cluster[i+1].log_template_tokens) for i in range(51)]"
      ],
      "execution_count": 7,
      "outputs": []
    },
    {
      "cell_type": "code",
      "metadata": {
        "colab": {
          "base_uri": "https://localhost:8080/"
        },
        "id": "dKjjXk_EUt9w",
        "outputId": "0fe3cf9d-dda5-4bcc-e2ff-8f1051584975"
      },
      "source": [
        "pip install textdistance"
      ],
      "execution_count": 15,
      "outputs": [
        {
          "output_type": "stream",
          "text": [
            "Collecting textdistance\n",
            "  Downloading textdistance-4.2.1-py3-none-any.whl (28 kB)\n",
            "Installing collected packages: textdistance\n",
            "Successfully installed textdistance-4.2.1\n"
          ],
          "name": "stdout"
        }
      ]
    },
    {
      "cell_type": "code",
      "metadata": {
        "id": "g9eUtKMN5wKo"
      },
      "source": [
        "import textdistance\n",
        "\n",
        "threshold = 2\n",
        "too_similar = []\n",
        "for i in range(len(templates)):\n",
        "    for j in range(i+1,len(templates)):\n",
        "        m = textdistance.levenshtein.distance(templates[i].split(' '), templates[j].split(' '))\n",
        "        if m<=threshold:\n",
        "            too_similar.append((templates[i],templates[j],m))"
      ],
      "execution_count": 26,
      "outputs": []
    },
    {
      "cell_type": "code",
      "metadata": {
        "colab": {
          "base_uri": "https://localhost:8080/"
        },
        "id": "b86k2oFUShp0",
        "outputId": "dd33f364-dd11-46d8-fb89-02c6d17bfcff"
      },
      "source": [
        "too_similar"
      ],
      "execution_count": 27,
      "outputs": [
        {
          "output_type": "execute_result",
          "data": {
            "text/plain": [
              "[('<*> block blk <*> to <*>', '<*> Served block blk <*> to <*>', 1),\n",
              " ('<*> block blk <*> to <*>', '<*> writing block blk <*> to mirror <*>', 2),\n",
              " ('<*> Starting thread to transfer block blk <*> to <*> <*>',\n",
              "  '<*> Starting thread to transfer block blk <*> to <*>',\n",
              "  1),\n",
              " ('BLOCK* ask <*> to replicate blk <*> to datanode(s) <*> <*>',\n",
              "  'BLOCK* ask <*> to replicate blk <*> to datanode(s) <*>',\n",
              "  1),\n",
              " ('<*> Served block blk <*> to <*>',\n",
              "  '<*> writing block blk <*> to mirror <*>',\n",
              "  2),\n",
              " ('BLOCK* NameSystem.allocateBlock: <*> logs/history/ip-10-250-19-102.ec2.internal <*> job <*> <*> conf.xml. blk <*>',\n",
              "  'BLOCK* NameSystem.allocateBlock: <*> logs/history/ip-10-250-19-102.ec2.internal <*> job <*> <*> root <*> blk <*>',\n",
              "  2),\n",
              " ('BLOCK* NameSystem.allocateBlock: <*> temporary/ task 200811092030 <*> <*> <*> <*> blk <*>',\n",
              "  'BLOCK* NameSystem.allocateBlock: <*> temporary/ task 200811101024 <*> <*> <*> <*> blk <*>',\n",
              "  1),\n",
              " ('writeBlock blk <*> received exception <*>',\n",
              "  'writeBlock blk <*> received exception java.io.IOException: <*> <*>',\n",
              "  2)]"
            ]
          },
          "metadata": {
            "tags": []
          },
          "execution_count": 27
        }
      ]
    },
    {
      "cell_type": "code",
      "metadata": {
        "colab": {
          "base_uri": "https://localhost:8080/",
          "height": 419
        },
        "id": "KLfdOOYItlsl",
        "outputId": "99f80dc3-4ded-4cbe-9970-8e1ad33e1773"
      },
      "source": [
        "df"
      ],
      "execution_count": null,
      "outputs": [
        {
          "output_type": "execute_result",
          "data": {
            "text/html": [
              "<div>\n",
              "<style scoped>\n",
              "    .dataframe tbody tr th:only-of-type {\n",
              "        vertical-align: middle;\n",
              "    }\n",
              "\n",
              "    .dataframe tbody tr th {\n",
              "        vertical-align: top;\n",
              "    }\n",
              "\n",
              "    .dataframe thead th {\n",
              "        text-align: right;\n",
              "    }\n",
              "</style>\n",
              "<table border=\"1\" class=\"dataframe\">\n",
              "  <thead>\n",
              "    <tr style=\"text-align: right;\">\n",
              "      <th></th>\n",
              "      <th>Id</th>\n",
              "      <th>Date</th>\n",
              "      <th>Time</th>\n",
              "      <th>Pid</th>\n",
              "      <th>Level</th>\n",
              "      <th>Component</th>\n",
              "      <th>Content</th>\n",
              "      <th>template_id</th>\n",
              "    </tr>\n",
              "  </thead>\n",
              "  <tbody>\n",
              "    <tr>\n",
              "      <th>0</th>\n",
              "      <td>blk_-1608999687919862906</td>\n",
              "      <td>081109</td>\n",
              "      <td>203518</td>\n",
              "      <td>143</td>\n",
              "      <td>INFO</td>\n",
              "      <td>dfs.DataNode$DataXceiver</td>\n",
              "      <td>Receiving block blk_-1608999687919862906 src: ...</td>\n",
              "      <td>1</td>\n",
              "    </tr>\n",
              "    <tr>\n",
              "      <th>1</th>\n",
              "      <td>blk_-1608999687919862906</td>\n",
              "      <td>081109</td>\n",
              "      <td>203518</td>\n",
              "      <td>35</td>\n",
              "      <td>INFO</td>\n",
              "      <td>dfs.FSNamesystem</td>\n",
              "      <td>BLOCK* NameSystem.allocateBlock: /mnt/hadoop/m...</td>\n",
              "      <td>2</td>\n",
              "    </tr>\n",
              "    <tr>\n",
              "      <th>2</th>\n",
              "      <td>blk_-1608999687919862906</td>\n",
              "      <td>081109</td>\n",
              "      <td>203519</td>\n",
              "      <td>143</td>\n",
              "      <td>INFO</td>\n",
              "      <td>dfs.DataNode$DataXceiver</td>\n",
              "      <td>Receiving block blk_-1608999687919862906 src: ...</td>\n",
              "      <td>1</td>\n",
              "    </tr>\n",
              "    <tr>\n",
              "      <th>3</th>\n",
              "      <td>blk_-1608999687919862906</td>\n",
              "      <td>081109</td>\n",
              "      <td>203519</td>\n",
              "      <td>145</td>\n",
              "      <td>INFO</td>\n",
              "      <td>dfs.DataNode$DataXceiver</td>\n",
              "      <td>Receiving block blk_-1608999687919862906 src: ...</td>\n",
              "      <td>1</td>\n",
              "    </tr>\n",
              "    <tr>\n",
              "      <th>4</th>\n",
              "      <td>blk_-1608999687919862906</td>\n",
              "      <td>081109</td>\n",
              "      <td>203519</td>\n",
              "      <td>145</td>\n",
              "      <td>INFO</td>\n",
              "      <td>dfs.DataNode$PacketResponder</td>\n",
              "      <td>PacketResponder 1 for block blk_-1608999687919...</td>\n",
              "      <td>3</td>\n",
              "    </tr>\n",
              "    <tr>\n",
              "      <th>...</th>\n",
              "      <td>...</td>\n",
              "      <td>...</td>\n",
              "      <td>...</td>\n",
              "      <td>...</td>\n",
              "      <td>...</td>\n",
              "      <td>...</td>\n",
              "      <td>...</td>\n",
              "      <td>...</td>\n",
              "    </tr>\n",
              "    <tr>\n",
              "      <th>11175624</th>\n",
              "      <td>blk_-6171368032583208892</td>\n",
              "      <td>081111</td>\n",
              "      <td>111557</td>\n",
              "      <td>13</td>\n",
              "      <td>INFO</td>\n",
              "      <td>dfs.DataBlockScanner</td>\n",
              "      <td>Verification succeeded for blk_-61713680325832...</td>\n",
              "      <td>15</td>\n",
              "    </tr>\n",
              "    <tr>\n",
              "      <th>11175625</th>\n",
              "      <td>blk_6195025276114316035</td>\n",
              "      <td>081111</td>\n",
              "      <td>111607</td>\n",
              "      <td>13</td>\n",
              "      <td>INFO</td>\n",
              "      <td>dfs.DataBlockScanner</td>\n",
              "      <td>Verification succeeded for blk_619502527611431...</td>\n",
              "      <td>15</td>\n",
              "    </tr>\n",
              "    <tr>\n",
              "      <th>11175626</th>\n",
              "      <td>blk_-3339773404714332088</td>\n",
              "      <td>081111</td>\n",
              "      <td>111613</td>\n",
              "      <td>13</td>\n",
              "      <td>INFO</td>\n",
              "      <td>dfs.DataBlockScanner</td>\n",
              "      <td>Verification succeeded for blk_-33397734047143...</td>\n",
              "      <td>15</td>\n",
              "    </tr>\n",
              "    <tr>\n",
              "      <th>11175627</th>\n",
              "      <td>blk_1037231945509285002</td>\n",
              "      <td>081111</td>\n",
              "      <td>111615</td>\n",
              "      <td>13</td>\n",
              "      <td>INFO</td>\n",
              "      <td>dfs.DataBlockScanner</td>\n",
              "      <td>Verification succeeded for blk_103723194550928...</td>\n",
              "      <td>15</td>\n",
              "    </tr>\n",
              "    <tr>\n",
              "      <th>11175628</th>\n",
              "      <td>blk_4258862871822415442</td>\n",
              "      <td>081111</td>\n",
              "      <td>111628</td>\n",
              "      <td>13</td>\n",
              "      <td>INFO</td>\n",
              "      <td>dfs.DataBlockScanner</td>\n",
              "      <td>Verification succeeded for blk_425886287182241...</td>\n",
              "      <td>15</td>\n",
              "    </tr>\n",
              "  </tbody>\n",
              "</table>\n",
              "<p>11175629 rows × 8 columns</p>\n",
              "</div>"
            ],
            "text/plain": [
              "                                Id  ... template_id\n",
              "0         blk_-1608999687919862906  ...           1\n",
              "1         blk_-1608999687919862906  ...           2\n",
              "2         blk_-1608999687919862906  ...           1\n",
              "3         blk_-1608999687919862906  ...           1\n",
              "4         blk_-1608999687919862906  ...           3\n",
              "...                            ...  ...         ...\n",
              "11175624  blk_-6171368032583208892  ...          15\n",
              "11175625   blk_6195025276114316035  ...          15\n",
              "11175626  blk_-3339773404714332088  ...          15\n",
              "11175627   blk_1037231945509285002  ...          15\n",
              "11175628   blk_4258862871822415442  ...          15\n",
              "\n",
              "[11175629 rows x 8 columns]"
            ]
          },
          "metadata": {
            "tags": []
          },
          "execution_count": 10
        }
      ]
    },
    {
      "cell_type": "code",
      "metadata": {
        "id": "ppLAg7G_AFIX"
      },
      "source": [
        "#df = pd.read_csv('/content/drive/MyDrive/hdfs/parsing_result')\n",
        "df.Date = df.Date.astype(str)\n",
        "df.Time = df.Time.astype(str)\n",
        "df['DateTime'] = pd.to_datetime(df.Date + df.Time, format='%m%d%y%H%M%S')\n",
        "#df['Id'] = df['Id'].apply(lambda x: eval(x)[0])"
      ],
      "execution_count": null,
      "outputs": []
    },
    {
      "cell_type": "code",
      "metadata": {
        "id": "P9KBoymXvDFG"
      },
      "source": [
        ""
      ],
      "execution_count": null,
      "outputs": []
    },
    {
      "cell_type": "code",
      "metadata": {
        "id": "BZB-AEAOvDH4"
      },
      "source": [
        ""
      ],
      "execution_count": null,
      "outputs": []
    },
    {
      "cell_type": "code",
      "metadata": {
        "id": "auAxLHsg_52s"
      },
      "source": [
        "def build_seq(df,session_id):\n",
        "    tmp = df[[session_id,'template_id','DateTime']]\n",
        "    tmp = tmp.groupby(session_id).agg({'template_id': lambda x: x.to_list(),'DateTime': 'max'})\n",
        "    return tmp"
      ],
      "execution_count": null,
      "outputs": []
    },
    {
      "cell_type": "code",
      "metadata": {
        "id": "symafuX1AkjY"
      },
      "source": [
        "hdfs_seqs = build_seq(df,'Id')\n",
        "hdfs_seqs.reset_index(inplace = True)\n",
        "hdfs_seqs.sort_values('DateTime',inplace = True)\n",
        "hdfs_seqs.to_csv('./drive/MyDrive/hdfs/'+'sequences_result.csv',index = False)"
      ],
      "execution_count": null,
      "outputs": []
    },
    {
      "cell_type": "code",
      "metadata": {
        "colab": {
          "base_uri": "https://localhost:8080/",
          "height": 419
        },
        "id": "BbU11nj-B-0g",
        "outputId": "56dc7d1d-aae7-410e-9dca-b5b856807cdf"
      },
      "source": [
        "import pandas as pd\n",
        "hdfs_seqs = pd.read_csv('./drive/MyDrive/hdfs/'+'sequences_result.csv')"
      ],
      "execution_count": null,
      "outputs": [
        {
          "output_type": "execute_result",
          "data": {
            "text/html": [
              "<div>\n",
              "<style scoped>\n",
              "    .dataframe tbody tr th:only-of-type {\n",
              "        vertical-align: middle;\n",
              "    }\n",
              "\n",
              "    .dataframe tbody tr th {\n",
              "        vertical-align: top;\n",
              "    }\n",
              "\n",
              "    .dataframe thead th {\n",
              "        text-align: right;\n",
              "    }\n",
              "</style>\n",
              "<table border=\"1\" class=\"dataframe\">\n",
              "  <thead>\n",
              "    <tr style=\"text-align: right;\">\n",
              "      <th></th>\n",
              "      <th>Id</th>\n",
              "      <th>template_id</th>\n",
              "      <th>DateTime</th>\n",
              "    </tr>\n",
              "  </thead>\n",
              "  <tbody>\n",
              "    <tr>\n",
              "      <th>532722</th>\n",
              "      <td>blk_808821427005349208</td>\n",
              "      <td>[12, 1]</td>\n",
              "      <td>1900-01-01 01:00:04</td>\n",
              "    </tr>\n",
              "    <tr>\n",
              "      <th>257419</th>\n",
              "      <td>blk_-8426563416414717720</td>\n",
              "      <td>[12, 1, 1, 18]</td>\n",
              "      <td>1900-11-01 00:01:05</td>\n",
              "    </tr>\n",
              "    <tr>\n",
              "      <th>450176</th>\n",
              "      <td>blk_5699756358408958768</td>\n",
              "      <td>[12, 1]</td>\n",
              "      <td>1900-11-01 00:01:05</td>\n",
              "    </tr>\n",
              "    <tr>\n",
              "      <th>37167</th>\n",
              "      <td>blk_-2071456919707338634</td>\n",
              "      <td>[12, 1, 1, 18]</td>\n",
              "      <td>1900-11-01 00:02:02</td>\n",
              "    </tr>\n",
              "    <tr>\n",
              "      <th>83413</th>\n",
              "      <td>blk_-3408464434262389388</td>\n",
              "      <td>[12, 1, 1, 18]</td>\n",
              "      <td>1900-11-01 00:02:05</td>\n",
              "    </tr>\n",
              "    <tr>\n",
              "      <th>...</th>\n",
              "      <td>...</td>\n",
              "      <td>...</td>\n",
              "      <td>...</td>\n",
              "    </tr>\n",
              "    <tr>\n",
              "      <th>476151</th>\n",
              "      <td>blk_6458501057260729182</td>\n",
              "      <td>[1, 1, 1, 43, 3, 4, 3, 4, 3, 4, 5, 5, 5, 10, 1...</td>\n",
              "      <td>1900-11-11 23:55:09</td>\n",
              "    </tr>\n",
              "    <tr>\n",
              "      <th>473044</th>\n",
              "      <td>blk_6367016609316899824</td>\n",
              "      <td>[1, 43, 1, 1, 3, 4, 3, 4, 3, 4, 5, 5, 5, 35, 3...</td>\n",
              "      <td>1900-11-11 23:55:09</td>\n",
              "    </tr>\n",
              "    <tr>\n",
              "      <th>476076</th>\n",
              "      <td>blk_6456197171151999317</td>\n",
              "      <td>[43, 1, 1, 1, 3, 4, 3, 4, 3, 4, 5, 5, 5, 10, 1...</td>\n",
              "      <td>1900-11-11 23:55:09</td>\n",
              "    </tr>\n",
              "    <tr>\n",
              "      <th>175111</th>\n",
              "      <td>blk_-6058986837873837461</td>\n",
              "      <td>[1, 1, 1, 43, 3, 4, 3, 4, 3, 4, 5, 5, 5, 35, 3...</td>\n",
              "      <td>1900-11-11 23:55:09</td>\n",
              "    </tr>\n",
              "    <tr>\n",
              "      <th>418216</th>\n",
              "      <td>blk_4771250412468726068</td>\n",
              "      <td>[1, 43, 1, 1, 3, 4, 3, 4, 3, 4, 5, 5, 5, 15, 1...</td>\n",
              "      <td>1900-11-11 23:55:09</td>\n",
              "    </tr>\n",
              "  </tbody>\n",
              "</table>\n",
              "<p>575061 rows × 3 columns</p>\n",
              "</div>"
            ],
            "text/plain": [
              "                              Id  ...            DateTime\n",
              "532722    blk_808821427005349208  ... 1900-01-01 01:00:04\n",
              "257419  blk_-8426563416414717720  ... 1900-11-01 00:01:05\n",
              "450176   blk_5699756358408958768  ... 1900-11-01 00:01:05\n",
              "37167   blk_-2071456919707338634  ... 1900-11-01 00:02:02\n",
              "83413   blk_-3408464434262389388  ... 1900-11-01 00:02:05\n",
              "...                          ...  ...                 ...\n",
              "476151   blk_6458501057260729182  ... 1900-11-11 23:55:09\n",
              "473044   blk_6367016609316899824  ... 1900-11-11 23:55:09\n",
              "476076   blk_6456197171151999317  ... 1900-11-11 23:55:09\n",
              "175111  blk_-6058986837873837461  ... 1900-11-11 23:55:09\n",
              "418216   blk_4771250412468726068  ... 1900-11-11 23:55:09\n",
              "\n",
              "[575061 rows x 3 columns]"
            ]
          },
          "metadata": {
            "tags": []
          },
          "execution_count": 67
        }
      ]
    },
    {
      "cell_type": "code",
      "metadata": {
        "id": "IPdDiTdNzBr3",
        "colab": {
          "base_uri": "https://localhost:8080/",
          "height": 232
        },
        "outputId": "c02eb30e-3241-427c-e135-611c51d5809d"
      },
      "source": [
        "# add anomaly label\n",
        "anomaly = pd.read_csv('anomaly_label.csv')\n",
        "anomaly.set_index(anomaly.columns[0],inplace = True)\n",
        "hdfs_seqs.set_index('Id',inplace = True)\n",
        "hdfs_seqs = hdfs_seqs.merge(anomaly,left_index=True,right_index=True,how='inner')\n",
        "hdfs_seqs.sort_values('DateTime',inplace = True)"
      ],
      "execution_count": null,
      "outputs": [
        {
          "output_type": "error",
          "ename": "NameError",
          "evalue": "ignored",
          "traceback": [
            "\u001b[0;31m---------------------------------------------------------------------------\u001b[0m",
            "\u001b[0;31mNameError\u001b[0m                                 Traceback (most recent call last)",
            "\u001b[0;32m<ipython-input-14-ae591c0830fd>\u001b[0m in \u001b[0;36m<module>\u001b[0;34m()\u001b[0m\n\u001b[1;32m      2\u001b[0m \u001b[0manomaly\u001b[0m \u001b[0;34m=\u001b[0m \u001b[0mpd\u001b[0m\u001b[0;34m.\u001b[0m\u001b[0mread_csv\u001b[0m\u001b[0;34m(\u001b[0m\u001b[0;34m'anomaly_label.csv'\u001b[0m\u001b[0;34m)\u001b[0m\u001b[0;34m\u001b[0m\u001b[0;34m\u001b[0m\u001b[0m\n\u001b[1;32m      3\u001b[0m \u001b[0manomaly\u001b[0m\u001b[0;34m.\u001b[0m\u001b[0mset_index\u001b[0m\u001b[0;34m(\u001b[0m\u001b[0manomaly\u001b[0m\u001b[0;34m.\u001b[0m\u001b[0mcolumns\u001b[0m\u001b[0;34m[\u001b[0m\u001b[0;36m0\u001b[0m\u001b[0;34m]\u001b[0m\u001b[0;34m,\u001b[0m\u001b[0minplace\u001b[0m \u001b[0;34m=\u001b[0m \u001b[0;32mTrue\u001b[0m\u001b[0;34m)\u001b[0m\u001b[0;34m\u001b[0m\u001b[0;34m\u001b[0m\u001b[0m\n\u001b[0;32m----> 4\u001b[0;31m \u001b[0mhdfs_seqs\u001b[0m\u001b[0;34m.\u001b[0m\u001b[0mset_index\u001b[0m\u001b[0;34m(\u001b[0m\u001b[0;34m'Id'\u001b[0m\u001b[0;34m,\u001b[0m\u001b[0minplace\u001b[0m \u001b[0;34m=\u001b[0m \u001b[0;32mTrue\u001b[0m\u001b[0;34m)\u001b[0m\u001b[0;34m\u001b[0m\u001b[0;34m\u001b[0m\u001b[0m\n\u001b[0m\u001b[1;32m      5\u001b[0m \u001b[0mhdfs_seqs\u001b[0m \u001b[0;34m=\u001b[0m \u001b[0mhdfs_seqs\u001b[0m\u001b[0;34m.\u001b[0m\u001b[0mmerge\u001b[0m\u001b[0;34m(\u001b[0m\u001b[0manomaly\u001b[0m\u001b[0;34m,\u001b[0m\u001b[0mleft_index\u001b[0m\u001b[0;34m=\u001b[0m\u001b[0;32mTrue\u001b[0m\u001b[0;34m,\u001b[0m\u001b[0mright_index\u001b[0m\u001b[0;34m=\u001b[0m\u001b[0;32mTrue\u001b[0m\u001b[0;34m,\u001b[0m\u001b[0mhow\u001b[0m\u001b[0;34m=\u001b[0m\u001b[0;34m'inner'\u001b[0m\u001b[0;34m)\u001b[0m\u001b[0;34m\u001b[0m\u001b[0;34m\u001b[0m\u001b[0m\n\u001b[1;32m      6\u001b[0m \u001b[0mhdfs_seqs\u001b[0m\u001b[0;34m.\u001b[0m\u001b[0msort_values\u001b[0m\u001b[0;34m(\u001b[0m\u001b[0;34m'DateTime'\u001b[0m\u001b[0;34m,\u001b[0m\u001b[0minplace\u001b[0m \u001b[0;34m=\u001b[0m \u001b[0;32mTrue\u001b[0m\u001b[0;34m)\u001b[0m\u001b[0;34m\u001b[0m\u001b[0;34m\u001b[0m\u001b[0m\n",
            "\u001b[0;31mNameError\u001b[0m: name 'hdfs_seqs' is not defined"
          ]
        }
      ]
    },
    {
      "cell_type": "code",
      "metadata": {
        "id": "0sJbDWOxf_8J"
      },
      "source": [
        "#generate hdfs version:\n",
        "\n",
        "#train data first 1% data\n",
        "sample = hdfs_seqs.iloc[:int(0.01*len(hdfs_seqs))]\n",
        "# train_clean\n",
        "sample_clean = sample[sample.Label != 'Anomaly']\n",
        "with open('./drive/MyDrive/hdfs/'+'hdfs_train_clean.txt','w') as data:\n",
        "    for i in sample_clean.template_id.to_list():\n",
        "        data.write(' '.join([str(j) for j in i])+'\\n')\n",
        "# train_dirty\n",
        "sample_dirty = sample[sample.Label == 'Anomaly']\n",
        "with open('./drive/MyDrive/hdfs/'+'hdfs_train_dirty.txt','w') as data:\n",
        "    for i in sample_dirty.template_id.to_list():\n",
        "        data.write(' '.join([str(j) for j in i])+'\\n')"
      ],
      "execution_count": null,
      "outputs": []
    },
    {
      "cell_type": "code",
      "metadata": {
        "id": "hVPYP1aZi_nu"
      },
      "source": [
        "test = hdfs_seqs.iloc[int(0.01*len(hdfs_seqs)):]\n",
        "\n",
        "test_clean = test[test.Label != 'Anomaly']\n",
        "with open('./drive/MyDrive/hdfs/'+'hdfs_test_clean.txt','w') as data:\n",
        "    for i in test_clean.template_id.to_list():\n",
        "        data.write(' '.join([str(j) for j in i])+'\\n')\n",
        "# train_dirty\n",
        "test_dirty = test[test.Label == 'Anomaly']\n",
        "with open('./drive/MyDrive/hdfs/'+'hdfs_test_dirty.txt','w') as data:\n",
        "    for i in test_dirty.template_id.to_list():\n",
        "        data.write(' '.join([str(j) for j in i])+'\\n')"
      ],
      "execution_count": null,
      "outputs": []
    },
    {
      "cell_type": "code",
      "metadata": {
        "colab": {
          "base_uri": "https://localhost:8080/"
        },
        "id": "raJwfrgNjkBe",
        "outputId": "b023d33c-cea0-4f26-8fe7-a293cc3e68c8"
      },
      "source": [
        "# our hdfs\n",
        "p = set([])\n",
        "with open('./drive/MyDrive/hdfs/'+'hdfs_train_clean.txt') as data:\n",
        "    for i in data:       \n",
        "        p.add(i)\n",
        "    print(len(p))\n",
        "\n",
        "with open('./drive/MyDrive/hdfs/'+'hdfs_train_dirty.txt') as data:\n",
        "    for i in data:       \n",
        "        p.add(i)\n",
        "    print(len(p))\n",
        "\n",
        "with open('./drive/MyDrive/hdfs/'+'hdfs_test_clean.txt') as data:\n",
        "    for i in data:\n",
        "        p.add(i)\n",
        "    print(len(p))\n",
        "\n",
        "with open('./drive/MyDrive/hdfs/'+'hdfs_test_dirty.txt') as data:\n",
        "    for i in data:\n",
        "        p.add(i)\n",
        "    print(len(p))"
      ],
      "execution_count": null,
      "outputs": [
        {
          "output_type": "stream",
          "text": [
            "677\n",
            "751\n",
            "15533\n",
            "19653\n"
          ],
          "name": "stdout"
        }
      ]
    },
    {
      "cell_type": "code",
      "metadata": {
        "colab": {
          "base_uri": "https://localhost:8080/"
        },
        "id": "kFYAnwVM-9fx",
        "outputId": "3c3ea1bf-8263-4e21-f60f-a6cb780f24ed"
      },
      "source": [
        "# deeplog hdfs\n",
        "p = set([])\n",
        "with open('/content/drive/MyDrive/DeepLog/data/hdfs_train') as data:\n",
        "    for i in data:       \n",
        "        p.add(i)\n",
        "    print(len(p))\n",
        "\n",
        "with open('/content/drive/MyDrive/DeepLog/data/hdfs_test_normal') as data:\n",
        "    for i in data:\n",
        "        p.add(i)\n",
        "    print(len(p))\n",
        "\n",
        "with open('/content/drive/MyDrive/DeepLog/data/hdfs_test_abnormal') as data:\n",
        "    for i in data:\n",
        "        p.add(i)\n",
        "    print(len(p))"
      ],
      "execution_count": null,
      "outputs": [
        {
          "output_type": "stream",
          "text": [
            "840\n",
            "14261\n",
            "18375\n"
          ],
          "name": "stdout"
        }
      ]
    },
    {
      "cell_type": "code",
      "metadata": {
        "id": "5yriKlejkQOQ",
        "colab": {
          "base_uri": "https://localhost:8080/",
          "height": 49
        },
        "outputId": "124a3bac-a4bd-460b-e294-152f1e44176a"
      },
      "source": [
        "df"
      ],
      "execution_count": null,
      "outputs": [
        {
          "output_type": "execute_result",
          "data": {
            "text/html": [
              "<div>\n",
              "<style scoped>\n",
              "    .dataframe tbody tr th:only-of-type {\n",
              "        vertical-align: middle;\n",
              "    }\n",
              "\n",
              "    .dataframe tbody tr th {\n",
              "        vertical-align: top;\n",
              "    }\n",
              "\n",
              "    .dataframe thead th {\n",
              "        text-align: right;\n",
              "    }\n",
              "</style>\n",
              "<table border=\"1\" class=\"dataframe\">\n",
              "  <thead>\n",
              "    <tr style=\"text-align: right;\">\n",
              "      <th></th>\n",
              "      <th>Id</th>\n",
              "      <th>Date</th>\n",
              "      <th>Time</th>\n",
              "      <th>Pid</th>\n",
              "      <th>Level</th>\n",
              "      <th>Component</th>\n",
              "      <th>Content</th>\n",
              "      <th>template_id</th>\n",
              "      <th>DateTime</th>\n",
              "      <th>Label</th>\n",
              "    </tr>\n",
              "  </thead>\n",
              "  <tbody>\n",
              "  </tbody>\n",
              "</table>\n",
              "</div>"
            ],
            "text/plain": [
              "Empty DataFrame\n",
              "Columns: [Id, Date, Time, Pid, Level, Component, Content, template_id, DateTime, Label]\n",
              "Index: []"
            ]
          },
          "metadata": {
            "tags": []
          },
          "execution_count": 17
        }
      ]
    },
    {
      "cell_type": "code",
      "metadata": {
        "id": "ESLp694FkQX3"
      },
      "source": [
        ""
      ],
      "execution_count": null,
      "outputs": []
    },
    {
      "cell_type": "code",
      "metadata": {
        "id": "ubEuzhWzkQda"
      },
      "source": [
        ""
      ],
      "execution_count": null,
      "outputs": []
    },
    {
      "cell_type": "code",
      "metadata": {
        "id": "df3u6EP3kQm7"
      },
      "source": [
        ""
      ],
      "execution_count": null,
      "outputs": []
    },
    {
      "cell_type": "code",
      "metadata": {
        "id": "MvjIEXkGkQwT"
      },
      "source": [
        ""
      ],
      "execution_count": null,
      "outputs": []
    },
    {
      "cell_type": "code",
      "metadata": {
        "id": "OURq6KD8kQ_O"
      },
      "source": [
        ""
      ],
      "execution_count": null,
      "outputs": []
    },
    {
      "cell_type": "code",
      "metadata": {
        "id": "655cObmzkRPs"
      },
      "source": [
        ""
      ],
      "execution_count": null,
      "outputs": []
    },
    {
      "cell_type": "code",
      "metadata": {
        "id": "51oTUzyhzRaU"
      },
      "source": [
        "import pandas as pd\n",
        "import re"
      ],
      "execution_count": null,
      "outputs": []
    },
    {
      "cell_type": "code",
      "metadata": {
        "id": "G7YqamtqzRaU"
      },
      "source": [
        "df = bgl_df\n",
        "#mostly log are ordered by time"
      ],
      "execution_count": null,
      "outputs": []
    },
    {
      "cell_type": "code",
      "metadata": {
        "id": "K_-6Te_RzRaU"
      },
      "source": [
        ""
      ],
      "execution_count": null,
      "outputs": []
    },
    {
      "cell_type": "code",
      "metadata": {
        "id": "5rMgPGmxzRaV"
      },
      "source": [
        "df['Time']=pd.to_datetime(df['Time'],format='%Y-%m-%d-%H.%M.%S.%f')"
      ],
      "execution_count": null,
      "outputs": []
    },
    {
      "cell_type": "code",
      "metadata": {
        "id": "KccoiKjJzRaV",
        "outputId": "f2d3d6dd-9c11-420c-f55b-0dd497c8cc7d"
      },
      "source": [
        "df.sort_values('Time').index"
      ],
      "execution_count": null,
      "outputs": [
        {
          "output_type": "execute_result",
          "data": {
            "text/plain": [
              "Int64Index([      0,       1,       2,       3,       4,       5,       6,\n",
              "                  7,       8,       9,\n",
              "            ...\n",
              "            4713483, 4713484, 4713485, 4713486, 4713487, 4713488, 4713489,\n",
              "            4713490, 4713491, 4713492],\n",
              "           dtype='int64', length=4713493)"
            ]
          },
          "metadata": {
            "tags": []
          },
          "execution_count": 21
        }
      ]
    },
    {
      "cell_type": "code",
      "metadata": {
        "id": "DTC5pMX2zRaV",
        "outputId": "968fe557-727d-4117-dfc4-cda0a4578ac5"
      },
      "source": [
        ""
      ],
      "execution_count": null,
      "outputs": [
        {
          "output_type": "execute_result",
          "data": {
            "text/plain": [
              "4"
            ]
          },
          "metadata": {
            "tags": []
          },
          "execution_count": 44
        }
      ]
    },
    {
      "cell_type": "code",
      "metadata": {
        "id": "km_CdrAszRaW"
      },
      "source": [
        "x=re.search(r'[0-9]{4}(-[0-9]{2}){3}(.\\w+){3}',logs)"
      ],
      "execution_count": null,
      "outputs": []
    },
    {
      "cell_type": "code",
      "metadata": {
        "id": "BtsBJtchzRaW",
        "outputId": "101be3ae-5da2-48f9-cf73-144da2836b4a"
      },
      "source": [
        "x.group(0)"
      ],
      "execution_count": null,
      "outputs": [
        {
          "output_type": "execute_result",
          "data": {
            "text/plain": [
              "'2005-06-03-15.42.50.363779'"
            ]
          },
          "metadata": {
            "tags": []
          },
          "execution_count": 30
        }
      ]
    },
    {
      "cell_type": "code",
      "metadata": {
        "id": "o-drFlL9zRaX"
      },
      "source": [
        "new_dataset=df[['log_event','label','t_id']].groupby('t_id').agg(list) \n",
        "# mostly log are order by time\n",
        "# we can think it is seq "
      ],
      "execution_count": null,
      "outputs": []
    },
    {
      "cell_type": "code",
      "metadata": {
        "id": "6jZ4AqQxzRaX",
        "outputId": "e3fc225f-a8f0-40a4-d1aa-a0e5c48213d0"
      },
      "source": [
        "new_dataset"
      ],
      "execution_count": null,
      "outputs": [
        {
          "output_type": "execute_result",
          "data": {
            "text/html": [
              "<div>\n",
              "<style scoped>\n",
              "    .dataframe tbody tr th:only-of-type {\n",
              "        vertical-align: middle;\n",
              "    }\n",
              "\n",
              "    .dataframe tbody tr th {\n",
              "        vertical-align: top;\n",
              "    }\n",
              "\n",
              "    .dataframe thead th {\n",
              "        text-align: right;\n",
              "    }\n",
              "</style>\n",
              "<table border=\"1\" class=\"dataframe\">\n",
              "  <thead>\n",
              "    <tr style=\"text-align: right;\">\n",
              "      <th></th>\n",
              "      <th>log_event</th>\n",
              "      <th>label</th>\n",
              "    </tr>\n",
              "    <tr>\n",
              "      <th>t_id</th>\n",
              "      <th></th>\n",
              "      <th></th>\n",
              "    </tr>\n",
              "  </thead>\n",
              "  <tbody>\n",
              "    <tr>\n",
              "      <th>1117838570</th>\n",
              "      <td>[1, 1, 1, 1, 1]</td>\n",
              "      <td>[-, -, -, -, -]</td>\n",
              "    </tr>\n",
              "    <tr>\n",
              "      <th>1117838571</th>\n",
              "      <td>[1, 1, 1, 1, 1, 1]</td>\n",
              "      <td>[-, -, -, -, -, -]</td>\n",
              "    </tr>\n",
              "    <tr>\n",
              "      <th>1117838572</th>\n",
              "      <td>[1, 1, 1, 1, 1, 1, 1]</td>\n",
              "      <td>[-, -, -, -, -, -, -]</td>\n",
              "    </tr>\n",
              "    <tr>\n",
              "      <th>1117838573</th>\n",
              "      <td>[1, 1, 1, 1, 1, 1]</td>\n",
              "      <td>[-, -, -, -, -, -]</td>\n",
              "    </tr>\n",
              "    <tr>\n",
              "      <th>1117838574</th>\n",
              "      <td>[1, 1, 1, 1, 1, 1, 1]</td>\n",
              "      <td>[-, -, -, -, -, -, -]</td>\n",
              "    </tr>\n",
              "    <tr>\n",
              "      <th>...</th>\n",
              "      <td>...</td>\n",
              "      <td>...</td>\n",
              "    </tr>\n",
              "    <tr>\n",
              "      <th>1136389303</th>\n",
              "      <td>[5132, 5133, 5131, 5131, 5131, 5131]</td>\n",
              "      <td>[-, -, -, -, -, -]</td>\n",
              "    </tr>\n",
              "    <tr>\n",
              "      <th>1136389653</th>\n",
              "      <td>[5132, 5133]</td>\n",
              "      <td>[-, -]</td>\n",
              "    </tr>\n",
              "    <tr>\n",
              "      <th>1136389988</th>\n",
              "      <td>[5132, 5133]</td>\n",
              "      <td>[-, -]</td>\n",
              "    </tr>\n",
              "    <tr>\n",
              "      <th>1136389989</th>\n",
              "      <td>[5131, 5131]</td>\n",
              "      <td>[-, -]</td>\n",
              "    </tr>\n",
              "    <tr>\n",
              "      <th>1136390405</th>\n",
              "      <td>[5144, 5144, 5144, 5144, 5144, 5144, 5144, 5144]</td>\n",
              "      <td>[KERNSOCK, KERNSOCK, KERNSOCK, KERNSOCK, KERNS...</td>\n",
              "    </tr>\n",
              "  </tbody>\n",
              "</table>\n",
              "<p>299849 rows × 2 columns</p>\n",
              "</div>"
            ],
            "text/plain": [
              "                                                   log_event  \\\n",
              "t_id                                                           \n",
              "1117838570                                   [1, 1, 1, 1, 1]   \n",
              "1117838571                                [1, 1, 1, 1, 1, 1]   \n",
              "1117838572                             [1, 1, 1, 1, 1, 1, 1]   \n",
              "1117838573                                [1, 1, 1, 1, 1, 1]   \n",
              "1117838574                             [1, 1, 1, 1, 1, 1, 1]   \n",
              "...                                                      ...   \n",
              "1136389303              [5132, 5133, 5131, 5131, 5131, 5131]   \n",
              "1136389653                                      [5132, 5133]   \n",
              "1136389988                                      [5132, 5133]   \n",
              "1136389989                                      [5131, 5131]   \n",
              "1136390405  [5144, 5144, 5144, 5144, 5144, 5144, 5144, 5144]   \n",
              "\n",
              "                                                        label  \n",
              "t_id                                                           \n",
              "1117838570                                    [-, -, -, -, -]  \n",
              "1117838571                                 [-, -, -, -, -, -]  \n",
              "1117838572                              [-, -, -, -, -, -, -]  \n",
              "1117838573                                 [-, -, -, -, -, -]  \n",
              "1117838574                              [-, -, -, -, -, -, -]  \n",
              "...                                                       ...  \n",
              "1136389303                                 [-, -, -, -, -, -]  \n",
              "1136389653                                             [-, -]  \n",
              "1136389988                                             [-, -]  \n",
              "1136389989                                             [-, -]  \n",
              "1136390405  [KERNSOCK, KERNSOCK, KERNSOCK, KERNSOCK, KERNS...  \n",
              "\n",
              "[299849 rows x 2 columns]"
            ]
          },
          "metadata": {
            "tags": []
          },
          "execution_count": 12
        }
      ]
    },
    {
      "cell_type": "code",
      "metadata": {
        "id": "cNcBCl1azRaX",
        "outputId": "963b1e90-c76d-40f1-8db6-a615abd57c83"
      },
      "source": [
        "df[df.log_event==900]"
      ],
      "execution_count": null,
      "outputs": [
        {
          "output_type": "execute_result",
          "data": {
            "text/html": [
              "<div>\n",
              "<style scoped>\n",
              "    .dataframe tbody tr th:only-of-type {\n",
              "        vertical-align: middle;\n",
              "    }\n",
              "\n",
              "    .dataframe tbody tr th {\n",
              "        vertical-align: top;\n",
              "    }\n",
              "\n",
              "    .dataframe thead th {\n",
              "        text-align: right;\n",
              "    }\n",
              "</style>\n",
              "<table border=\"1\" class=\"dataframe\">\n",
              "  <thead>\n",
              "    <tr style=\"text-align: right;\">\n",
              "      <th></th>\n",
              "      <th>log</th>\n",
              "      <th>label</th>\n",
              "      <th>log_event</th>\n",
              "      <th>t_id</th>\n",
              "      <th>severity</th>\n",
              "      <th>log_sub</th>\n",
              "      <th>message</th>\n",
              "    </tr>\n",
              "  </thead>\n",
              "  <tbody>\n",
              "    <tr>\n",
              "      <th>3657673</th>\n",
              "      <td>1130414824 2005.10.27 R42-M1-N3-C:J17-U11 2005...</td>\n",
              "      <td>-</td>\n",
              "      <td>900</td>\n",
              "      <td>1130414824</td>\n",
              "      <td>FATAL</td>\n",
              "      <td>1130414824 2005.10.27 R42-M1-N3-C:J17-U11 2005...</td>\n",
              "      <td>24:01cdf820 25:01cde9e0 26:027d6500 27:003367...</td>\n",
              "    </tr>\n",
              "  </tbody>\n",
              "</table>\n",
              "</div>"
            ],
            "text/plain": [
              "                                                       log label  log_event  \\\n",
              "3657673  1130414824 2005.10.27 R42-M1-N3-C:J17-U11 2005...     -        900   \n",
              "\n",
              "               t_id severity  \\\n",
              "3657673  1130414824    FATAL   \n",
              "\n",
              "                                                   log_sub  \\\n",
              "3657673  1130414824 2005.10.27 R42-M1-N3-C:J17-U11 2005...   \n",
              "\n",
              "                                                   message  \n",
              "3657673   24:01cdf820 25:01cde9e0 26:027d6500 27:003367...  "
            ]
          },
          "metadata": {
            "tags": []
          },
          "execution_count": 40
        }
      ]
    },
    {
      "cell_type": "code",
      "metadata": {
        "id": "x2Kb1xjvzRaY"
      },
      "source": [
        "m=tm.drain.id_to_cluster[900].get_template"
      ],
      "execution_count": null,
      "outputs": []
    },
    {
      "cell_type": "code",
      "metadata": {
        "id": "K3rpfs7MzRaZ",
        "outputId": "58013e4d-44c0-40e2-d8f9-be04c3c31a7e"
      },
      "source": [
        "m.get_template()"
      ],
      "execution_count": null,
      "outputs": [
        {
          "output_type": "execute_result",
          "data": {
            "text/plain": [
              "'24:01cdf820 25:01cde9e0 26:027d6500 27:00336700'"
            ]
          },
          "metadata": {
            "tags": []
          },
          "execution_count": 37
        }
      ]
    },
    {
      "cell_type": "code",
      "metadata": {
        "id": "9OqAqmX-zRaZ",
        "outputId": "968ace54-d34e-4df2-9235-166a332a2063"
      },
      "source": [
        "b=list(df.loc[:5,'log'])\n",
        "b"
      ],
      "execution_count": null,
      "outputs": [
        {
          "output_type": "execute_result",
          "data": {
            "text/plain": [
              "['1117838570 2005.06.03 R02-M1-N0-C:J12-U11 2005-06-03-15.42.50.363779 R02-M1-N0-C:J12-U11 RAS KERNEL INFO instruction cache parity error corrected\\n',\n",
              " '1117838570 2005.06.03 R02-M1-N0-C:J12-U11 2005-06-03-15.42.50.527847 R02-M1-N0-C:J12-U11 RAS KERNEL INFO instruction cache parity error corrected\\n',\n",
              " '1117838570 2005.06.03 R02-M1-N0-C:J12-U11 2005-06-03-15.42.50.675872 R02-M1-N0-C:J12-U11 RAS KERNEL INFO instruction cache parity error corrected\\n',\n",
              " '1117838570 2005.06.03 R02-M1-N0-C:J12-U11 2005-06-03-15.42.50.823719 R02-M1-N0-C:J12-U11 RAS KERNEL INFO instruction cache parity error corrected\\n',\n",
              " '1117838570 2005.06.03 R02-M1-N0-C:J12-U11 2005-06-03-15.42.50.982731 R02-M1-N0-C:J12-U11 RAS KERNEL INFO instruction cache parity error corrected\\n',\n",
              " '1117838571 2005.06.03 R02-M1-N0-C:J12-U11 2005-06-03-15.42.51.131467 R02-M1-N0-C:J12-U11 RAS KERNEL INFO instruction cache parity error corrected\\n']"
            ]
          },
          "metadata": {
            "tags": []
          },
          "execution_count": 53
        }
      ]
    },
    {
      "cell_type": "code",
      "metadata": {
        "id": "AN151-qczRaZ",
        "outputId": "c7a75569-6bb7-4187-dd9d-155e516056b3"
      },
      "source": [
        "k=list(df.loc[4747960:,'log'])\n",
        "k"
      ],
      "execution_count": null,
      "outputs": [
        {
          "output_type": "execute_result",
          "data": {
            "text/plain": [
              "['1136390405 2006.01.04 R30-M0-NC-I:J18-U11 2006-01-04-08.00.05.186013 R30-M0-NC-I:J18-U11 RAS KERNEL FATAL idoproxy communication failure: socket closed\\n',\n",
              " '1136390405 2006.01.04 R31-M0-NC-I:J18-U11 2006-01-04-08.00.05.204230 R31-M0-NC-I:J18-U11 RAS KERNEL FATAL idoproxy communication failure: socket closed\\n',\n",
              " '1136390405 2006.01.04 R34-M0-NC-I:J18-U11 2006-01-04-08.00.05.233639 R34-M0-NC-I:J18-U11 RAS KERNEL FATAL idoproxy communication failure: socket closed\\n']"
            ]
          },
          "metadata": {
            "tags": []
          },
          "execution_count": 51
        }
      ]
    },
    {
      "cell_type": "code",
      "metadata": {
        "id": "xe8qYsu2zRaa"
      },
      "source": [
        "df['t_id'] = df.log.str.findall('[0-9]{6,100}').str[0]"
      ],
      "execution_count": null,
      "outputs": []
    },
    {
      "cell_type": "code",
      "metadata": {
        "id": "oEA3sZzFzRab"
      },
      "source": [
        "m=df.groupby(['t_id','label']).count()"
      ],
      "execution_count": null,
      "outputs": []
    },
    {
      "cell_type": "code",
      "metadata": {
        "id": "rE5-mN8vzRab",
        "outputId": "7e2d54ef-e5d7-4483-cfa2-055f537a4fb0"
      },
      "source": [
        "m.loc[m.log.argmax()]"
      ],
      "execution_count": null,
      "outputs": [
        {
          "output_type": "execute_result",
          "data": {
            "text/plain": [
              "t_id         1123030909\n",
              "label                 -\n",
              "log                 393\n",
              "log_event           393\n",
              "Name: 125077, dtype: object"
            ]
          },
          "metadata": {
            "tags": []
          },
          "execution_count": 27
        }
      ]
    },
    {
      "cell_type": "code",
      "metadata": {
        "id": "ojQJ3RAYzRab"
      },
      "source": [
        "df[df.t_id=='1123030909']"
      ],
      "execution_count": null,
      "outputs": []
    },
    {
      "cell_type": "code",
      "metadata": {
        "id": "tYX1V9X1zRab"
      },
      "source": [
        "m.reset_index(inplace=True)"
      ],
      "execution_count": null,
      "outputs": []
    },
    {
      "cell_type": "code",
      "metadata": {
        "id": "jiIQ6hBOzRab",
        "outputId": "5b42874f-b6ea-40cb-bf56-5d66c26c7441"
      },
      "source": [
        "m[['t_id','label']].groupby('t_id').count()['label']."
      ],
      "execution_count": null,
      "outputs": [
        {
          "output_type": "execute_result",
          "data": {
            "text/plain": [
              "4"
            ]
          },
          "metadata": {
            "tags": []
          },
          "execution_count": 22
        }
      ]
    },
    {
      "cell_type": "code",
      "metadata": {
        "id": "CMHzDkOVzRac",
        "outputId": "018fb0dc-18dd-4d4e-de70-c4e2b3aca03e"
      },
      "source": [
        "bgl_df.index.min()"
      ],
      "execution_count": null,
      "outputs": [
        {
          "output_type": "execute_result",
          "data": {
            "text/plain": [
              "Timestamp('2005-06-03 22:42:50')"
            ]
          },
          "metadata": {
            "tags": []
          },
          "execution_count": 86
        }
      ]
    },
    {
      "cell_type": "code",
      "metadata": {
        "id": "bgmQ7bXUzRac",
        "outputId": "74c07671-37da-470a-847b-c1473cc1c3ce"
      },
      "source": [
        "bgl_df.Label.unique()"
      ],
      "execution_count": null,
      "outputs": [
        {
          "output_type": "execute_result",
          "data": {
            "text/plain": [
              "array(['-', 'APPREAD', 'KERNDTLB', 'KERNMC', 'KERNRTSP', 'KERNSTOR',\n",
              "       'APPCHILD', 'APPALLOC', 'KERNSOCK', 'MASNORM', 'LINKDISC',\n",
              "       'KERNNOETH', 'KERNTERM', 'APPUNAV', 'KERNPOW', 'KERNPROG',\n",
              "       'LINKPAP', 'APPBUSY', 'APPTORUS', 'MASABNORM', 'KERNCON', 'APPSEV',\n",
              "       'MONPOW', 'MONNULL', 'KERNMNT', 'KERNMNTF', 'KERNMICRO', 'APPRES',\n",
              "       'LINKIAP', 'KERNPAN', 'KERNEXT', 'KERNFLOAT', 'KERNBIT',\n",
              "       'KERNRTSA', 'MMCS', 'KERNREC', 'KERNSERV', 'MONILL', 'APPTO',\n",
              "       'LINKBLL', 'KERNTLBE', 'APPOUT'], dtype=object)"
            ]
          },
          "metadata": {
            "tags": []
          },
          "execution_count": 84
        }
      ]
    },
    {
      "cell_type": "code",
      "metadata": {
        "id": "kQ5bsNLezRac"
      },
      "source": [
        "bgl_df.Timestamp = pd.to_datetime(bgl_df.Timestamp,unit='s')\n",
        "bgl_df.set_index('Timestamp',inplace=True)"
      ],
      "execution_count": null,
      "outputs": []
    },
    {
      "cell_type": "code",
      "metadata": {
        "id": "T-uDPSE2zRad"
      },
      "source": [
        "window_size=3 # unit hour\n",
        "step_size=0.2 # unit hour\n",
        "first_start = bgl_df.index[0]"
      ],
      "execution_count": null,
      "outputs": []
    },
    {
      "cell_type": "code",
      "metadata": {
        "id": "6OkMo7J5zRad",
        "outputId": "fb1f8c71-0911-4061-ca26-ed303bdcf445"
      },
      "source": [
        "pd.Timestamp(first_start.timestamp()+3600*20,unit='s')"
      ],
      "execution_count": null,
      "outputs": [
        {
          "output_type": "execute_result",
          "data": {
            "text/plain": [
              "Timestamp('2005-06-04 18:42:50')"
            ]
          },
          "metadata": {
            "tags": []
          },
          "execution_count": 77
        }
      ]
    },
    {
      "cell_type": "code",
      "metadata": {
        "id": "Ju4wRqjhzRad",
        "outputId": "0f281415-599a-4078-f8e6-cc2981abfc13"
      },
      "source": [
        "first_start.time()"
      ],
      "execution_count": null,
      "outputs": [
        {
          "output_type": "execute_result",
          "data": {
            "text/plain": [
              "datetime.time(22, 42, 50)"
            ]
          },
          "metadata": {
            "tags": []
          },
          "execution_count": 74
        }
      ]
    },
    {
      "cell_type": "code",
      "metadata": {
        "id": "wgZg89D9zRad",
        "outputId": "77b9fb1f-489d-4276-a0f5-77b41f0a561b"
      },
      "source": [
        "bgl_df[first_start : pd.Timestamp(first_start.timestamp()+300000000,unit='s')][['Label','Node','log_event']]\\\n",
        ".groupby('Node').agg({'Label':set,'log_event':list}).reset_index().Label.astype('str').unique()"
      ],
      "execution_count": null,
      "outputs": [
        {
          "output_type": "execute_result",
          "data": {
            "text/plain": [
              "array([\"{'-'}\", \"{'KERNPOW', 'MASABNORM', 'KERNSERV', 'MASNORM', '-'}\",\n",
              "       \"{'KERNSTOR', 'KERNRTSP', '-'}\",\n",
              "       \"{'KERNSTOR', 'KERNRTSP', '-', 'KERNTERM'}\",\n",
              "       \"{'KERNMC', 'KERNSTOR', 'KERNRTSP', '-'}\", \"{'KERNSTOR', '-'}\",\n",
              "       \"{'KERNSTOR', '-', 'KERNTERM'}\",\n",
              "       \"{'APPTO', 'APPRES', 'APPOUT', 'KERNMNTF', 'APPCHILD', 'APPREAD', 'KERNMNT', 'APPSEV', 'APPBUSY', 'APPUNAV', '-'}\",\n",
              "       \"{'APPTO', 'APPRES', 'KERNMNTF', 'APPCHILD', 'APPREAD', 'KERNMNT', 'APPSEV', 'APPBUSY', 'APPUNAV', '-'}\",\n",
              "       \"{'KERNSTOR', 'KERNRTSP', 'KERNTERM', 'KERNDTLB', '-'}\",\n",
              "       \"{'KERNSTOR', 'KERNDTLB', '-', 'KERNTERM'}\",\n",
              "       \"{'KERNCON', 'APPTO', 'APPRES', 'KERNMNTF', 'APPCHILD', 'APPREAD', 'KERNMNT', 'APPSEV', 'APPBUSY', 'APPUNAV', 'KERNSOCK', '-'}\",\n",
              "       \"{'KERNSTOR', '-', 'APPTORUS'}\", \"{'KERNMC', 'KERNSTOR', '-'}\",\n",
              "       \"{'APPRES', 'APPOUT', 'KERNMNTF', 'APPCHILD', 'APPREAD', 'KERNMNT', 'APPSEV', 'APPBUSY', 'APPUNAV', '-'}\",\n",
              "       \"{'APPTO', 'APPRES', 'APPOUT', 'KERNMNTF', 'APPCHILD', 'APPREAD', 'KERNMNT', 'APPSEV', 'APPBUSY', 'APPUNAV', 'KERNSOCK', '-'}\",\n",
              "       \"{'APPTO', 'APPRES', 'APPOUT', 'KERNMNTF', 'APPCHILD', 'APPREAD', 'APPSEV', 'APPBUSY', 'APPUNAV', '-'}\",\n",
              "       \"{'KERNMC', 'KERNRTSP', 'KERNSTOR', '-'}\",\n",
              "       \"{'APPTO', 'APPRES', 'KERNMNTF', 'APPCHILD', 'APPREAD', 'APPSEV', 'APPBUSY', 'APPUNAV', '-'}\",\n",
              "       \"{'APPTO', 'APPRES', 'APPOUT', 'KERNMNTF', 'APPCHILD', 'APPREAD', 'APPSEV', 'KERNMNT', 'APPBUSY', 'APPUNAV', '-'}\",\n",
              "       \"{'KERNCON', 'APPTO', 'APPRES', 'APPOUT', 'KERNMNTF', 'APPCHILD', 'APPREAD', 'APPSEV', 'APPBUSY', 'APPUNAV', 'KERNSOCK', '-'}\",\n",
              "       \"{'KERNSTOR', 'KERNPROG', 'KERNRTSP', '-'}\",\n",
              "       \"{'KERNSTOR', 'KERNRTSP', 'KERNTERM', 'KERNRTSA', 'KERNMICRO', '-'}\",\n",
              "       \"{'APPTO', 'APPRES', 'KERNMNTF', 'APPCHILD', 'APPREAD', 'APPSEV', 'APPBUSY', 'APPUNAV', 'KERNSOCK', '-'}\",\n",
              "       \"{'APPRES', 'APPOUT', 'KERNMNTF', 'APPCHILD', 'APPREAD', 'APPSEV', 'APPBUSY', 'APPUNAV', '-'}\",\n",
              "       \"{'MONILL', '-'}\",\n",
              "       \"{'KERNSTOR', 'KERNRTSP', 'KERNTERM', '-', 'KERNMC'}\",\n",
              "       \"{'APPRES', 'KERNMNTF', 'APPCHILD', 'APPREAD', 'APPSEV', 'APPBUSY', 'APPUNAV', '-'}\",\n",
              "       \"{'MONPOW', '-'}\",\n",
              "       \"{'KERNCON', 'APPTO', 'APPRES', 'KERNMNTF', 'APPCHILD', 'APPREAD', 'APPSEV', 'APPBUSY', 'APPUNAV', 'KERNSOCK', '-'}\",\n",
              "       \"{'APPRES', 'APPOUT', 'KERNMNTF', 'APPCHILD', 'APPREAD', 'APPSEV', 'KERNMNT', 'KERNPAN', 'APPBUSY', 'APPUNAV', '-'}\",\n",
              "       \"{'APPTO', 'APPRES', 'KERNMNTF', 'APPCHILD', 'APPREAD', 'APPSEV', 'KERNMNT', 'APPBUSY', 'APPUNAV', 'KERNSOCK', '-'}\",\n",
              "       \"{'APPTO', 'KERNMNTF', 'APPCHILD', 'APPREAD', 'APPSEV', 'APPBUSY', 'APPUNAV', 'KERNSOCK', '-'}\",\n",
              "       \"{'KERNSTOR', 'KERNMICRO', '-'}\",\n",
              "       \"{'APPTO', 'APPRES', 'APPOUT', 'KERNMNTF', 'APPCHILD', 'APPREAD', 'APPSEV', 'KERNPAN', 'APPBUSY', 'APPUNAV', '-'}\",\n",
              "       \"{'APPTO', 'APPRES', 'APPOUT', 'KERNMNTF', 'APPCHILD', 'APPREAD', 'APPSEV', 'APPBUSY', 'APPUNAV', 'KERNSOCK', '-'}\",\n",
              "       \"{'APPTO', 'APPRES', 'KERNMNTF', 'APPCHILD', 'APPREAD', 'APPSEV', 'KERNMNT', 'APPBUSY', 'APPUNAV', '-'}\",\n",
              "       \"{'APPTO', 'APPRES', 'KERNNOETH', 'KERNMNTF', 'APPCHILD', 'APPREAD', 'APPSEV', 'KERNMNT', 'APPBUSY', 'APPUNAV', '-'}\",\n",
              "       \"{'APPTO', 'APPRES', 'APPOUT', 'KERNMNTF', 'APPCHILD', 'APPREAD', 'APPSEV', 'KERNMNT', 'APPBUSY', 'APPUNAV', 'KERNSOCK', '-'}\",\n",
              "       \"{'MONNULL', 'MONPOW', '-'}\", \"{'LINKDISC'}\",\n",
              "       \"{'APPTO', 'APPOUT', 'KERNMNTF', 'APPCHILD', 'APPREAD', 'APPSEV', 'KERNMNT', 'APPBUSY', 'APPUNAV', '-'}\",\n",
              "       \"{'APPTO', 'APPOUT', 'KERNMNTF', 'APPCHILD', 'APPREAD', 'APPSEV', 'APPBUSY', 'APPUNAV', '-'}\",\n",
              "       \"{'APPTO', 'APPOUT', 'KERNMNTF', 'APPCHILD', 'APPREAD', 'KERNMNT', 'APPSEV', 'APPBUSY', 'APPUNAV', '-'}\",\n",
              "       \"{'APPRES', 'APPOUT', 'KERNMNTF', 'APPCHILD', 'APPREAD', 'APPSEV', 'KERNMNT', 'APPBUSY', 'APPUNAV', '-'}\",\n",
              "       \"{'KERNMC', 'KERNSTOR', '-', 'KERNTERM'}\",\n",
              "       \"{'KERNSTOR', 'KERNDTLB', '-'}\",\n",
              "       \"{'APPTO', 'APPRES', 'KERNMNTF', 'APPSEV', 'APPREAD', 'APPBUSY', 'APPUNAV', 'KERNMICRO', '-'}\",\n",
              "       \"{'APPTO', 'APPRES', 'APPOUT', 'KERNMNTF', 'APPSEV', 'APPREAD', 'APPBUSY', 'APPUNAV', 'KERNMICRO', '-'}\",\n",
              "       \"{'APPTO', 'APPRES', 'APPOUT', 'KERNMNTF', 'APPSEV', 'APPREAD', 'APPBUSY', 'APPUNAV', 'KERNMICRO', 'KERNSOCK', '-'}\",\n",
              "       \"{'KERNSTOR', 'KERNRTSP', 'KERNDTLB', '-', 'KERNMC'}\",\n",
              "       \"{'APPTO', 'APPRES', 'KERNMNTF', 'APPSEV', 'APPREAD', 'KERNMNT', 'APPBUSY', 'APPUNAV', 'KERNMICRO', '-'}\",\n",
              "       \"{'APPTO', 'APPRES', 'APPOUT', 'KERNMNTF', 'APPSEV', 'APPREAD', 'KERNMNT', 'APPBUSY', 'APPUNAV', 'KERNMICRO', '-'}\",\n",
              "       \"{'APPTO', 'APPRES', 'APPOUT', 'KERNMNTF', 'APPSEV', 'APPREAD', 'KERNMNT', 'APPBUSY', 'APPUNAV', '-'}\",\n",
              "       \"{'APPTO', 'APPRES', 'APPOUT', 'KERNMNTF', 'APPREAD', 'KERNMNT', 'APPSEV', 'KERNPAN', 'APPBUSY', 'APPUNAV', '-'}\",\n",
              "       \"{'APPTO', 'APPRES', 'KERNMNTF', 'APPREAD', 'KERNMNT', 'APPSEV', 'APPBUSY', 'APPUNAV', 'KERNMICRO', '-'}\",\n",
              "       \"{'APPTO', 'APPRES', 'APPOUT', 'KERNMNTF', 'APPREAD', 'KERNMNT', 'APPSEV', 'APPBUSY', 'APPUNAV', 'KERNMICRO', '-'}\",\n",
              "       \"{'APPTO', 'APPRES', 'APPOUT', 'KERNMNTF', 'APPREAD', 'KERNMNT', 'APPSEV', 'APPBUSY', 'APPUNAV', 'KERNSOCK', 'KERNMICRO', '-'}\",\n",
              "       \"{'APPTO', 'APPRES', 'APPOUT', 'KERNMNTF', 'APPSEV', 'APPREAD', 'APPBUSY', 'APPUNAV', '-'}\",\n",
              "       \"{'APPRES', 'KERNMNTF', 'APPSEV', 'APPREAD', 'APPBUSY', 'APPUNAV', '-'}\",\n",
              "       \"{'APPTO', 'APPRES', 'KERNMNTF', 'APPSEV', 'APPREAD', 'APPBUSY', 'APPUNAV', 'KERNSOCK', '-'}\",\n",
              "       \"{'APPTO', 'APPRES', 'APPOUT', 'KERNMNTF', 'APPREAD', 'APPSEV', 'APPBUSY', 'APPUNAV', 'KERNMICRO', '-'}\",\n",
              "       \"{'APPTO', 'APPRES', 'KERNMNTF', 'APPSEV', 'APPREAD', 'APPBUSY', 'APPUNAV', '-'}\",\n",
              "       \"{'APPTO', 'APPRES', 'APPOUT', 'KERNMNTF', 'APPREAD', 'KERNMNT', 'APPSEV', 'APPBUSY', 'APPUNAV', '-'}\",\n",
              "       \"{'LINKPAP'}\", \"{'KERNRTSP', '-'}\", \"{'-', 'KERNTERM'}\",\n",
              "       \"{'KERNRTSP', 'KERNDTLB', '-', 'KERNTERM'}\",\n",
              "       \"{'KERNRTSP', 'KERNDTLB', '-'}\",\n",
              "       \"{'APPRES', 'APPOUT', 'KERNMNTF', 'APPSEV', 'APPREAD', 'APPBUSY', 'APPUNAV', 'KERNMICRO', '-'}\",\n",
              "       \"{'KERNMC', 'KERNRTSP', '-'}\",\n",
              "       \"{'APPTO', 'APPRES', 'APPOUT', 'KERNMNTF', 'APPREAD', 'APPSEV', 'KERNPAN', 'APPBUSY', 'APPUNAV', 'KERNSOCK', 'KERNMICRO', '-'}\",\n",
              "       \"{'KERNMC', '-'}\",\n",
              "       \"{'APPTO', 'APPRES', 'APPOUT', 'KERNMNTF', 'APPREAD', 'APPSEV', 'KERNMNT', 'APPBUSY', 'APPUNAV', 'KERNMICRO', 'APPALLOC', '-'}\",\n",
              "       \"{'APPTO', 'APPRES', 'APPOUT', 'KERNMNTF', 'APPREAD', 'KERNMNT', 'APPSEV', 'APPBUSY', 'APPUNAV', 'APPALLOC', '-'}\",\n",
              "       \"{'APPTO', 'APPRES', 'APPOUT', 'KERNMNTF', 'APPREAD', 'APPSEV', 'KERNMNT', 'APPBUSY', 'APPUNAV', 'APPALLOC', '-'}\",\n",
              "       \"{'APPRES', 'APPOUT', 'KERNMNTF', 'APPREAD', 'KERNMNT', 'APPSEV', 'APPBUSY', 'APPUNAV', 'KERNMICRO', 'APPALLOC', '-'}\",\n",
              "       \"{'APPTO', 'APPRES', 'KERNMNTF', 'APPREAD', 'APPSEV', 'KERNMNT', 'APPBUSY', 'APPUNAV', 'KERNMICRO', 'APPALLOC', '-'}\",\n",
              "       \"{'APPTO', 'APPRES', 'APPOUT', 'KERNMNTF', 'APPREAD', 'KERNMNT', 'APPSEV', 'APPBUSY', 'APPUNAV', 'KERNSOCK', 'APPALLOC', '-', 'KERNMICRO'}\",\n",
              "       \"{'APPTO', 'APPRES', 'KERNMNTF', 'APPREAD', 'APPSEV', 'APPBUSY', 'APPUNAV', 'KERNSOCK', '-'}\",\n",
              "       \"{'APPTO', 'APPRES', 'APPOUT', 'KERNMNTF', 'APPREAD', 'APPSEV', 'APPBUSY', 'APPUNAV', 'APPALLOC', '-'}\",\n",
              "       \"{'APPTO', 'APPRES', 'KERNMNTF', 'APPREAD', 'KERNMNT', 'APPSEV', 'APPBUSY', 'APPUNAV', 'APPALLOC', '-'}\",\n",
              "       \"{'KERNMC', '-', 'KERNTERM'}\",\n",
              "       \"{'APPTO', 'APPRES', 'KERNMNTF', 'APPREAD', 'APPSEV', 'APPBUSY', 'APPUNAV', 'APPALLOC', '-'}\",\n",
              "       \"{'APPTO', 'APPRES', 'APPOUT', 'KERNMNTF', 'APPREAD', 'APPSEV', 'KERNPAN', 'APPBUSY', 'APPUNAV', 'APPALLOC', '-'}\",\n",
              "       \"{'APPTO', 'APPRES', 'APPOUT', 'KERNMNTF', 'APPREAD', 'APPSEV', 'APPBUSY', 'APPUNAV', 'KERNMICRO', 'APPALLOC', '-'}\",\n",
              "       \"{'APPTO', 'APPRES', 'APPOUT', 'KERNMNTF', 'APPREAD', 'APPSEV', 'APPBUSY', 'APPUNAV', 'KERNMICRO', 'APPALLOC', '-', 'KERNSOCK'}\",\n",
              "       \"{'APPTO', 'APPRES', 'KERNMNTF', 'APPREAD', 'KERNMNT', 'APPSEV', 'KERNPAN', 'APPBUSY', 'APPUNAV', 'KERNMICRO', '-'}\",\n",
              "       \"{'APPRES', 'APPOUT', 'KERNMNTF', 'APPSEV', 'APPREAD', 'KERNMNT', 'APPBUSY', 'APPUNAV', 'KERNMICRO', '-'}\",\n",
              "       \"{'APPTO', 'KERNMNTF', 'APPREAD', 'KERNMNT', 'APPSEV', 'APPBUSY', 'APPUNAV', 'KERNMICRO', '-'}\",\n",
              "       \"{'APPRES', 'APPOUT', 'KERNMNTF', 'APPREAD', 'KERNMNT', 'APPSEV', 'APPBUSY', 'APPUNAV', 'KERNMICRO', '-'}\",\n",
              "       \"{'APPRES', 'KERNMNTF', 'APPSEV', 'APPREAD', 'APPBUSY', 'APPUNAV', 'KERNMICRO', '-'}\",\n",
              "       \"{'APPTO', 'APPRES', 'KERNMNTF', 'APPSEV', 'APPREAD', 'APPBUSY', 'APPUNAV', 'KERNMICRO', 'KERNSOCK', '-'}\",\n",
              "       \"{'APPRES', 'APPOUT', 'KERNMNTF', 'APPSEV', 'APPREAD', 'APPBUSY', 'APPUNAV', '-'}\",\n",
              "       \"{'APPTO', 'APPRES', 'APPOUT', 'KERNMNTF', 'APPREAD', 'KERNMNT', 'APPSEV', 'APPBUSY', 'APPUNAV', 'KERNSOCK', '-'}\",\n",
              "       \"{'APPTO', 'APPRES', 'APPOUT', 'KERNMNTF', 'APPREAD', 'APPSEV', 'KERNMNT', 'APPBUSY', 'APPUNAV', 'KERNSOCK', '-'}\",\n",
              "       \"{'KERNSTOR', 'KERNRTSP', 'KERNPROG', '-', 'KERNMC'}\",\n",
              "       \"{'KERNDTLB', '-'}\",\n",
              "       \"{'APPTO', 'APPRES', 'KERNMNTF', 'APPREAD', 'KERNMNT', 'APPSEV', 'APPBUSY', 'APPUNAV', 'KERNMICRO', 'APPALLOC', '-'}\",\n",
              "       \"{'APPTO', 'APPRES', 'APPOUT', 'KERNMNTF', 'APPREAD', 'KERNMNT', 'APPSEV', 'APPBUSY', 'APPUNAV', 'KERNMICRO', 'APPALLOC', '-'}\",\n",
              "       \"{'KERNMC', 'KERNRTSP', '-', 'KERNTERM'}\",\n",
              "       \"{'KERNBIT', 'KERNRTSP', '-'}\", \"{'KERNDTLB', '-', 'KERNTERM'}\",\n",
              "       \"{'KERNMC', 'KERNRTSP', 'KERNDTLB', '-'}\",\n",
              "       \"{'APPTO', 'APPRES', 'KERNMNTF', 'APPREAD', 'APPSEV', 'KERNMNT', 'APPBUSY', 'APPUNAV', 'APPALLOC', '-'}\",\n",
              "       \"{'APPTO', 'APPRES', 'APPOUT', 'KERNMNTF', 'APPREAD', 'KERNMNT', 'APPSEV', 'APPBUSY', 'APPUNAV', 'KERNSOCK', 'APPALLOC', '-'}\",\n",
              "       \"{'APPRES', 'APPOUT', 'KERNMNTF', 'APPREAD', 'APPSEV', 'APPBUSY', 'APPUNAV', 'KERNMICRO', 'APPALLOC', '-'}\",\n",
              "       \"{'APPTO', 'APPRES', 'APPOUT', 'KERNMNTF', 'APPREAD', 'KERNMNT', 'APPSEV', 'APPBUSY', 'APPUNAV', 'KERNMICRO', 'APPALLOC', '-', 'KERNSOCK'}\",\n",
              "       \"{'APPTO', 'APPRES', 'KERNMNTF', 'APPREAD', 'APPSEV', 'APPBUSY', 'APPUNAV', 'KERNMICRO', 'APPALLOC', '-'}\",\n",
              "       \"{'KERNRTSP', '-', 'KERNTERM'}\",\n",
              "       \"{'APPTO', 'APPRES', 'APPOUT', 'KERNMNTF', 'APPREAD', 'APPSEV', 'APPBUSY', 'APPUNAV', 'KERNSOCK', 'APPALLOC', '-'}\",\n",
              "       \"{'APPTO', 'APPRES', 'APPOUT', 'KERNMNTF', 'APPREAD', 'APPSEV', 'KERNMNT', 'APPBUSY', 'APPUNAV', 'KERNSOCK', 'APPALLOC', '-'}\",\n",
              "       \"{'APPRES', 'APPOUT', 'KERNMNTF', 'APPREAD', 'APPSEV', 'APPBUSY', 'APPUNAV', 'APPALLOC', '-'}\",\n",
              "       \"{'-', 'LINKPAP'}\",\n",
              "       \"{'APPRES', 'APPOUT', 'KERNMNTF', 'APPREAD', 'APPSEV', 'KERNMNT', 'APPBUSY', 'APPUNAV', 'KERNMICRO', 'APPALLOC', '-'}\",\n",
              "       \"{'APPTO', 'APPRES', 'KERNMNTF', 'APPREAD', 'APPSEV', 'KERNMNT', 'APPBUSY', 'APPUNAV', 'KERNMICRO', 'APPALLOC', '-', 'KERNSOCK'}\",\n",
              "       \"{'APPTO', 'APPRES', 'APPOUT', 'KERNMNTF', 'APPSEV', 'KERNMNT', 'APPUNAV', 'KERNMICRO', '-'}\",\n",
              "       \"{'APPTO', 'APPRES', 'KERNMNTF', 'APPSEV', 'KERNMNT', 'APPUNAV', 'KERNMICRO', '-'}\",\n",
              "       \"{'APPTO', 'APPRES', 'KERNMNTF', 'APPSEV', 'KERNMNT', 'APPUNAV', 'KERNMICRO', 'KERNSOCK', '-'}\",\n",
              "       \"{'APPTO', 'APPRES', 'APPOUT', 'KERNMNTF', 'APPSEV', 'APPUNAV', 'KERNMICRO', '-'}\",\n",
              "       \"{'APPTO', 'APPRES', 'KERNMNTF', 'APPSEV', 'APPUNAV', 'KERNMICRO', '-'}\",\n",
              "       \"{'KERNRTSP', 'KERNPROG', '-'}\",\n",
              "       \"{'APPRES', 'KERNMNTF', 'APPSEV', 'APPUNAV', 'KERNMICRO', '-'}\",\n",
              "       \"{'-', 'APPTORUS'}\",\n",
              "       \"{'APPTO', 'APPRES', 'APPOUT', 'KERNMNTF', 'APPSEV', 'APPUNAV', 'KERNSOCK', 'KERNMICRO', '-'}\",\n",
              "       \"{'APPTO', 'APPRES', 'APPOUT', 'KERNMNTF', 'APPSEV', 'KERNMNT', 'APPUNAV', '-'}\",\n",
              "       \"{'APPTO', 'APPRES', 'APPOUT', 'KERNMNTF', 'APPSEV', 'KERNMNT', 'APPUNAV', 'KERNSOCK', '-'}\",\n",
              "       \"{'KERNMC', 'KERNRTSP', 'KERNPROG', '-'}\",\n",
              "       \"{'APPTO', 'APPRES', 'APPOUT', 'KERNMNTF', 'APPSEV', 'APPUNAV', 'KERNMICRO', 'KERNSOCK', '-'}\",\n",
              "       \"{'APPTO', 'APPRES', 'APPOUT', 'KERNMNTF', 'APPSEV', 'KERNPAN', 'APPUNAV', 'KERNMICRO', '-'}\",\n",
              "       \"{'APPTO', 'APPRES', 'APPOUT', 'KERNMNTF', 'APPSEV', 'KERNPAN', 'APPUNAV', '-'}\",\n",
              "       \"{'APPTO', 'APPRES', 'APPOUT', 'KERNMNTF', 'APPSEV', 'APPUNAV', 'KERNSOCK', '-'}\",\n",
              "       \"{'APPTO', 'APPRES', 'APPOUT', 'KERNMNTF', 'APPSEV', 'APPUNAV', '-'}\",\n",
              "       \"{'APPRES', 'APPOUT', 'KERNMNTF', 'APPSEV', 'KERNMNT', 'APPUNAV', '-'}\",\n",
              "       \"{'APPTO', 'APPRES', 'KERNMNTF', 'APPSEV', 'KERNMNT', 'APPUNAV', '-'}\",\n",
              "       \"{'KERNREC', '-', 'KERNTERM'}\",\n",
              "       \"{'APPTO', 'APPRES', 'KERNMNTF', 'APPSEV', 'APPUNAV', '-'}\",\n",
              "       \"{'KERNRTSP', 'KERNTERM', 'KERNREC', '-', 'KERNMC'}\",\n",
              "       \"{'APPTO', 'APPRES', 'APPOUT', 'KERNMNTF', 'APPSEV', 'KERNPAN', 'APPUNAV', 'KERNMICRO', 'KERNSOCK', '-'}\",\n",
              "       \"{'APPRES', 'APPOUT', 'KERNMNTF', 'APPSEV', 'APPUNAV', 'KERNMICRO', '-'}\",\n",
              "       \"{'APPRES', 'KERNMNTF', 'APPSEV', 'APPUNAV', '-'}\",\n",
              "       \"{'-', 'KERNTLBE'}\",\n",
              "       \"{'APPRES', 'APPOUT', 'KERNMNTF', 'APPSEV', 'APPUNAV', '-'}\",\n",
              "       \"{'KERNCON', 'APPTO', 'APPRES', 'KERNMNTF', 'APPSEV', 'APPUNAV', 'KERNMICRO', 'KERNSOCK', '-'}\",\n",
              "       \"{'KERNCON', 'APPTO', 'APPRES', 'KERNMNTF', 'APPSEV', 'KERNMNT', 'APPUNAV', 'KERNMICRO', 'KERNSOCK', '-', 'KERNSERV'}\",\n",
              "       \"{'KERNMICRO', '-'}\", \"{'KERNMICRO', '-', 'KERNTERM'}\",\n",
              "       \"{'KERNMICRO', '-', 'APPTORUS'}\", \"{'KERNMC', 'KERNMICRO', '-'}\",\n",
              "       \"{'APPRES', 'APPOUT', 'KERNMNTF', 'APPSEV', 'KERNMNT', 'APPUNAV', 'KERNMICRO', '-'}\",\n",
              "       \"{'KERNMC', 'KERNRTSP', 'KERNMICRO', '-'}\",\n",
              "       \"{'APPTO', 'APPRES', 'APPOUT', 'KERNMNTF', 'APPSEV', 'KERNMNT', 'APPUNAV', 'KERNMICRO', 'KERNSOCK', '-'}\",\n",
              "       \"{'APPTO', 'APPRES', 'KERNNOETH', 'KERNMNTF', 'APPSEV', 'KERNMNT', 'APPUNAV', 'KERNMICRO', '-'}\",\n",
              "       \"{'MMCS'}\",\n",
              "       \"{'APPTO', 'APPRES', 'APPOUT', 'KERNMNTF', 'APPSEV', 'APPCHILD', 'APPUNAV', 'KERNMICRO', '-'}\",\n",
              "       \"{'APPTO', 'APPRES', 'KERNMNTF', 'APPSEV', 'APPCHILD', 'APPUNAV', 'KERNMICRO', '-'}\",\n",
              "       \"{'APPTO', 'APPRES', 'KERNMNTF', 'APPSEV', 'APPCHILD', 'APPUNAV', 'KERNSOCK', 'KERNMICRO', '-'}\",\n",
              "       \"{'APPRES', 'KERNMNTF', 'APPSEV', 'KERNMNT', 'APPCHILD', 'APPUNAV', 'KERNMICRO', '-'}\",\n",
              "       \"{'APPTO', 'APPRES', 'APPOUT', 'KERNMNTF', 'APPSEV', 'KERNMNT', 'APPCHILD', 'APPUNAV', 'KERNMICRO', '-'}\",\n",
              "       \"{'APPRES', 'APPOUT', 'KERNMNTF', 'APPSEV', 'KERNMNT', 'APPCHILD', 'APPUNAV', 'KERNMICRO', '-'}\",\n",
              "       \"{'APPTO', 'APPRES', 'KERNMNTF', 'APPSEV', 'KERNMNT', 'APPCHILD', 'APPUNAV', 'KERNMICRO', 'KERNSOCK', '-'}\",\n",
              "       \"{'KERNMC', 'KERNREC', '-', 'KERNTERM'}\",\n",
              "       \"{'APPRES', 'APPOUT', 'KERNMNTF', 'APPSEV', 'KERNMNT', 'APPCHILD', 'APPUNAV', '-'}\",\n",
              "       \"{'APPTO', 'APPRES', 'APPOUT', 'KERNMNTF', 'APPSEV', 'KERNMNT', 'APPCHILD', 'APPUNAV', '-'}\",\n",
              "       \"{'APPTO', 'APPRES', 'APPOUT', 'KERNMNTF', 'APPSEV', 'KERNMNT', 'APPCHILD', 'APPUNAV', 'KERNSOCK', 'KERNMICRO', '-'}\",\n",
              "       \"{'KERNTERM', 'KERNREC', '-', 'APPTORUS'}\",\n",
              "       \"{'APPTO', 'APPRES', 'APPOUT', 'KERNMNTF', 'APPSEV', 'APPCHILD', 'KERNPAN', 'APPUNAV', 'KERNMICRO', '-'}\",\n",
              "       \"{'APPRES', 'APPOUT', 'KERNMNTF', 'APPCHILD', 'APPSEV', 'APPUNAV', '-'}\",\n",
              "       \"{'APPTO', 'APPRES', 'APPOUT', 'KERNMNTF', 'APPSEV', 'APPCHILD', 'KERNPAN', 'APPUNAV', '-'}\",\n",
              "       \"{'APPRES', 'APPOUT', 'KERNMNTF', 'APPSEV', 'APPCHILD', 'KERNPAN', 'APPUNAV', 'KERNMICRO', '-'}\",\n",
              "       \"{'APPTO', 'APPRES', 'KERNMNTF', 'APPSEV', 'KERNMNT', 'APPUNAV', 'KERNSOCK', '-'}\",\n",
              "       \"{'APPTO', 'APPOUT', 'KERNMNTF', 'APPSEV', 'APPUNAV', '-'}\",\n",
              "       \"{'KERNRTSP', 'KERNSTOR', 'KERNFLOAT', 'KERNTERM', 'KERNRTSA', 'KERNREC', 'KERNDTLB', '-'}\",\n",
              "       \"{'KERNRTSP', 'KERNREC', '-', 'KERNTERM'}\",\n",
              "       \"{'APPRES', 'KERNMNTF', 'APPSEV', 'KERNMNT', 'APPUNAV', '-'}\",\n",
              "       \"{'LINKBLL'}\", \"{'LINKIAP'}\",\n",
              "       \"{'KERNRTSP', 'KERNTERM', 'KERNDTLB', 'KERNREC', '-'}\",\n",
              "       \"{'KERNRTSP', 'KERNTERM', 'KERNREC', '-', 'KERNEXT'}\",\n",
              "       \"{'KERNCON', 'APPTO', 'APPRES', 'KERNMNTF', 'APPSEV', 'APPUNAV', 'KERNSOCK', 'KERNMICRO', '-'}\",\n",
              "       \"{'APPRES', 'KERNMNTF', 'APPSEV', 'KERNMNT', 'APPUNAV', 'KERNMICRO', '-'}\",\n",
              "       \"{'APPTO', 'APPOUT', 'KERNMNTF', 'APPSEV', 'APPUNAV', 'KERNMICRO', '-'}\",\n",
              "       \"{'APPTO', 'APPRES', 'APPOUT', 'KERNMNTF', 'APPSEV', 'KERNMNT', 'KERNPAN', 'APPUNAV', 'KERNMICRO', '-'}\",\n",
              "       \"{'APPTO', 'APPRES', 'KERNMNTF', 'APPSEV', 'APPUNAV', 'KERNSOCK', 'KERNMICRO', '-'}\",\n",
              "       \"{'APPTO', 'APPRES', 'KERNNOETH', 'KERNMNTF', 'APPSEV', 'KERNMNT', 'APPUNAV', '-'}\",\n",
              "       \"{'KERNCON', 'APPTO', 'APPRES', 'APPOUT', 'KERNMNTF', 'APPSEV', 'KERNMNT', 'APPUNAV', 'KERNSOCK', 'KERNSERV', '-'}\",\n",
              "       \"{'KERNREC', '-'}\", \"{'KERNMC', 'KERNRTSP', '-', 'MMCS'}\",\n",
              "       \"{'APPTO', 'APPRES', 'KERNNOETH', 'KERNMNTF', 'APPSEV', 'APPUNAV', '-'}\",\n",
              "       \"{'APPTO', 'APPRES', 'KERNMNTF', 'APPSEV', 'APPUNAV', 'KERNSOCK', '-'}\"],\n",
              "      dtype=object)"
            ]
          },
          "metadata": {
            "tags": []
          },
          "execution_count": 87
        }
      ]
    },
    {
      "cell_type": "code",
      "metadata": {
        "id": "OJXJFN3YzRae"
      },
      "source": [
        "def create_log_event_sequence(df,window_size=1,step_size=0.2):\n",
        "    #window_size=3 # unit hour\n",
        "    #step_size=0.2 # unit hour\n",
        "    return_df = []\n",
        "    # start time, node, event sequence,label\n",
        "    first_start = df.index.min()\n",
        "    end_time = df.index.max()\n",
        "    #end_time = pd.Timestamp(first_start.timestamp()+1000*3600,unit='s')\n",
        "    start = first_start\n",
        "    print(end_time)\n",
        "    report=0\n",
        "    while True:\n",
        "        report+=1\n",
        "        if report==200:\n",
        "            print(end_time-start, start)\n",
        "            report=0\n",
        "        start = pd.Timestamp(start.timestamp()+step_size*3600,unit='s')\n",
        "        end = pd.Timestamp(start.timestamp()+window_size*3600,unit='s')\n",
        "        tmp_df = df[start : end]\n",
        "        if end_time<=start:\n",
        "            return pd.concat(return_df)\n",
        "        return_df.append(tmp_df[['Label','Node','log_event']]\\\n",
        ".groupby('Node').agg({'Label':set,'log_event':list}).reset_index())\n",
        "        "
      ],
      "execution_count": null,
      "outputs": []
    },
    {
      "cell_type": "code",
      "metadata": {
        "id": "LtQBTh5azRae",
        "outputId": "243febfb-6a6f-4245-89a6-9fa0ab857350"
      },
      "source": [
        "start"
      ],
      "execution_count": null,
      "outputs": [
        {
          "output_type": "error",
          "ename": "NameError",
          "evalue": "name 'start' is not defined",
          "traceback": [
            "\u001b[0;31m---------------------------------------------------------------------------\u001b[0m",
            "\u001b[0;31mNameError\u001b[0m                                 Traceback (most recent call last)",
            "\u001b[0;32m<ipython-input-102-f6fd1656d79b>\u001b[0m in \u001b[0;36m<module>\u001b[0;34m\u001b[0m\n\u001b[0;32m----> 1\u001b[0;31m \u001b[0mstart\u001b[0m\u001b[0;34m\u001b[0m\u001b[0;34m\u001b[0m\u001b[0m\n\u001b[0m",
            "\u001b[0;31mNameError\u001b[0m: name 'start' is not defined"
          ]
        }
      ]
    },
    {
      "cell_type": "code",
      "metadata": {
        "id": "1vD0gGjAzRae",
        "outputId": "c82685eb-583b-4132-b43c-b3540408819c"
      },
      "source": [
        "seq_df = create_log_event_sequence(bgl_df)"
      ],
      "execution_count": null,
      "outputs": [
        {
          "output_type": "stream",
          "text": [
            "2006-01-04 16:00:05\n",
            "213 days 01:29:15 2005-06-05 14:30:50\n",
            "211 days 09:29:15 2005-06-07 06:30:50\n",
            "209 days 17:29:15 2005-06-08 22:30:50\n",
            "208 days 01:29:15 2005-06-10 14:30:50\n",
            "206 days 09:29:15 2005-06-12 06:30:50\n",
            "204 days 17:29:15 2005-06-13 22:30:50\n",
            "203 days 01:29:15 2005-06-15 14:30:50\n",
            "201 days 09:29:15 2005-06-17 06:30:50\n",
            "199 days 17:29:15 2005-06-18 22:30:50\n",
            "198 days 01:29:15 2005-06-20 14:30:50\n",
            "196 days 09:29:15 2005-06-22 06:30:50\n",
            "194 days 17:29:15 2005-06-23 22:30:50\n",
            "193 days 01:29:15 2005-06-25 14:30:50\n",
            "191 days 09:29:15 2005-06-27 06:30:50\n",
            "189 days 17:29:15 2005-06-28 22:30:50\n",
            "188 days 01:29:15 2005-06-30 14:30:50\n",
            "186 days 09:29:15 2005-07-02 06:30:50\n",
            "184 days 17:29:15 2005-07-03 22:30:50\n",
            "183 days 01:29:15 2005-07-05 14:30:50\n",
            "181 days 09:29:15 2005-07-07 06:30:50\n",
            "179 days 17:29:15 2005-07-08 22:30:50\n",
            "178 days 01:29:15 2005-07-10 14:30:50\n",
            "176 days 09:29:15 2005-07-12 06:30:50\n",
            "174 days 17:29:15 2005-07-13 22:30:50\n",
            "173 days 01:29:15 2005-07-15 14:30:50\n",
            "171 days 09:29:15 2005-07-17 06:30:50\n",
            "169 days 17:29:15 2005-07-18 22:30:50\n",
            "168 days 01:29:15 2005-07-20 14:30:50\n",
            "166 days 09:29:15 2005-07-22 06:30:50\n",
            "164 days 17:29:15 2005-07-23 22:30:50\n",
            "163 days 01:29:15 2005-07-25 14:30:50\n",
            "161 days 09:29:15 2005-07-27 06:30:50\n",
            "159 days 17:29:15 2005-07-28 22:30:50\n",
            "158 days 01:29:15 2005-07-30 14:30:50\n",
            "156 days 09:29:15 2005-08-01 06:30:50\n",
            "154 days 17:29:15 2005-08-02 22:30:50\n",
            "153 days 01:29:15 2005-08-04 14:30:50\n",
            "151 days 09:29:15 2005-08-06 06:30:50\n",
            "149 days 17:29:15 2005-08-07 22:30:50\n",
            "148 days 01:29:15 2005-08-09 14:30:50\n",
            "146 days 09:29:15 2005-08-11 06:30:50\n",
            "144 days 17:29:15 2005-08-12 22:30:50\n",
            "143 days 01:29:15 2005-08-14 14:30:50\n",
            "141 days 09:29:15 2005-08-16 06:30:50\n",
            "139 days 17:29:15 2005-08-17 22:30:50\n",
            "138 days 01:29:15 2005-08-19 14:30:50\n",
            "136 days 09:29:15 2005-08-21 06:30:50\n",
            "134 days 17:29:15 2005-08-22 22:30:50\n",
            "133 days 01:29:15 2005-08-24 14:30:50\n",
            "131 days 09:29:15 2005-08-26 06:30:50\n",
            "129 days 17:29:15 2005-08-27 22:30:50\n",
            "128 days 01:29:15 2005-08-29 14:30:50\n",
            "126 days 09:29:15 2005-08-31 06:30:50\n",
            "124 days 17:29:15 2005-09-01 22:30:50\n",
            "123 days 01:29:15 2005-09-03 14:30:50\n",
            "121 days 09:29:15 2005-09-05 06:30:50\n",
            "119 days 17:29:15 2005-09-06 22:30:50\n",
            "118 days 01:29:15 2005-09-08 14:30:50\n",
            "116 days 09:29:15 2005-09-10 06:30:50\n",
            "114 days 17:29:15 2005-09-11 22:30:50\n",
            "113 days 01:29:15 2005-09-13 14:30:50\n",
            "111 days 09:29:15 2005-09-15 06:30:50\n",
            "109 days 17:29:15 2005-09-16 22:30:50\n",
            "108 days 01:29:15 2005-09-18 14:30:50\n",
            "106 days 09:29:15 2005-09-20 06:30:50\n",
            "104 days 17:29:15 2005-09-21 22:30:50\n",
            "103 days 01:29:15 2005-09-23 14:30:50\n",
            "101 days 09:29:15 2005-09-25 06:30:50\n",
            "99 days 17:29:15 2005-09-26 22:30:50\n",
            "98 days 01:29:15 2005-09-28 14:30:50\n",
            "96 days 09:29:15 2005-09-30 06:30:50\n",
            "94 days 17:29:15 2005-10-01 22:30:50\n",
            "93 days 01:29:15 2005-10-03 14:30:50\n",
            "91 days 09:29:15 2005-10-05 06:30:50\n",
            "89 days 17:29:15 2005-10-06 22:30:50\n",
            "88 days 01:29:15 2005-10-08 14:30:50\n",
            "86 days 09:29:15 2005-10-10 06:30:50\n",
            "84 days 17:29:15 2005-10-11 22:30:50\n",
            "83 days 01:29:15 2005-10-13 14:30:50\n",
            "81 days 09:29:15 2005-10-15 06:30:50\n",
            "79 days 17:29:15 2005-10-16 22:30:50\n",
            "78 days 01:29:15 2005-10-18 14:30:50\n",
            "76 days 09:29:15 2005-10-20 06:30:50\n",
            "74 days 17:29:15 2005-10-21 22:30:50\n",
            "73 days 01:29:15 2005-10-23 14:30:50\n",
            "71 days 09:29:15 2005-10-25 06:30:50\n",
            "69 days 17:29:15 2005-10-26 22:30:50\n",
            "68 days 01:29:15 2005-10-28 14:30:50\n",
            "66 days 09:29:15 2005-10-30 06:30:50\n",
            "64 days 17:29:15 2005-10-31 22:30:50\n",
            "63 days 01:29:15 2005-11-02 14:30:50\n",
            "61 days 09:29:15 2005-11-04 06:30:50\n",
            "59 days 17:29:15 2005-11-05 22:30:50\n",
            "58 days 01:29:15 2005-11-07 14:30:50\n",
            "56 days 09:29:15 2005-11-09 06:30:50\n",
            "54 days 17:29:15 2005-11-10 22:30:50\n",
            "53 days 01:29:15 2005-11-12 14:30:50\n",
            "51 days 09:29:15 2005-11-14 06:30:50\n",
            "49 days 17:29:15 2005-11-15 22:30:50\n",
            "48 days 01:29:15 2005-11-17 14:30:50\n",
            "46 days 09:29:15 2005-11-19 06:30:50\n",
            "44 days 17:29:15 2005-11-20 22:30:50\n",
            "43 days 01:29:15 2005-11-22 14:30:50\n",
            "41 days 09:29:15 2005-11-24 06:30:50\n",
            "39 days 17:29:15 2005-11-25 22:30:50\n",
            "38 days 01:29:15 2005-11-27 14:30:50\n",
            "36 days 09:29:15 2005-11-29 06:30:50\n",
            "34 days 17:29:15 2005-11-30 22:30:50\n",
            "33 days 01:29:15 2005-12-02 14:30:50\n",
            "31 days 09:29:15 2005-12-04 06:30:50\n",
            "29 days 17:29:15 2005-12-05 22:30:50\n",
            "28 days 01:29:15 2005-12-07 14:30:50\n",
            "26 days 09:29:15 2005-12-09 06:30:50\n",
            "24 days 17:29:15 2005-12-10 22:30:50\n",
            "23 days 01:29:15 2005-12-12 14:30:50\n",
            "21 days 09:29:15 2005-12-14 06:30:50\n",
            "19 days 17:29:15 2005-12-15 22:30:50\n",
            "18 days 01:29:15 2005-12-17 14:30:50\n",
            "16 days 09:29:15 2005-12-19 06:30:50\n",
            "14 days 17:29:15 2005-12-20 22:30:50\n",
            "13 days 01:29:15 2005-12-22 14:30:50\n",
            "11 days 09:29:15 2005-12-24 06:30:50\n",
            "9 days 17:29:15 2005-12-25 22:30:50\n",
            "8 days 01:29:15 2005-12-27 14:30:50\n",
            "6 days 09:29:15 2005-12-29 06:30:50\n",
            "4 days 17:29:15 2005-12-30 22:30:50\n",
            "3 days 01:29:15 2006-01-01 14:30:50\n",
            "1 days 09:29:15 2006-01-03 06:30:50\n"
          ],
          "name": "stdout"
        }
      ]
    },
    {
      "cell_type": "code",
      "metadata": {
        "id": "7B8rX-2LzRaf",
        "outputId": "eb33e137-22b5-4b1e-eab2-00e5cab573d1"
      },
      "source": [
        "len({'-'}-{'-','f'})"
      ],
      "execution_count": null,
      "outputs": [
        {
          "output_type": "execute_result",
          "data": {
            "text/plain": [
              "0"
            ]
          },
          "metadata": {
            "tags": []
          },
          "execution_count": 115
        }
      ]
    },
    {
      "cell_type": "code",
      "metadata": {
        "id": "x-lHSzDXzRaf"
      },
      "source": [
        "seq_df.Label.astype('str').unique()"
      ],
      "execution_count": null,
      "outputs": []
    },
    {
      "cell_type": "code",
      "metadata": {
        "id": "d_eZ762WzRag"
      },
      "source": [
        "seq_df.Label= seq_df.Label.apply(lambda x: len(x-{'-'}))"
      ],
      "execution_count": null,
      "outputs": []
    },
    {
      "cell_type": "code",
      "metadata": {
        "id": "0F5jfyctzRag"
      },
      "source": [
        "seq_df.to_csv('full_bgl_seq.csv')"
      ],
      "execution_count": null,
      "outputs": []
    },
    {
      "cell_type": "code",
      "metadata": {
        "id": "qV1fQs5GzRag"
      },
      "source": [
        ""
      ],
      "execution_count": null,
      "outputs": []
    }
  ]
}