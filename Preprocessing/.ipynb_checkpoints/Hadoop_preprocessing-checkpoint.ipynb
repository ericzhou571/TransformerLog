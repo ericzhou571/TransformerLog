{
 "cells": [
  {
   "cell_type": "code",
   "execution_count": null,
   "metadata": {
    "colab": {
     "base_uri": "https://localhost:8080/"
    },
    "id": "wi_GXsqWfiXc",
    "outputId": "252e3871-ec80-412e-9945-c52ab3ad94dc"
   },
   "outputs": [
    {
     "name": "stdout",
     "output_type": "stream",
     "text": [
      "Mounted at /content/drive\n"
     ]
    }
   ],
   "source": [
    "\n",
    "\n",
    "\n",
    "import re\n",
    "import pandas as pd\n",
    "import numpy as np\n",
    "import os\n",
    "from tqdm.notebook import tqdm\n",
    "\n",
    "#from google.colab import drive\n",
    "#drive.mount('/content/drive')"
   ]
  },
  {
   "cell_type": "code",
   "execution_count": null,
   "metadata": {
    "id": "j3DZiheVfsJX"
   },
   "outputs": [],
   "source": [
    "# load data\n",
    "import re\n",
    "import pandas as pd\n",
    "#data\n",
    "hadoop = pd.read_csv('/content/drive/MyDrive/hadoop/hadoop.csv')\n",
    "hadoop['app_id'] = hadoop.Label.str.split('#@#').str[0] \n",
    "### remove master node logs\n",
    "###master_nodes = list(hadoop[hadoop.Content.str.contains('Created MRAppMaster for application')].Label.unique())\n",
    "###hadoop = hadoop[~hadoop.Label.isin(master_nodes)].reset_index(drop = True) \n",
    "\n",
    "# only keep master nodes\n",
    "master_nodes = list(hadoop[hadoop.Content.str.contains('Created MRAppMaster for application')].Label.unique())\n",
    "hadoop = hadoop[hadoop.Label.isin(master_nodes)].reset_index(drop = True)\n",
    "\n",
    "#label\n",
    "label = []\n",
    "with open('/content/drive/MyDrive/hadoop/abnormal_label.txt','r') as data:\n",
    "    for line in data:\n",
    "        if re.search('application_[a-zA-Z0-9_]+',line):\n",
    "            label.append(re.search('application_[a-zA-Z0-9_]+',line).group())\n",
    "        else:\n",
    "            label.append(line)\n",
    "\n",
    "label_normal = label[4:7]+label[38:46]\n",
    "label_normal = [i for i in label_normal if re.search(r'application_[0-9_]*',i)]\n",
    "\n",
    "label_abnormal = [x for x in label if x not in label_normal]\n",
    "label_abnormal = [i for i in label_abnormal if re.search(r'application_[0-9_]*',i)]"
   ]
  },
  {
   "cell_type": "code",
   "execution_count": null,
   "metadata": {
    "id": "rHaENR-AQKx5"
   },
   "outputs": [],
   "source": [
    "# train test split\n",
    "train_set = label[4:6] + label[42:46]\n",
    "\n",
    "test_abnormal = label_abnormal\n",
    "\n",
    "test_normal = [x for x in label_normal if x not in train_set]\n",
    "\n",
    "train_df = hadoop[hadoop.app_id.isin(train_set)].reset_index(drop = True)\n",
    "test_abnormal = hadoop[hadoop.app_id.isin(test_abnormal)].reset_index(drop = True)\n",
    "test_normal = hadoop[hadoop.app_id.isin(test_normal)].reset_index(drop = True)"
   ]
  },
  {
   "cell_type": "code",
   "execution_count": null,
   "metadata": {
    "id": "XmV99g6WOpZO"
   },
   "outputs": [],
   "source": [
    "#create txt files\n",
    "def create_file(dataset,save_PATH,f2 = False, Id = 'Id'):\n",
    "    dataset.sort_values('Time',inplace = True)\n",
    "    f1 = dataset.groupby(Id)['Template_id'].agg(lambda x: ' '.join([str(i) for i in x])+'\\n')\n",
    "    if f2:\n",
    "        f2 = dataset.groupby('Id')['diff'].agg(list).apply(lambda x: [i-min(x) for i in x])\n",
    "        f2 = f2.apply((lambda x: ' '.join([str(i) for i in x])+'\\n'))\n",
    "        dataset = f1+'@@'+f2\n",
    "    else:\n",
    "        dataset = f1\n",
    "    dataset = dataset.to_list()\n",
    "    with open(save_PATH, 'w') as data:\n",
    "        for i in dataset:\n",
    "            data.write(i)"
   ]
  },
  {
   "cell_type": "code",
   "execution_count": null,
   "metadata": {
    "id": "N57NynHXPRE5"
   },
   "outputs": [],
   "source": [
    "create_file(train_df,'/content/drive/MyDrive/hadoop/hadoop_train.txt',Id = 'app_id')\n",
    "create_file(test_abnormal,'/content/drive/MyDrive/hadoop/hadoop_test_abnormal.txt',Id = 'app_id')\n",
    "create_file(test_normal,'/content/drive/MyDrive/hadoop/hadoop_test_normal.txt',Id = 'app_id')"
   ]
  }
 ],
 "metadata": {
  "colab": {
   "collapsed_sections": [],
   "name": "Hadoop_preprocessing.ipynb",
   "provenance": []
  },
  "kernelspec": {
   "display_name": "Python 3",
   "language": "python",
   "name": "python3"
  },
  "language_info": {
   "codemirror_mode": {
    "name": "ipython",
    "version": 3
   },
   "file_extension": ".py",
   "mimetype": "text/x-python",
   "name": "python",
   "nbconvert_exporter": "python",
   "pygments_lexer": "ipython3",
   "version": "3.9.5"
  }
 },
 "nbformat": 4,
 "nbformat_minor": 1
}
