{
 "cells": [
  {
   "cell_type": "markdown",
   "metadata": {
    "id": "_p4Ba1uii0Tt"
   },
   "source": [
    "# Preparation "
   ]
  },
  {
   "cell_type": "code",
   "execution_count": null,
   "metadata": {
    "colab": {
     "base_uri": "https://localhost:8080/"
    },
    "id": "yI2yI5nQfLqg",
    "outputId": "b7c37d12-8fef-44df-961f-2d15c4ff4b92"
   },
   "outputs": [
    {
     "name": "stdout",
     "output_type": "stream",
     "text": [
      "Requirement already satisfied: drain3 in /usr/local/lib/python3.7/dist-packages (0.9.6)\n",
      "Requirement already satisfied: jsonpickle==1.5.1 in /usr/local/lib/python3.7/dist-packages (from drain3) (1.5.1)\n",
      "Requirement already satisfied: cachetools==4.2.1 in /usr/local/lib/python3.7/dist-packages (from drain3) (4.2.1)\n",
      "Requirement already satisfied: importlib-metadata in /usr/local/lib/python3.7/dist-packages (from jsonpickle==1.5.1->drain3) (4.6.1)\n",
      "Requirement already satisfied: typing-extensions>=3.6.4 in /usr/local/lib/python3.7/dist-packages (from importlib-metadata->jsonpickle==1.5.1->drain3) (3.7.4.3)\n",
      "Requirement already satisfied: zipp>=0.5 in /usr/local/lib/python3.7/dist-packages (from importlib-metadata->jsonpickle==1.5.1->drain3) (3.5.0)\n"
     ]
    }
   ],
   "source": [
    "!pip install drain3"
   ]
  },
  {
   "cell_type": "code",
   "execution_count": null,
   "metadata": {
    "colab": {
     "base_uri": "https://localhost:8080/"
    },
    "id": "R21YySZszRZh",
    "outputId": "187c1193-8c10-408f-95e9-b8e6aed2f028"
   },
   "outputs": [
    {
     "name": "stdout",
     "output_type": "stream",
     "text": [
      "Mounted at /content/drive\n"
     ]
    }
   ],
   "source": [
    "import re\n",
    "import pandas as pd\n",
    "\n",
    "#from drain3 import TemplateMiner\n",
    "import re\n",
    "#from drain3.template_miner_config import TemplateMinerConfig\n",
    "from multiprocessing import Pool\n",
    "from tqdm import tqdm_notebook\n",
    "from sklearn.metrics import precision_recall_fscore_support\n",
    "\n",
    "#from google.colab import drive\n",
    "#drive.mount('/content/drive')"
   ]
  },
  {
   "cell_type": "code",
   "execution_count": null,
   "metadata": {
    "id": "GWVptY8YX3hS"
   },
   "outputs": [],
   "source": [
    "openstack1 = pd.read_csv('/content/drive/MyDrive/openstack/openstack1.csv')\n",
    "openstack2 = pd.read_csv('/content/drive/MyDrive/openstack/openstack2.csv')\n",
    "openstack_abnormal = pd.read_csv('/content/drive/MyDrive/openstack/abnormal.csv')"
   ]
  },
  {
   "cell_type": "code",
   "execution_count": null,
   "metadata": {
    "id": "1zL_CvRZYCf-"
   },
   "outputs": [],
   "source": [
    "openstack1.rename(columns={'Label':'Id'},inplace=True)\n",
    "openstack2.rename(columns={'Label':'Id'},inplace=True)\n",
    "openstack_abnormal.rename(columns={'Label':'Id'},inplace=True)"
   ]
  },
  {
   "cell_type": "code",
   "execution_count": null,
   "metadata": {
    "id": "Oter1tVUhKz6"
   },
   "outputs": [],
   "source": [
    "m = []\n",
    "m.append(openstack1)\n",
    "m.append(openstack2)\n",
    "m.append(openstack_abnormal)\n",
    "\n",
    "for df in m:\n",
    "    df['sub_content'] = df['Content'].str.replace(r'\\[?instance:? [a-zA-Z0-9\\-]+\\]?','instance_id')\n",
    "    df['sub_content'] = df['sub_content'].str.replace(r\"\\d{1,3}\\.\\d{1,3}\\.\\d{1,3}\\.\\d{1,3}[^0-9]\", 'IP')\n",
    "    df['x'] = 0"
   ]
  },
  {
   "cell_type": "code",
   "execution_count": null,
   "metadata": {
    "id": "xqKrHlv3iWPd"
   },
   "outputs": [],
   "source": []
  },
  {
   "cell_type": "code",
   "execution_count": null,
   "metadata": {
    "id": "GZ51ESPXXWaK"
   },
   "outputs": [],
   "source": [
    "tc = TemplateMinerConfig()\n",
    "tc.load('./drive/MyDrive/hdfs/drain3_BGL.ini') # this is config file, use the same setting for both BGL and Thunderbird \n",
    "tc.drain_extra_delimiters = ['\\\"']\n",
    "tc.drain_depth = 6\n",
    "tm=TemplateMiner(config=tc)\n",
    "\n",
    "for df in m:\n",
    "    df['Template_id'] = df['sub_content'].apply(lambda x: tm.add_log_message(x)['cluster_id'] )\n",
    "    df['x'] = 1\n",
    "for df in m:\n",
    "    df['Template_id'] = df['sub_content'].apply(lambda x: tm.add_log_message(x)['cluster_id'] )\n",
    "    df['x'] = 2\n",
    "\n",
    "templates = [' '.join(tm.drain.id_to_cluster[i+1].log_template_tokens) for i in range(len(tm.drain.id_to_cluster))]\n",
    "\n",
    "for df in m:\n",
    "    df['Template_string'] = df['Template_id'].apply(lambda x: templates[x-1])\n",
    "\n"
   ]
  },
  {
   "cell_type": "code",
   "execution_count": null,
   "metadata": {
    "id": "ETVCrk6Xn4fw"
   },
   "outputs": [],
   "source": [
    "\n",
    "for df in m:\n",
    "    df['Time'] = pd.to_datetime(df['Time'], format = '%H:%M:%S.%f')\n",
    "    df['diff'] = df['Time'].sub(df['Time'][0]).dt.total_seconds().mul(1000).astype(int)"
   ]
  },
  {
   "cell_type": "code",
   "execution_count": null,
   "metadata": {
    "id": "YhAkLrG-Y5mY"
   },
   "outputs": [],
   "source": [
    "#create txt files\n",
    "def create_file(dataset,save_PATH,f2 = False):\n",
    "    dataset.sort_values('Time',inplace = True)\n",
    "    f1 = dataset.groupby('Id')['Template_id'].agg(lambda x: ' '.join([str(i) for i in x])+'\\n')\n",
    "    if f2:\n",
    "        f2 = dataset.groupby('Id')['diff'].agg(list).apply(lambda x: [i-min(x) for i in x])\n",
    "        f2 = f2.apply((lambda x: ' '.join([str(i) for i in x])+'\\n'))\n",
    "        dataset = f1+'@@'+f2\n",
    "    else:\n",
    "        dataset = f1\n",
    "    dataset = dataset.to_list()\n",
    "    with open(save_PATH, 'w') as data:\n",
    "        for i in dataset:\n",
    "            data.write(i)"
   ]
  },
  {
   "cell_type": "code",
   "execution_count": null,
   "metadata": {
    "id": "8chQSCbHcTcu"
   },
   "outputs": [],
   "source": [
    "create_file(openstack1,'/content/drive/MyDrive/openstack/openstack_train.txt')\n",
    "create_file(openstack2,'/content/drive/MyDrive/openstack/openstack_test_normal.txt')\n",
    "create_file(openstack_abnormal,'/content/drive/MyDrive/openstack/openstack_test_abnormal.txt')"
   ]
  },
  {
   "cell_type": "code",
   "execution_count": null,
   "metadata": {
    "colab": {
     "background_save": true
    },
    "id": "675Dhjz0DYFx"
   },
   "outputs": [],
   "source": [
    "def countlen(path):\n",
    "    m = 0\n",
    "    with open(path) as data:\n",
    "        for i in data.readlines():\n",
    "            m+=1\n",
    "    print(m)"
   ]
  },
  {
   "cell_type": "code",
   "execution_count": null,
   "metadata": {
    "id": "VuWpIvvgdwyh"
   },
   "outputs": [],
   "source": [
    "a = set([])"
   ]
  },
  {
   "cell_type": "code",
   "execution_count": null,
   "metadata": {
    "id": "qV1fQs5GzRag"
   },
   "outputs": [],
   "source": [
    "for i in openstack1.groupby('Id')['Template_id'].agg(list).to_list():\n",
    "    a.update(i)\n",
    "\n",
    "for i in openstack2.groupby('Id')['Template_id'].agg(list).to_list():\n",
    "    a.update(i)\n",
    "\n",
    "for i in openstack_abnormal.groupby('Id')['Template_id'].agg(list).to_list():\n",
    "    a.update(i)"
   ]
  },
  {
   "cell_type": "code",
   "execution_count": null,
   "metadata": {
    "colab": {
     "base_uri": "https://localhost:8080/"
    },
    "id": "I8gw1wv2d9uV",
    "outputId": "fcc325b2-e2ab-46fc-eaee-56811d47595a"
   },
   "outputs": [
    {
     "name": "stdout",
     "output_type": "stream",
     "text": [
      "22\n"
     ]
    }
   ],
   "source": [
    "if len(a)-int(max(a))==0:\n",
    "    print(max(a))\n",
    "# there 22 diffferent tokens"
   ]
  },
  {
   "cell_type": "code",
   "execution_count": null,
   "metadata": {
    "id": "VEB9t0sleoIF"
   },
   "outputs": [],
   "source": []
  }
 ],
 "metadata": {
  "colab": {
   "collapsed_sections": [],
   "machine_shape": "hm",
   "name": "Openstack_preprocessing.ipynb",
   "provenance": []
  },
  "kernelspec": {
   "display_name": "Python 3",
   "language": "python",
   "name": "python3"
  },
  "language_info": {
   "codemirror_mode": {
    "name": "ipython",
    "version": 3
   },
   "file_extension": ".py",
   "mimetype": "text/x-python",
   "name": "python",
   "nbconvert_exporter": "python",
   "pygments_lexer": "ipython3",
   "version": "3.9.5"
  }
 },
 "nbformat": 4,
 "nbformat_minor": 1
}
